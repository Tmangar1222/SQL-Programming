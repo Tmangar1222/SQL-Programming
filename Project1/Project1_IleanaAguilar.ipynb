{
    "metadata": {
        "kernelspec": {
            "display_name": "SQL",
            "language": "sql",
            "name": "SQL"
        },
        "language_info": {
            "name": "sql",
            "version": ""
        }
    },
    "nbformat_minor": 2,
    "nbformat": 4,
    "cells": [
        {
            "cell_type": "markdown",
            "source": [
                "# MY TOP 3"
            ],
            "metadata": {
                "azdata_cell_guid": "803b56b9-3bf7-40fb-bc78-126fff34adc0"
            },
            "attachments": {}
        },
        {
            "cell_type": "markdown",
            "source": [
                "* * *\n",
                "\n",
                "**Difficulty:** Medium\n",
                "\n",
                "**Proposition:** Retrieve customer details with more than 5 orders.\n",
                "\n",
                "**Table:** Sales.Customer, Sales.Order\n",
                "\n",
                "**Columns:** CustomerID, CustomerCompanyName, and NumberOfOrders from a derived table CustomerOrders that joins Sales.Customer and Sales.Order.\n",
                "\n",
                "**Predicate:**\n",
                "\n",
                "```\n",
                "WHERE NumberOfOrders > 5\n",
                "\n",
                "```\n",
                "\n",
                "This WHERE clause filters the derived table CustomerOrders to only return rows where the NumberOfOrders is greater than 5.\n",
                "\n",
                "**Why did I choose it?**\n",
                "\n",
                "- It was a database I was most familiar with, since I've used it most of the semester so far\n",
                "    \n",
                "- It mimics how a ecommerce queries would look\n",
                "    \n",
                "- The CTE was useful for breaking down the query into simpler, more readable part by performing the join and aggregation to count orders per customer upfront."
            ],
            "metadata": {
                "azdata_cell_guid": "2cb86e89-7bb1-4fd4-b0bb-8ebd84c0f126"
            },
            "attachments": {}
        },
        {
            "cell_type": "code",
            "source": [
                "USE Northwinds2022TSQLV7;\n",
                "WITH\n",
                "  CustomerOrders\n",
                "  AS\n",
                "  (\n",
                "    SELECT\n",
                "      c.CustomerID,\n",
                "      c.CustomerCompanyName,\n",
                "      COUNT(o.OrderID) AS NumberOfOrders\n",
                "    FROM\n",
                "      Sales.Customer c\n",
                "      JOIN Sales.[Order] o ON c.CustomerID = o.CustomerID\n",
                "    GROUP BY\n",
                "    c.CustomerID, c.CustomerCompanyName\n",
                "  )\n",
                "SELECT\n",
                "  CustomerID,\n",
                "  CustomerCompanyName,\n",
                "  NumberOfOrders\n",
                "FROM\n",
                "  CustomerOrders\n",
                "WHERE\n",
                "  CustomerID IN (\n",
                "    SELECT\n",
                "  CustomerID\n",
                "FROM\n",
                "  CustomerOrders\n",
                "WHERE\n",
                "      NumberOfOrders > 5\n",
                "  );\n",
                "  \n",
                "\n",
                "--JSON\n",
                "USE Northwinds2022TSQLV7;\n",
                "WITH\n",
                "  CustomerOrders\n",
                "  AS\n",
                "  (\n",
                "    SELECT\n",
                "      c.CustomerID,\n",
                "      c.CustomerCompanyName,\n",
                "      COUNT(o.OrderID) AS NumberOfOrders\n",
                "    FROM\n",
                "      Sales.Customer c\n",
                "      JOIN Sales.[Order] o ON c.CustomerID = o.CustomerID\n",
                "    GROUP BY\n",
                "    c.CustomerID, c.CustomerCompanyName\n",
                "  )\n",
                "SELECT\n",
                "  CustomerID,\n",
                "  CustomerCompanyName,\n",
                "  NumberOfOrders\n",
                "FROM\n",
                "  CustomerOrders\n",
                "WHERE\n",
                "  CustomerID IN (\n",
                "    SELECT\n",
                "  CustomerID\n",
                "FROM\n",
                "  CustomerOrders\n",
                "WHERE\n",
                "      NumberOfOrders > 5\n",
                "  )\n",
                "FOR JSON PATH, ROOT('CustomerOrdersDetails');\n",
                "\n"
            ],
            "metadata": {
                "azdata_cell_guid": "8bd6b243-fa90-4f54-b3fa-66c6181e7eec",
                "language": "sql"
            },
            "outputs": [
                {
                    "output_type": "display_data",
                    "data": {
                        "text/html": "(63 rows affected)"
                    },
                    "metadata": {}
                },
                {
                    "output_type": "display_data",
                    "data": {
                        "text/html": "(63 rows affected)"
                    },
                    "metadata": {}
                },
                {
                    "output_type": "display_data",
                    "data": {
                        "text/html": "Total execution time: 00:00:00.121"
                    },
                    "metadata": {}
                },
                {
                    "output_type": "execute_result",
                    "metadata": {},
                    "execution_count": 37,
                    "data": {
                        "application/vnd.dataresource+json": {
                            "schema": {
                                "fields": [
                                    {
                                        "name": "CustomerID"
                                    },
                                    {
                                        "name": "CustomerCompanyName"
                                    },
                                    {
                                        "name": "NumberOfOrders"
                                    }
                                ]
                            },
                            "data": [
                                {
                                    "CustomerID": "1",
                                    "CustomerCompanyName": "Customer NRZBB",
                                    "NumberOfOrders": "6"
                                },
                                {
                                    "CustomerID": "3",
                                    "CustomerCompanyName": "Customer KBUDE",
                                    "NumberOfOrders": "7"
                                },
                                {
                                    "CustomerID": "4",
                                    "CustomerCompanyName": "Customer HFBZG",
                                    "NumberOfOrders": "13"
                                },
                                {
                                    "CustomerID": "5",
                                    "CustomerCompanyName": "Customer HGVLZ",
                                    "NumberOfOrders": "18"
                                },
                                {
                                    "CustomerID": "6",
                                    "CustomerCompanyName": "Customer XHXJV",
                                    "NumberOfOrders": "7"
                                },
                                {
                                    "CustomerID": "7",
                                    "CustomerCompanyName": "Customer QXVLA",
                                    "NumberOfOrders": "11"
                                },
                                {
                                    "CustomerID": "9",
                                    "CustomerCompanyName": "Customer RTXGC",
                                    "NumberOfOrders": "17"
                                },
                                {
                                    "CustomerID": "10",
                                    "CustomerCompanyName": "Customer EEALV",
                                    "NumberOfOrders": "14"
                                },
                                {
                                    "CustomerID": "11",
                                    "CustomerCompanyName": "Customer UBHAU",
                                    "NumberOfOrders": "10"
                                },
                                {
                                    "CustomerID": "12",
                                    "CustomerCompanyName": "Customer PSNMQ",
                                    "NumberOfOrders": "6"
                                },
                                {
                                    "CustomerID": "14",
                                    "CustomerCompanyName": "Customer WNMAF",
                                    "NumberOfOrders": "8"
                                },
                                {
                                    "CustomerID": "17",
                                    "CustomerCompanyName": "Customer FEVNN",
                                    "NumberOfOrders": "6"
                                },
                                {
                                    "CustomerID": "19",
                                    "CustomerCompanyName": "Customer RFNQC",
                                    "NumberOfOrders": "8"
                                },
                                {
                                    "CustomerID": "20",
                                    "CustomerCompanyName": "Customer THHDP",
                                    "NumberOfOrders": "30"
                                },
                                {
                                    "CustomerID": "21",
                                    "CustomerCompanyName": "Customer KIDPX",
                                    "NumberOfOrders": "7"
                                },
                                {
                                    "CustomerID": "24",
                                    "CustomerCompanyName": "Customer CYZTN",
                                    "NumberOfOrders": "19"
                                },
                                {
                                    "CustomerID": "25",
                                    "CustomerCompanyName": "Customer AZJED",
                                    "NumberOfOrders": "15"
                                },
                                {
                                    "CustomerID": "27",
                                    "CustomerCompanyName": "Customer WMFEA",
                                    "NumberOfOrders": "6"
                                },
                                {
                                    "CustomerID": "28",
                                    "CustomerCompanyName": "Customer XYUFB",
                                    "NumberOfOrders": "8"
                                },
                                {
                                    "CustomerID": "30",
                                    "CustomerCompanyName": "Customer KSLQF",
                                    "NumberOfOrders": "10"
                                },
                                {
                                    "CustomerID": "31",
                                    "CustomerCompanyName": "Customer YJCBX",
                                    "NumberOfOrders": "9"
                                },
                                {
                                    "CustomerID": "32",
                                    "CustomerCompanyName": "Customer YSIQX",
                                    "NumberOfOrders": "11"
                                },
                                {
                                    "CustomerID": "34",
                                    "CustomerCompanyName": "Customer IBVRG",
                                    "NumberOfOrders": "14"
                                },
                                {
                                    "CustomerID": "35",
                                    "CustomerCompanyName": "Customer UMTLM",
                                    "NumberOfOrders": "18"
                                },
                                {
                                    "CustomerID": "37",
                                    "CustomerCompanyName": "Customer FRXZL",
                                    "NumberOfOrders": "19"
                                },
                                {
                                    "CustomerID": "38",
                                    "CustomerCompanyName": "Customer LJUCA",
                                    "NumberOfOrders": "10"
                                },
                                {
                                    "CustomerID": "39",
                                    "CustomerCompanyName": "Customer GLLAG",
                                    "NumberOfOrders": "14"
                                },
                                {
                                    "CustomerID": "41",
                                    "CustomerCompanyName": "Customer XIIWM",
                                    "NumberOfOrders": "14"
                                },
                                {
                                    "CustomerID": "44",
                                    "CustomerCompanyName": "Customer OXFRU",
                                    "NumberOfOrders": "15"
                                },
                                {
                                    "CustomerID": "46",
                                    "CustomerCompanyName": "Customer XPNIK",
                                    "NumberOfOrders": "14"
                                },
                                {
                                    "CustomerID": "47",
                                    "CustomerCompanyName": "Customer PSQUZ",
                                    "NumberOfOrders": "12"
                                },
                                {
                                    "CustomerID": "48",
                                    "CustomerCompanyName": "Customer DVFMB",
                                    "NumberOfOrders": "8"
                                },
                                {
                                    "CustomerID": "49",
                                    "CustomerCompanyName": "Customer CQRAA",
                                    "NumberOfOrders": "10"
                                },
                                {
                                    "CustomerID": "50",
                                    "CustomerCompanyName": "Customer JYPSC",
                                    "NumberOfOrders": "7"
                                },
                                {
                                    "CustomerID": "51",
                                    "CustomerCompanyName": "Customer PVDZC",
                                    "NumberOfOrders": "13"
                                },
                                {
                                    "CustomerID": "55",
                                    "CustomerCompanyName": "Customer KZQZT",
                                    "NumberOfOrders": "10"
                                },
                                {
                                    "CustomerID": "56",
                                    "CustomerCompanyName": "Customer QNIVZ",
                                    "NumberOfOrders": "10"
                                },
                                {
                                    "CustomerID": "58",
                                    "CustomerCompanyName": "Customer AHXHT",
                                    "NumberOfOrders": "6"
                                },
                                {
                                    "CustomerID": "59",
                                    "CustomerCompanyName": "Customer LOLJO",
                                    "NumberOfOrders": "10"
                                },
                                {
                                    "CustomerID": "61",
                                    "CustomerCompanyName": "Customer WULWD",
                                    "NumberOfOrders": "9"
                                },
                                {
                                    "CustomerID": "62",
                                    "CustomerCompanyName": "Customer WFIZJ",
                                    "NumberOfOrders": "13"
                                },
                                {
                                    "CustomerID": "63",
                                    "CustomerCompanyName": "Customer IRRVL",
                                    "NumberOfOrders": "28"
                                },
                                {
                                    "CustomerID": "65",
                                    "CustomerCompanyName": "Customer NYUHS",
                                    "NumberOfOrders": "18"
                                },
                                {
                                    "CustomerID": "66",
                                    "CustomerCompanyName": "Customer LHANT",
                                    "NumberOfOrders": "12"
                                },
                                {
                                    "CustomerID": "67",
                                    "CustomerCompanyName": "Customer QVEPD",
                                    "NumberOfOrders": "11"
                                },
                                {
                                    "CustomerID": "68",
                                    "CustomerCompanyName": "Customer CCKOT",
                                    "NumberOfOrders": "10"
                                },
                                {
                                    "CustomerID": "70",
                                    "CustomerCompanyName": "Customer TMXGN",
                                    "NumberOfOrders": "6"
                                },
                                {
                                    "CustomerID": "71",
                                    "CustomerCompanyName": "Customer LCOUJ",
                                    "NumberOfOrders": "31"
                                },
                                {
                                    "CustomerID": "72",
                                    "CustomerCompanyName": "Customer AHPOP",
                                    "NumberOfOrders": "9"
                                },
                                {
                                    "CustomerID": "73",
                                    "CustomerCompanyName": "Customer JMIKW",
                                    "NumberOfOrders": "7"
                                },
                                {
                                    "CustomerID": "75",
                                    "CustomerCompanyName": "Customer XOJYP",
                                    "NumberOfOrders": "9"
                                },
                                {
                                    "CustomerID": "76",
                                    "CustomerCompanyName": "Customer SFOGW",
                                    "NumberOfOrders": "12"
                                },
                                {
                                    "CustomerID": "79",
                                    "CustomerCompanyName": "Customer FAPSM",
                                    "NumberOfOrders": "6"
                                },
                                {
                                    "CustomerID": "80",
                                    "CustomerCompanyName": "Customer VONTK",
                                    "NumberOfOrders": "10"
                                },
                                {
                                    "CustomerID": "81",
                                    "CustomerCompanyName": "Customer YQQWW",
                                    "NumberOfOrders": "6"
                                },
                                {
                                    "CustomerID": "83",
                                    "CustomerCompanyName": "Customer ZRNDE",
                                    "NumberOfOrders": "11"
                                },
                                {
                                    "CustomerID": "84",
                                    "CustomerCompanyName": "Customer NRCSK",
                                    "NumberOfOrders": "10"
                                },
                                {
                                    "CustomerID": "86",
                                    "CustomerCompanyName": "Customer SNXOJ",
                                    "NumberOfOrders": "10"
                                },
                                {
                                    "CustomerID": "87",
                                    "CustomerCompanyName": "Customer ZHYOS",
                                    "NumberOfOrders": "15"
                                },
                                {
                                    "CustomerID": "88",
                                    "CustomerCompanyName": "Customer SRQVM",
                                    "NumberOfOrders": "9"
                                },
                                {
                                    "CustomerID": "89",
                                    "CustomerCompanyName": "Customer YBQTI",
                                    "NumberOfOrders": "14"
                                },
                                {
                                    "CustomerID": "90",
                                    "CustomerCompanyName": "Customer XBBVR",
                                    "NumberOfOrders": "7"
                                },
                                {
                                    "CustomerID": "91",
                                    "CustomerCompanyName": "Customer CCFIZ",
                                    "NumberOfOrders": "7"
                                }
                            ]
                        },
                        "text/html": [
                            "<table>",
                            "<tr><th>CustomerID</th><th>CustomerCompanyName</th><th>NumberOfOrders</th></tr>",
                            "<tr><td>1</td><td>Customer NRZBB</td><td>6</td></tr>",
                            "<tr><td>3</td><td>Customer KBUDE</td><td>7</td></tr>",
                            "<tr><td>4</td><td>Customer HFBZG</td><td>13</td></tr>",
                            "<tr><td>5</td><td>Customer HGVLZ</td><td>18</td></tr>",
                            "<tr><td>6</td><td>Customer XHXJV</td><td>7</td></tr>",
                            "<tr><td>7</td><td>Customer QXVLA</td><td>11</td></tr>",
                            "<tr><td>9</td><td>Customer RTXGC</td><td>17</td></tr>",
                            "<tr><td>10</td><td>Customer EEALV</td><td>14</td></tr>",
                            "<tr><td>11</td><td>Customer UBHAU</td><td>10</td></tr>",
                            "<tr><td>12</td><td>Customer PSNMQ</td><td>6</td></tr>",
                            "<tr><td>14</td><td>Customer WNMAF</td><td>8</td></tr>",
                            "<tr><td>17</td><td>Customer FEVNN</td><td>6</td></tr>",
                            "<tr><td>19</td><td>Customer RFNQC</td><td>8</td></tr>",
                            "<tr><td>20</td><td>Customer THHDP</td><td>30</td></tr>",
                            "<tr><td>21</td><td>Customer KIDPX</td><td>7</td></tr>",
                            "<tr><td>24</td><td>Customer CYZTN</td><td>19</td></tr>",
                            "<tr><td>25</td><td>Customer AZJED</td><td>15</td></tr>",
                            "<tr><td>27</td><td>Customer WMFEA</td><td>6</td></tr>",
                            "<tr><td>28</td><td>Customer XYUFB</td><td>8</td></tr>",
                            "<tr><td>30</td><td>Customer KSLQF</td><td>10</td></tr>",
                            "<tr><td>31</td><td>Customer YJCBX</td><td>9</td></tr>",
                            "<tr><td>32</td><td>Customer YSIQX</td><td>11</td></tr>",
                            "<tr><td>34</td><td>Customer IBVRG</td><td>14</td></tr>",
                            "<tr><td>35</td><td>Customer UMTLM</td><td>18</td></tr>",
                            "<tr><td>37</td><td>Customer FRXZL</td><td>19</td></tr>",
                            "<tr><td>38</td><td>Customer LJUCA</td><td>10</td></tr>",
                            "<tr><td>39</td><td>Customer GLLAG</td><td>14</td></tr>",
                            "<tr><td>41</td><td>Customer XIIWM</td><td>14</td></tr>",
                            "<tr><td>44</td><td>Customer OXFRU</td><td>15</td></tr>",
                            "<tr><td>46</td><td>Customer XPNIK</td><td>14</td></tr>",
                            "<tr><td>47</td><td>Customer PSQUZ</td><td>12</td></tr>",
                            "<tr><td>48</td><td>Customer DVFMB</td><td>8</td></tr>",
                            "<tr><td>49</td><td>Customer CQRAA</td><td>10</td></tr>",
                            "<tr><td>50</td><td>Customer JYPSC</td><td>7</td></tr>",
                            "<tr><td>51</td><td>Customer PVDZC</td><td>13</td></tr>",
                            "<tr><td>55</td><td>Customer KZQZT</td><td>10</td></tr>",
                            "<tr><td>56</td><td>Customer QNIVZ</td><td>10</td></tr>",
                            "<tr><td>58</td><td>Customer AHXHT</td><td>6</td></tr>",
                            "<tr><td>59</td><td>Customer LOLJO</td><td>10</td></tr>",
                            "<tr><td>61</td><td>Customer WULWD</td><td>9</td></tr>",
                            "<tr><td>62</td><td>Customer WFIZJ</td><td>13</td></tr>",
                            "<tr><td>63</td><td>Customer IRRVL</td><td>28</td></tr>",
                            "<tr><td>65</td><td>Customer NYUHS</td><td>18</td></tr>",
                            "<tr><td>66</td><td>Customer LHANT</td><td>12</td></tr>",
                            "<tr><td>67</td><td>Customer QVEPD</td><td>11</td></tr>",
                            "<tr><td>68</td><td>Customer CCKOT</td><td>10</td></tr>",
                            "<tr><td>70</td><td>Customer TMXGN</td><td>6</td></tr>",
                            "<tr><td>71</td><td>Customer LCOUJ</td><td>31</td></tr>",
                            "<tr><td>72</td><td>Customer AHPOP</td><td>9</td></tr>",
                            "<tr><td>73</td><td>Customer JMIKW</td><td>7</td></tr>",
                            "<tr><td>75</td><td>Customer XOJYP</td><td>9</td></tr>",
                            "<tr><td>76</td><td>Customer SFOGW</td><td>12</td></tr>",
                            "<tr><td>79</td><td>Customer FAPSM</td><td>6</td></tr>",
                            "<tr><td>80</td><td>Customer VONTK</td><td>10</td></tr>",
                            "<tr><td>81</td><td>Customer YQQWW</td><td>6</td></tr>",
                            "<tr><td>83</td><td>Customer ZRNDE</td><td>11</td></tr>",
                            "<tr><td>84</td><td>Customer NRCSK</td><td>10</td></tr>",
                            "<tr><td>86</td><td>Customer SNXOJ</td><td>10</td></tr>",
                            "<tr><td>87</td><td>Customer ZHYOS</td><td>15</td></tr>",
                            "<tr><td>88</td><td>Customer SRQVM</td><td>9</td></tr>",
                            "<tr><td>89</td><td>Customer YBQTI</td><td>14</td></tr>",
                            "<tr><td>90</td><td>Customer XBBVR</td><td>7</td></tr>",
                            "<tr><td>91</td><td>Customer CCFIZ</td><td>7</td></tr>",
                            "</table>"
                        ]
                    }
                },
                {
                    "output_type": "execute_result",
                    "metadata": {},
                    "execution_count": 37,
                    "data": {
                        "application/vnd.dataresource+json": {
                            "schema": {
                                "fields": [
                                    {
                                        "name": "JSON_F52E2B61-18A1-11d1-B105-00805F49916B"
                                    }
                                ]
                            },
                            "data": [
                                {
                                    "JSON_F52E2B61-18A1-11d1-B105-00805F49916B": "{\"CustomerOrdersDetails\":[{\"CustomerID\":1,\"CustomerCompanyName\":\"Customer NRZBB\",\"NumberOfOrders\":6},{\"CustomerID\":3,\"CustomerCompanyName\":\"Customer KBUDE\",\"NumberOfOrders\":7},{\"CustomerID\":4,\"CustomerCompanyName\":\"Customer HFBZG\",\"NumberOfOrders\":13},{\"CustomerID\":5,\"CustomerCompanyName\":\"Customer HGVLZ\",\"NumberOfOrders\":18},{\"CustomerID\":6,\"CustomerCompanyName\":\"Customer XHXJV\",\"NumberOfOrders\":7},{\"CustomerID\":7,\"CustomerCompanyName\":\"Customer QXVLA\",\"NumberOfOrders\":11},{\"CustomerID\":9,\"CustomerCompanyName\":\"Customer RTXGC\",\"NumberOfOrders\":17},{\"CustomerID\":10,\"CustomerCompanyName\":\"Customer EEALV\",\"NumberOfOrders\":14},{\"CustomerID\":11,\"CustomerCompanyName\":\"Customer UBHAU\",\"NumberOfOrders\":10},{\"CustomerID\":12,\"CustomerCompanyName\":\"Customer PSNMQ\",\"NumberOfOrders\":6},{\"CustomerID\":14,\"CustomerCompanyName\":\"Customer WNMAF\",\"NumberOfOrders\":8},{\"CustomerID\":17,\"CustomerCompanyName\":\"Customer FEVNN\",\"NumberOfOrders\":6},{\"CustomerID\":19,\"CustomerCompanyName\":\"Customer RFNQC\",\"NumberOfOrders\":8},{\"CustomerID\":20,\"CustomerCompanyName\":\"Customer THHDP\",\"NumberOfOrders\":30},{\"CustomerID\":21,\"CustomerCompanyName\":\"Customer KIDPX\",\"NumberOfOrders\":7},{\"CustomerID\":24,\"CustomerCompanyName\":\"Customer CYZTN\",\"NumberOfOrders\":19},{\"CustomerID\":25,\"CustomerCompanyName\":\"Customer AZJED\",\"NumberOfOrders\":15},{\"CustomerID\":27,\"CustomerCompanyName\":\"Customer WMFEA\",\"NumberOfOrders\":6},{\"CustomerID\":28,\"CustomerCompanyName\":\"Customer XYUFB\",\"NumberOfOrders\":8},{\"CustomerID\":30,\"CustomerCompanyName\":\"Customer KSLQF\",\"NumberOfOrders\":10},{\"CustomerID\":31,\"CustomerCompanyName\":\"Customer YJCBX\",\"NumberOfOrders\":9},{\"CustomerID\":32,\"CustomerCompanyName\":\"Customer YSIQX\",\"NumberOfOrders\":11},{\"CustomerID\":34,\"CustomerCompanyName\":\"Customer IBVRG\",\"NumberOfOrders\":14},{\"CustomerID\":35,\"CustomerCompanyName\":\"Customer UMTLM\",\"NumberOfOrders\":18},{\"CustomerID\":37,\"CustomerCompanyName\":\"Customer FRXZL\",\"NumberOfOrders\":19},{\"CustomerID\":38,\"CustomerCompanyName\":\"Customer LJUCA\",\"NumberOfOrders\":10},{\"CustomerID\":39,\"CustomerCompanyName\":\"Customer GLLAG\",\"NumberOfOrders\":14},{\"CustomerID\":41,\"CustomerCompanyName\":\"Customer XIIWM\",\"NumberOfOrders\":14},{\"CustomerID\":44,\"CustomerCompanyName\":\"Customer OXFRU\",\"NumberOfOrders\":15},{\"CustomerID\":46,\"CustomerCompanyName\":\"Customer XPNIK\",\"NumberOfOrders\":14},{\"CustomerID\":47,\"CustomerCompanyName\":\"Customer PSQUZ\",\"NumberOfOrders\":12},{\"CustomerID\":48,\"CustomerCompanyName\":\"Customer DVFMB\",\"NumberOfOrders\":8},{\"CustomerID\":49,\"CustomerCompanyName\":\"Customer CQRAA\",\"NumberOfOrders\":10},{\"CustomerID\":50,\"CustomerCompanyName\":\"Customer JYPSC\",\"NumberOfOrders\":7},{\"CustomerID\":51,\"CustomerCompanyName\":\"Customer PVDZC\",\"NumberOfOrders\":13},{\"CustomerID\":55,\"CustomerCompanyName\":\"Customer KZQZT\",\"NumberOfOrders\":10},{\"CustomerID\":56,\"CustomerCompanyName\":\"Customer QNIVZ\",\"NumberOfOrders\":10},{\"CustomerID\":58,\"CustomerCompanyName\":\"Customer AHXHT\",\"NumberOfOrders\":6},{\"CustomerID\":59,\"CustomerCompanyName\":\"Customer LOLJO\",\"NumberOfOrders\":10},{\"CustomerID\":61,\"CustomerCompanyName\":\"Customer WULWD\",\"NumberOfOrders\":9},{\"CustomerID\":62,\"CustomerCompanyName\":\"Customer WFIZJ\",\"NumberOfOrders\":13},{\"CustomerID\":63,\"CustomerCompanyName\":\"Customer IRRVL\",\"NumberOfOrders\":28},{\"CustomerID\":65,\"CustomerCompanyName\":\"Customer NYUHS\",\"NumberOfOrders\":18},{\"CustomerID\":66,\"CustomerCompanyName\":\"Customer LHANT\",\"NumberOfOrders\":12},{\"CustomerID\":67,\"CustomerCompanyName\":\"Customer QVEPD\",\"NumberOfOrders\":11},{\"CustomerID\":68,\"CustomerCompanyName\":\"Customer CCKOT\",\"NumberOfOrders\":10},{\"CustomerID\":70,\"CustomerCompanyName\":\"Customer TMXGN\",\"NumberOfOrders\":6},{\"CustomerID\":71,\"CustomerCompanyName\":\"Customer LCOUJ\",\"NumberOfOrders\":31},{\"CustomerID\":72,\"CustomerCompanyName\":\"Customer AHPOP\",\"NumberOfOrders\":9},{\"CustomerID\":73,\"CustomerCompanyName\":\"Customer JMIKW\",\"NumberOfOrders\":7},{\"CustomerID\":75,\"CustomerCompanyName\":\"Customer XOJYP\",\"NumberOfOrders\":9},{\"CustomerID\":76,\"CustomerCompanyName\":\"Customer SFOGW\",\"NumberOfOrders\":12},{\"CustomerID\":79,\"CustomerCompanyName\":\"Customer FAPSM\",\"NumberOfOrders\":6},{\"CustomerID\":80,\"CustomerCompanyName\":\"Customer VONTK\",\"NumberOfOrders\":10},{\"CustomerID\":81,\"CustomerCompanyName\":\"Customer YQQWW\",\"NumberOfOrders\":6},{\"CustomerID\":83,\"CustomerCompanyName\":\"Customer ZRNDE\",\"NumberOfOrders\":11},{\"CustomerID\":84,\"CustomerCompanyName\":\"Customer NRCSK\",\"NumberOfOrders\":10},{\"CustomerID\":86,\"CustomerCompanyName\":\"Customer SNXOJ\",\"NumberOfOrders\":10},{\"CustomerID\":87,\"CustomerCompanyName\":\"Customer ZHYOS\",\"NumberOfOrders\":15},{\"CustomerID\":88,\"CustomerCompanyName\":\"Customer SRQVM\",\"NumberOfOrders\":9},{\"CustomerID\":89,\"CustomerCompanyName\":\"Customer YBQTI\",\"NumberOfOrders\":14},{\"CustomerID\":90,\"CustomerCompanyName\":\"Customer XBBVR\",\"NumberOfOrders\":7},{\"CustomerID\":91,\"CustomerCompanyName\":\"Customer CCFIZ\",\"NumberOfOrders\":7}]}"
                                }
                            ]
                        },
                        "text/html": [
                            "<table>",
                            "<tr><th>JSON_F52E2B61-18A1-11d1-B105-00805F49916B</th></tr>",
                            "<tr><td>{&quot;CustomerOrdersDetails&quot;:[{&quot;CustomerID&quot;:1,&quot;CustomerCompanyName&quot;:&quot;Customer NRZBB&quot;,&quot;NumberOfOrders&quot;:6},{&quot;CustomerID&quot;:3,&quot;CustomerCompanyName&quot;:&quot;Customer KBUDE&quot;,&quot;NumberOfOrders&quot;:7},{&quot;CustomerID&quot;:4,&quot;CustomerCompanyName&quot;:&quot;Customer HFBZG&quot;,&quot;NumberOfOrders&quot;:13},{&quot;CustomerID&quot;:5,&quot;CustomerCompanyName&quot;:&quot;Customer HGVLZ&quot;,&quot;NumberOfOrders&quot;:18},{&quot;CustomerID&quot;:6,&quot;CustomerCompanyName&quot;:&quot;Customer XHXJV&quot;,&quot;NumberOfOrders&quot;:7},{&quot;CustomerID&quot;:7,&quot;CustomerCompanyName&quot;:&quot;Customer QXVLA&quot;,&quot;NumberOfOrders&quot;:11},{&quot;CustomerID&quot;:9,&quot;CustomerCompanyName&quot;:&quot;Customer RTXGC&quot;,&quot;NumberOfOrders&quot;:17},{&quot;CustomerID&quot;:10,&quot;CustomerCompanyName&quot;:&quot;Customer EEALV&quot;,&quot;NumberOfOrders&quot;:14},{&quot;CustomerID&quot;:11,&quot;CustomerCompanyName&quot;:&quot;Customer UBHAU&quot;,&quot;NumberOfOrders&quot;:10},{&quot;CustomerID&quot;:12,&quot;CustomerCompanyName&quot;:&quot;Customer PSNMQ&quot;,&quot;NumberOfOrders&quot;:6},{&quot;CustomerID&quot;:14,&quot;CustomerCompanyName&quot;:&quot;Customer WNMAF&quot;,&quot;NumberOfOrders&quot;:8},{&quot;CustomerID&quot;:17,&quot;CustomerCompanyName&quot;:&quot;Customer FEVNN&quot;,&quot;NumberOfOrders&quot;:6},{&quot;CustomerID&quot;:19,&quot;CustomerCompanyName&quot;:&quot;Customer RFNQC&quot;,&quot;NumberOfOrders&quot;:8},{&quot;CustomerID&quot;:20,&quot;CustomerCompanyName&quot;:&quot;Customer THHDP&quot;,&quot;NumberOfOrders&quot;:30},{&quot;CustomerID&quot;:21,&quot;CustomerCompanyName&quot;:&quot;Customer KIDPX&quot;,&quot;NumberOfOrders&quot;:7},{&quot;CustomerID&quot;:24,&quot;CustomerCompanyName&quot;:&quot;Customer CYZTN&quot;,&quot;NumberOfOrders&quot;:19},{&quot;CustomerID&quot;:25,&quot;CustomerCompanyName&quot;:&quot;Customer AZJED&quot;,&quot;NumberOfOrders&quot;:15},{&quot;CustomerID&quot;:27,&quot;CustomerCompanyName&quot;:&quot;Customer WMFEA&quot;,&quot;NumberOfOrders&quot;:6},{&quot;CustomerID&quot;:28,&quot;CustomerCompanyName&quot;:&quot;Customer XYUFB&quot;,&quot;NumberOfOrders&quot;:8},{&quot;CustomerID&quot;:30,&quot;CustomerCompanyName&quot;:&quot;Customer KSLQF&quot;,&quot;NumberOfOrders&quot;:10},{&quot;CustomerID&quot;:31,&quot;CustomerCompanyName&quot;:&quot;Customer YJCBX&quot;,&quot;NumberOfOrders&quot;:9},{&quot;CustomerID&quot;:32,&quot;CustomerCompanyName&quot;:&quot;Customer YSIQX&quot;,&quot;NumberOfOrders&quot;:11},{&quot;CustomerID&quot;:34,&quot;CustomerCompanyName&quot;:&quot;Customer IBVRG&quot;,&quot;NumberOfOrders&quot;:14},{&quot;CustomerID&quot;:35,&quot;CustomerCompanyName&quot;:&quot;Customer UMTLM&quot;,&quot;NumberOfOrders&quot;:18},{&quot;CustomerID&quot;:37,&quot;CustomerCompanyName&quot;:&quot;Customer FRXZL&quot;,&quot;NumberOfOrders&quot;:19},{&quot;CustomerID&quot;:38,&quot;CustomerCompanyName&quot;:&quot;Customer LJUCA&quot;,&quot;NumberOfOrders&quot;:10},{&quot;CustomerID&quot;:39,&quot;CustomerCompanyName&quot;:&quot;Customer GLLAG&quot;,&quot;NumberOfOrders&quot;:14},{&quot;CustomerID&quot;:41,&quot;CustomerCompanyName&quot;:&quot;Customer XIIWM&quot;,&quot;NumberOfOrders&quot;:14},{&quot;CustomerID&quot;:44,&quot;CustomerCompanyName&quot;:&quot;Customer OXFRU&quot;,&quot;NumberOfOrders&quot;:15},{&quot;CustomerID&quot;:46,&quot;CustomerCompanyName&quot;:&quot;Customer XPNIK&quot;,&quot;NumberOfOrders&quot;:14},{&quot;CustomerID&quot;:47,&quot;CustomerCompanyName&quot;:&quot;Customer PSQUZ&quot;,&quot;NumberOfOrders&quot;:12},{&quot;CustomerID&quot;:48,&quot;CustomerCompanyName&quot;:&quot;Customer DVFMB&quot;,&quot;NumberOfOrders&quot;:8},{&quot;CustomerID&quot;:49,&quot;CustomerCompanyName&quot;:&quot;Customer CQRAA&quot;,&quot;NumberOfOrders&quot;:10},{&quot;CustomerID&quot;:50,&quot;CustomerCompanyName&quot;:&quot;Customer JYPSC&quot;,&quot;NumberOfOrders&quot;:7},{&quot;CustomerID&quot;:51,&quot;CustomerCompanyName&quot;:&quot;Customer PVDZC&quot;,&quot;NumberOfOrders&quot;:13},{&quot;CustomerID&quot;:55,&quot;CustomerCompanyName&quot;:&quot;Customer KZQZT&quot;,&quot;NumberOfOrders&quot;:10},{&quot;CustomerID&quot;:56,&quot;CustomerCompanyName&quot;:&quot;Customer QNIVZ&quot;,&quot;NumberOfOrders&quot;:10},{&quot;CustomerID&quot;:58,&quot;CustomerCompanyName&quot;:&quot;Customer AHXHT&quot;,&quot;NumberOfOrders&quot;:6},{&quot;CustomerID&quot;:59,&quot;CustomerCompanyName&quot;:&quot;Customer LOLJO&quot;,&quot;NumberOfOrders&quot;:10},{&quot;CustomerID&quot;:61,&quot;CustomerCompanyName&quot;:&quot;Customer WULWD&quot;,&quot;NumberOfOrders&quot;:9},{&quot;CustomerID&quot;:62,&quot;CustomerCompanyName&quot;:&quot;Customer WFIZJ&quot;,&quot;NumberOfOrders&quot;:13},{&quot;CustomerID&quot;:63,&quot;CustomerCompanyName&quot;:&quot;Customer IRRVL&quot;,&quot;NumberOfOrders&quot;:28},{&quot;CustomerID&quot;:65,&quot;CustomerCompanyName&quot;:&quot;Customer NYUHS&quot;,&quot;NumberOfOrders&quot;:18},{&quot;CustomerID&quot;:66,&quot;CustomerCompanyName&quot;:&quot;Customer LHANT&quot;,&quot;NumberOfOrders&quot;:12},{&quot;CustomerID&quot;:67,&quot;CustomerCompanyName&quot;:&quot;Customer QVEPD&quot;,&quot;NumberOfOrders&quot;:11},{&quot;CustomerID&quot;:68,&quot;CustomerCompanyName&quot;:&quot;Customer CCKOT&quot;,&quot;NumberOfOrders&quot;:10},{&quot;CustomerID&quot;:70,&quot;CustomerCompanyName&quot;:&quot;Customer TMXGN&quot;,&quot;NumberOfOrders&quot;:6},{&quot;CustomerID&quot;:71,&quot;CustomerCompanyName&quot;:&quot;Customer LCOUJ&quot;,&quot;NumberOfOrders&quot;:31},{&quot;CustomerID&quot;:72,&quot;CustomerCompanyName&quot;:&quot;Customer AHPOP&quot;,&quot;NumberOfOrders&quot;:9},{&quot;CustomerID&quot;:73,&quot;CustomerCompanyName&quot;:&quot;Customer JMIKW&quot;,&quot;NumberOfOrders&quot;:7},{&quot;CustomerID&quot;:75,&quot;CustomerCompanyName&quot;:&quot;Customer XOJYP&quot;,&quot;NumberOfOrders&quot;:9},{&quot;CustomerID&quot;:76,&quot;CustomerCompanyName&quot;:&quot;Customer SFOGW&quot;,&quot;NumberOfOrders&quot;:12},{&quot;CustomerID&quot;:79,&quot;CustomerCompanyName&quot;:&quot;Customer FAPSM&quot;,&quot;NumberOfOrders&quot;:6},{&quot;CustomerID&quot;:80,&quot;CustomerCompanyName&quot;:&quot;Customer VONTK&quot;,&quot;NumberOfOrders&quot;:10},{&quot;CustomerID&quot;:81,&quot;CustomerCompanyName&quot;:&quot;Customer YQQWW&quot;,&quot;NumberOfOrders&quot;:6},{&quot;CustomerID&quot;:83,&quot;CustomerCompanyName&quot;:&quot;Customer ZRNDE&quot;,&quot;NumberOfOrders&quot;:11},{&quot;CustomerID&quot;:84,&quot;CustomerCompanyName&quot;:&quot;Customer NRCSK&quot;,&quot;NumberOfOrders&quot;:10},{&quot;CustomerID&quot;:86,&quot;CustomerCompanyName&quot;:&quot;Customer SNXOJ&quot;,&quot;NumberOfOrders&quot;:10},{&quot;CustomerID&quot;:87,&quot;CustomerCompanyName&quot;:&quot;Customer ZHYOS&quot;,&quot;NumberOfOrders&quot;:15},{&quot;CustomerID&quot;:88,&quot;CustomerCompanyName&quot;:&quot;Customer SRQVM&quot;,&quot;NumberOfOrders&quot;:9},{&quot;CustomerID&quot;:89,&quot;CustomerCompanyName&quot;:&quot;Customer YBQTI&quot;,&quot;NumberOfOrders&quot;:14},{&quot;CustomerID&quot;:90,&quot;CustomerCompanyName&quot;:&quot;Customer XBBVR&quot;,&quot;NumberOfOrders&quot;:7},{&quot;CustomerID&quot;:91,&quot;CustomerCompanyName&quot;:&quot;Customer CCFIZ&quot;,&quot;NumberOfOrders&quot;:7}]}</td></tr>",
                            "</table>"
                        ]
                    }
                }
            ],
            "execution_count": 37
        },
        {
            "cell_type": "markdown",
            "source": [
                "***\n",
                "**Difficulty:** Medium\n",
                "\n",
                "**Proposition:** Aggregate average costs and repairs costs per car model, including the total stock count, ordered by stock count in descending order.\n",
                "\n",
                "**Table:** Data.Model, Data.Stock\n",
                "\n",
                "**Columns:**\n",
                "\n",
                "Data.Model: ModelID, ModelName\n",
                "Data.Stock: ModelID, Cost, RepairsCost\n",
                "\n",
                "**Predicate:**\n",
                "\n",
                "```\n",
                "(SELECT COUNT(*) FROM Data.Stock WHERE ModelID = m.ModelID) AS TotalStockCount\n",
                "```\n",
                "\n",
                "This subquery calculates the total stock count for each model by filtering the Data.Stock table based on the ModelID.\n",
                "\n",
                "\n",
                "**Why did I choose it?**\n",
                "\n",
                "- This query memics a car dealership and provides information about the inventory of car models, focusing on the average costs and repairs costs, along with the total stock count\n",
                "\n",
                "- This query also provides real life example of how to provide the financial health and inventory management of a car dealership"
            ],
            "metadata": {
                "azdata_cell_guid": "bd75c71e-8ddd-4336-a0a2-ec409eb5e70d",
                "language": "sql"
            },
            "attachments": {}
        },
        {
            "cell_type": "code",
            "source": [
                "USE PrestigeCars;\n",
                "GO\n",
                "\n",
                "WITH\n",
                "    ModelCosts\n",
                "    AS\n",
                "    (\n",
                "        SELECT\n",
                "            ModelID,\n",
                "            AVG(Cost) AS AvgCost,\n",
                "            AVG(RepairsCost) AS AvgRepairsCost\n",
                "        FROM Data.Stock\n",
                "        GROUP BY ModelID\n",
                "    )\n",
                "\n",
                "SELECT\n",
                "    m.ModelName,\n",
                "    mc.AvgCost,\n",
                "    mc.AvgRepairsCost,\n",
                "    (SELECT COUNT(*)\n",
                "    FROM Data.Stock\n",
                "    WHERE ModelID = m.ModelID) AS TotalStockCount\n",
                "FROM Data.Model m\n",
                "    INNER JOIN ModelCosts mc ON m.ModelID = mc.ModelID\n",
                "ORDER BY TotalStockCount DESC;\n",
                "\n",
                "--JSON\n",
                "USE PrestigeCars;\n",
                "GO\n",
                "\n",
                "WITH\n",
                "    ModelCosts\n",
                "    AS\n",
                "    (\n",
                "        SELECT\n",
                "            ModelID,\n",
                "            AVG(Cost) AS AvgCost,\n",
                "            AVG(RepairsCost) AS AvgRepairsCost\n",
                "        FROM Data.Stock\n",
                "        GROUP BY ModelID\n",
                "    )\n",
                "\n",
                "SELECT\n",
                "    m.ModelName,\n",
                "    mc.AvgCost,\n",
                "    mc.AvgRepairsCost,\n",
                "    (SELECT COUNT(*)\n",
                "    FROM Data.Stock\n",
                "    WHERE ModelID = m.ModelID) AS TotalStockCount\n",
                "FROM Data.Model m\n",
                "    INNER JOIN ModelCosts mc ON m.ModelID = mc.ModelID\n",
                "ORDER BY TotalStockCount DESC\n",
                "FOR JSON PATH, ROOT('SalesCustomerCategory');\n"
            ],
            "metadata": {
                "azdata_cell_guid": "037de433-2c59-422b-81e2-839ddd781fcb",
                "language": "sql"
            },
            "outputs": [
                {
                    "output_type": "display_data",
                    "data": {
                        "text/html": "Commands completed successfully."
                    },
                    "metadata": {}
                },
                {
                    "output_type": "display_data",
                    "data": {
                        "text/html": "Warning: Null value is eliminated by an aggregate or other SET operation."
                    },
                    "metadata": {}
                },
                {
                    "output_type": "display_data",
                    "data": {
                        "text/html": "(90 rows affected)"
                    },
                    "metadata": {}
                },
                {
                    "output_type": "display_data",
                    "data": {
                        "text/html": "Warning: Null value is eliminated by an aggregate or other SET operation."
                    },
                    "metadata": {}
                },
                {
                    "output_type": "display_data",
                    "data": {
                        "text/html": "(90 rows affected)"
                    },
                    "metadata": {}
                },
                {
                    "output_type": "display_data",
                    "data": {
                        "text/html": "Total execution time: 00:00:00.091"
                    },
                    "metadata": {}
                },
                {
                    "output_type": "execute_result",
                    "metadata": {},
                    "execution_count": 38,
                    "data": {
                        "application/vnd.dataresource+json": {
                            "schema": {
                                "fields": [
                                    {
                                        "name": "ModelName"
                                    },
                                    {
                                        "name": "AvgCost"
                                    },
                                    {
                                        "name": "AvgRepairsCost"
                                    },
                                    {
                                        "name": "TotalStockCount"
                                    }
                                ]
                            },
                            "data": [
                                {
                                    "ModelName": "DB9",
                                    "AvgCost": "48985.8823",
                                    "AvgRepairsCost": "981.4705",
                                    "TotalStockCount": "17"
                                },
                                {
                                    "ModelName": "DB6",
                                    "AvgCost": "56034.75",
                                    "AvgRepairsCost": "1535.9375",
                                    "TotalStockCount": "16"
                                },
                                {
                                    "ModelName": "944",
                                    "AvgCost": "10400.00",
                                    "AvgRepairsCost": "584.6666",
                                    "TotalStockCount": "15"
                                },
                                {
                                    "ModelName": "911",
                                    "AvgCost": "29357.1428",
                                    "AvgRepairsCost": "1152.50",
                                    "TotalStockCount": "14"
                                },
                                {
                                    "ModelName": "Virage",
                                    "AvgCost": "71909.3333",
                                    "AvgRepairsCost": "1557.0833",
                                    "TotalStockCount": "12"
                                },
                                {
                                    "ModelName": "TR4",
                                    "AvgCost": "7456.6666",
                                    "AvgRepairsCost": "500.00",
                                    "TotalStockCount": "12"
                                },
                                {
                                    "ModelName": "TR5",
                                    "AvgCost": "7789.0909",
                                    "AvgRepairsCost": "662.7272",
                                    "TotalStockCount": "11"
                                },
                                {
                                    "ModelName": "DB2",
                                    "AvgCost": "42642.909",
                                    "AvgRepairsCost": "1092.7272",
                                    "TotalStockCount": "11"
                                },
                                {
                                    "ModelName": "XK120",
                                    "AvgCost": "35202.40",
                                    "AvgRepairsCost": "1040.00",
                                    "TotalStockCount": "10"
                                },
                                {
                                    "ModelName": "Flying Spur",
                                    "AvgCost": "60350.2222",
                                    "AvgRepairsCost": "1591.1111",
                                    "TotalStockCount": "9"
                                },
                                {
                                    "ModelName": "924",
                                    "AvgCost": "12448.00",
                                    "AvgRepairsCost": "580.00",
                                    "TotalStockCount": "9"
                                },
                                {
                                    "ModelName": "355",
                                    "AvgCost": "134840.00",
                                    "AvgRepairsCost": "5618.75",
                                    "TotalStockCount": "8"
                                },
                                {
                                    "ModelName": "DB4",
                                    "AvgCost": "33669.00",
                                    "AvgRepairsCost": "746.25",
                                    "TotalStockCount": "8"
                                },
                                {
                                    "ModelName": "Vanquish",
                                    "AvgCost": "43954.00",
                                    "AvgRepairsCost": "853.75",
                                    "TotalStockCount": "8"
                                },
                                {
                                    "ModelName": "Giulia",
                                    "AvgCost": "8969.50",
                                    "AvgRepairsCost": "702.50",
                                    "TotalStockCount": "8"
                                },
                                {
                                    "ModelName": "TR7",
                                    "AvgCost": "7482.00",
                                    "AvgRepairsCost": "687.50",
                                    "TotalStockCount": "8"
                                },
                                {
                                    "ModelName": "280SL",
                                    "AvgCost": "30890.2857",
                                    "AvgRepairsCost": "875.7142",
                                    "TotalStockCount": "7"
                                },
                                {
                                    "ModelName": "Giulietta",
                                    "AvgCost": "10536.00",
                                    "AvgRepairsCost": "714.2857",
                                    "TotalStockCount": "7"
                                },
                                {
                                    "ModelName": "DB5",
                                    "AvgCost": "38838.8571",
                                    "AvgRepairsCost": "1611.4285",
                                    "TotalStockCount": "7"
                                },
                                {
                                    "ModelName": "Testarossa",
                                    "AvgCost": "149142.8571",
                                    "AvgRepairsCost": "2617.8571",
                                    "TotalStockCount": "7"
                                },
                                {
                                    "ModelName": "Spider",
                                    "AvgCost": "8486.6666",
                                    "AvgRepairsCost": "643.3333",
                                    "TotalStockCount": "6"
                                },
                                {
                                    "ModelName": "XK150",
                                    "AvgCost": "29018.6666",
                                    "AvgRepairsCost": "814.1666",
                                    "TotalStockCount": "6"
                                },
                                {
                                    "ModelName": "TR6",
                                    "AvgCost": "8985.3333",
                                    "AvgRepairsCost": "526.6666",
                                    "TotalStockCount": "6"
                                },
                                {
                                    "ModelName": "M600",
                                    "AvgCost": "30120.00",
                                    "AvgRepairsCost": "840.00",
                                    "TotalStockCount": "6"
                                },
                                {
                                    "ModelName": "404",
                                    "AvgCost": "1726.00",
                                    "AvgRepairsCost": "500.00",
                                    "TotalStockCount": "6"
                                },
                                {
                                    "ModelName": "350SL",
                                    "AvgCost": "21876.00",
                                    "AvgRepairsCost": "1304.00",
                                    "TotalStockCount": "5"
                                },
                                {
                                    "ModelName": "57C",
                                    "AvgCost": "269600.00",
                                    "AvgRepairsCost": "6300.00",
                                    "TotalStockCount": "5"
                                },
                                {
                                    "ModelName": "928",
                                    "AvgCost": "13168.00",
                                    "AvgRepairsCost": "1016.00",
                                    "TotalStockCount": "5"
                                },
                                {
                                    "ModelName": "Diabolo",
                                    "AvgCost": "144800.00",
                                    "AvgRepairsCost": "3722.00",
                                    "TotalStockCount": "5"
                                },
                                {
                                    "ModelName": "Rapide",
                                    "AvgCost": "60500.00",
                                    "AvgRepairsCost": "1508.75",
                                    "TotalStockCount": "4"
                                },
                                {
                                    "ModelName": "Vantage",
                                    "AvgCost": "68700.00",
                                    "AvgRepairsCost": "1377.50",
                                    "TotalStockCount": "4"
                                },
                                {
                                    "ModelName": "Arnage",
                                    "AvgCost": "63780.00",
                                    "AvgRepairsCost": "1585.00",
                                    "TotalStockCount": "4"
                                },
                                {
                                    "ModelName": "Continental",
                                    "AvgCost": "64690.00",
                                    "AvgRepairsCost": "1497.50",
                                    "TotalStockCount": "4"
                                },
                                {
                                    "ModelName": "Phantom",
                                    "AvgCost": "96220.00",
                                    "AvgRepairsCost": "2245.00",
                                    "TotalStockCount": "4"
                                },
                                {
                                    "ModelName": "959",
                                    "AvgCost": "50220.00",
                                    "AvgRepairsCost": "1035.00",
                                    "TotalStockCount": "4"
                                },
                                {
                                    "ModelName": "360",
                                    "AvgCost": "103900.00",
                                    "AvgRepairsCost": "4800.00",
                                    "TotalStockCount": "4"
                                },
                                {
                                    "ModelName": "Princess",
                                    "AvgCost": "2380.00",
                                    "AvgRepairsCost": "500.00",
                                    "TotalStockCount": "4"
                                },
                                {
                                    "ModelName": "Mark V",
                                    "AvgCost": "22460.00",
                                    "AvgRepairsCost": "1422.50",
                                    "TotalStockCount": "4"
                                },
                                {
                                    "ModelName": "XJS",
                                    "AvgCost": "15510.00",
                                    "AvgRepairsCost": "527.50",
                                    "TotalStockCount": "4"
                                },
                                {
                                    "ModelName": "Rosalie",
                                    "AvgCost": "2038.00",
                                    "AvgRepairsCost": "500.00",
                                    "TotalStockCount": "4"
                                },
                                {
                                    "ModelName": "Mark X",
                                    "AvgCost": "44266.6666",
                                    "AvgRepairsCost": "1345.00",
                                    "TotalStockCount": "3"
                                },
                                {
                                    "ModelName": "XJ12",
                                    "AvgCost": "15113.3333",
                                    "AvgRepairsCost": "656.6666",
                                    "TotalStockCount": "3"
                                },
                                {
                                    "ModelName": "Silver Seraph",
                                    "AvgCost": "95853.3333",
                                    "AvgRepairsCost": "4305.00",
                                    "TotalStockCount": "3"
                                },
                                {
                                    "ModelName": "Enzo",
                                    "AvgCost": "270666.6666",
                                    "AvgRepairsCost": "7483.3333",
                                    "TotalStockCount": "3"
                                },
                                {
                                    "ModelName": "Dino",
                                    "AvgCost": "136933.3333",
                                    "AvgRepairsCost": "5641.6666",
                                    "TotalStockCount": "3"
                                },
                                {
                                    "ModelName": "F50",
                                    "AvgCost": "202920.00",
                                    "AvgRepairsCost": "6233.3333",
                                    "TotalStockCount": "3"
                                },
                                {
                                    "ModelName": "Ghost",
                                    "AvgCost": "57717.3333",
                                    "AvgRepairsCost": "986.6666",
                                    "TotalStockCount": "3"
                                },
                                {
                                    "ModelName": "500",
                                    "AvgCost": "1398.6666",
                                    "AvgRepairsCost": "500.00",
                                    "TotalStockCount": "3"
                                },
                                {
                                    "ModelName": "600",
                                    "AvgCost": "1277.3333",
                                    "AvgRepairsCost": "500.00",
                                    "TotalStockCount": "3"
                                },
                                {
                                    "ModelName": "205",
                                    "AvgCost": "1906.6666",
                                    "AvgRepairsCost": "500.00",
                                    "TotalStockCount": "3"
                                },
                                {
                                    "ModelName": "Roadster",
                                    "AvgCost": "17453.3333",
                                    "AvgRepairsCost": "1073.3333",
                                    "TotalStockCount": "3"
                                },
                                {
                                    "ModelName": "Robin",
                                    "AvgCost": "906.6666",
                                    "AvgRepairsCost": "500.00",
                                    "TotalStockCount": "3"
                                },
                                {
                                    "ModelName": "GT6",
                                    "AvgCost": "5100.00",
                                    "AvgRepairsCost": "500.00",
                                    "TotalStockCount": "2"
                                },
                                {
                                    "ModelName": "203",
                                    "AvgCost": "1280.00",
                                    "AvgRepairsCost": "500.00",
                                    "TotalStockCount": "2"
                                },
                                {
                                    "ModelName": "Wraith",
                                    "AvgCost": "131000.00",
                                    "AvgRepairsCost": "6600.00",
                                    "TotalStockCount": "2"
                                },
                                {
                                    "ModelName": "Silver Shadow",
                                    "AvgCost": "88000.00",
                                    "AvgRepairsCost": "1745.00",
                                    "TotalStockCount": "2"
                                },
                                {
                                    "ModelName": "Brooklands",
                                    "AvgCost": "115600.00",
                                    "AvgRepairsCost": "1337.50",
                                    "TotalStockCount": "2"
                                },
                                {
                                    "ModelName": "Mulsanne",
                                    "AvgCost": "62580.00",
                                    "AvgRepairsCost": "1485.00",
                                    "TotalStockCount": "2"
                                },
                                {
                                    "ModelName": "Jarama",
                                    "AvgCost": "220000.00",
                                    "AvgRepairsCost": "2225.00",
                                    "TotalStockCount": "2"
                                },
                                {
                                    "ModelName": "Countach",
                                    "AvgCost": "50860.00",
                                    "AvgRepairsCost": "1250.00",
                                    "TotalStockCount": "2"
                                },
                                {
                                    "ModelName": "Mondial",
                                    "AvgCost": "103180.00",
                                    "AvgRepairsCost": "3062.50",
                                    "TotalStockCount": "2"
                                },
                                {
                                    "ModelName": "F40",
                                    "AvgCost": "207800.00",
                                    "AvgRepairsCost": "4725.00",
                                    "TotalStockCount": "2"
                                },
                                {
                                    "ModelName": "Daytona",
                                    "AvgCost": "97800.00",
                                    "AvgRepairsCost": "2225.00",
                                    "TotalStockCount": "2"
                                },
                                {
                                    "ModelName": "1750",
                                    "AvgCost": "5410.00",
                                    "AvgRepairsCost": "500.00",
                                    "TotalStockCount": "2"
                                },
                                {
                                    "ModelName": "500SL",
                                    "AvgCost": "30200.00",
                                    "AvgRepairsCost": "1680.00",
                                    "TotalStockCount": "2"
                                },
                                {
                                    "ModelName": "250SL",
                                    "AvgCost": "14220.00",
                                    "AvgRepairsCost": "1360.00",
                                    "TotalStockCount": "2"
                                },
                                {
                                    "ModelName": "Lichfield",
                                    "AvgCost": "12040.00",
                                    "AvgRepairsCost": "930.00",
                                    "TotalStockCount": "2"
                                },
                                {
                                    "ModelName": "V12",
                                    "AvgCost": "87200.00",
                                    "AvgRepairsCost": "1250.00",
                                    "TotalStockCount": "2"
                                },
                                {
                                    "ModelName": "M14",
                                    "AvgCost": "8440.00",
                                    "AvgRepairsCost": "930.00",
                                    "TotalStockCount": "2"
                                },
                                {
                                    "ModelName": "145",
                                    "AvgCost": "27600.00",
                                    "AvgRepairsCost": "970.00",
                                    "TotalStockCount": "2"
                                },
                                {
                                    "ModelName": "175",
                                    "AvgCost": "14060.00",
                                    "AvgRepairsCost": "500.00",
                                    "TotalStockCount": "2"
                                },
                                {
                                    "ModelName": "DMC 12",
                                    "AvgCost": "79600.00",
                                    "AvgRepairsCost": "1490.00",
                                    "TotalStockCount": "1"
                                },
                                {
                                    "ModelName": "Traaction Avant",
                                    "AvgCost": "20000.00",
                                    "AvgRepairsCost": "1360.00",
                                    "TotalStockCount": "1"
                                },
                                {
                                    "ModelName": "135",
                                    "AvgCost": "20400.00",
                                    "AvgRepairsCost": "1360.00",
                                    "TotalStockCount": "1"
                                },
                                {
                                    "ModelName": "E-Type",
                                    "AvgCost": "31600.00",
                                    "AvgRepairsCost": "2000.00",
                                    "TotalStockCount": "1"
                                },
                                {
                                    "ModelName": "P1",
                                    "AvgCost": "236000.00",
                                    "AvgRepairsCost": "9250.00",
                                    "TotalStockCount": "1"
                                },
                                {
                                    "ModelName": "Plus 4",
                                    "AvgCost": "14800.00",
                                    "AvgRepairsCost": "970.00",
                                    "TotalStockCount": "1"
                                },
                                {
                                    "ModelName": "Torpedo",
                                    "AvgCost": "52712.00",
                                    "AvgRepairsCost": "500.00",
                                    "TotalStockCount": "1"
                                },
                                {
                                    "ModelName": "Cambridge",
                                    "AvgCost": "18000.00",
                                    "AvgRepairsCost": "1360.00",
                                    "TotalStockCount": "1"
                                },
                                {
                                    "ModelName": "Isetta",
                                    "AvgCost": "4400.00",
                                    "AvgRepairsCost": "500.00",
                                    "TotalStockCount": "1"
                                },
                                {
                                    "ModelName": "Alpina",
                                    "AvgCost": "17200.00",
                                    "AvgRepairsCost": "500.00",
                                    "TotalStockCount": "1"
                                },
                                {
                                    "ModelName": "E30",
                                    "AvgCost": "26800.00",
                                    "AvgRepairsCost": "500.00",
                                    "TotalStockCount": "1"
                                },
                                {
                                    "ModelName": "Veyron",
                                    "AvgCost": "176400.00",
                                    "AvgRepairsCost": "9250.00",
                                    "TotalStockCount": "1"
                                },
                                {
                                    "ModelName": "Exelero",
                                    "AvgCost": "340000.00",
                                    "AvgRepairsCost": "2000.00",
                                    "TotalStockCount": "1"
                                },
                                {
                                    "ModelName": "308",
                                    "AvgCost": "156000.00",
                                    "AvgRepairsCost": "2000.00",
                                    "TotalStockCount": "1"
                                },
                                {
                                    "ModelName": "Boxster",
                                    "AvgCost": "18000.00",
                                    "AvgRepairsCost": "1360.00",
                                    "TotalStockCount": "1"
                                },
                                {
                                    "ModelName": "400GT",
                                    "AvgCost": "116000.00",
                                    "AvgRepairsCost": "9250.00",
                                    "TotalStockCount": "1"
                                },
                                {
                                    "ModelName": "Corniche",
                                    "AvgCost": "71600.00",
                                    "AvgRepairsCost": "500.00",
                                    "TotalStockCount": "1"
                                },
                                {
                                    "ModelName": "Stag",
                                    "AvgCost": "1800.00",
                                    "AvgRepairsCost": "500.00",
                                    "TotalStockCount": "1"
                                },
                                {
                                    "ModelName": "TR3A",
                                    "AvgCost": "31600.00",
                                    "AvgRepairsCost": "970.00",
                                    "TotalStockCount": "1"
                                }
                            ]
                        },
                        "text/html": [
                            "<table>",
                            "<tr><th>ModelName</th><th>AvgCost</th><th>AvgRepairsCost</th><th>TotalStockCount</th></tr>",
                            "<tr><td>DB9</td><td>48985.8823</td><td>981.4705</td><td>17</td></tr>",
                            "<tr><td>DB6</td><td>56034.75</td><td>1535.9375</td><td>16</td></tr>",
                            "<tr><td>944</td><td>10400.00</td><td>584.6666</td><td>15</td></tr>",
                            "<tr><td>911</td><td>29357.1428</td><td>1152.50</td><td>14</td></tr>",
                            "<tr><td>Virage</td><td>71909.3333</td><td>1557.0833</td><td>12</td></tr>",
                            "<tr><td>TR4</td><td>7456.6666</td><td>500.00</td><td>12</td></tr>",
                            "<tr><td>TR5</td><td>7789.0909</td><td>662.7272</td><td>11</td></tr>",
                            "<tr><td>DB2</td><td>42642.909</td><td>1092.7272</td><td>11</td></tr>",
                            "<tr><td>XK120</td><td>35202.40</td><td>1040.00</td><td>10</td></tr>",
                            "<tr><td>Flying Spur</td><td>60350.2222</td><td>1591.1111</td><td>9</td></tr>",
                            "<tr><td>924</td><td>12448.00</td><td>580.00</td><td>9</td></tr>",
                            "<tr><td>355</td><td>134840.00</td><td>5618.75</td><td>8</td></tr>",
                            "<tr><td>DB4</td><td>33669.00</td><td>746.25</td><td>8</td></tr>",
                            "<tr><td>Vanquish</td><td>43954.00</td><td>853.75</td><td>8</td></tr>",
                            "<tr><td>Giulia</td><td>8969.50</td><td>702.50</td><td>8</td></tr>",
                            "<tr><td>TR7</td><td>7482.00</td><td>687.50</td><td>8</td></tr>",
                            "<tr><td>280SL</td><td>30890.2857</td><td>875.7142</td><td>7</td></tr>",
                            "<tr><td>Giulietta</td><td>10536.00</td><td>714.2857</td><td>7</td></tr>",
                            "<tr><td>DB5</td><td>38838.8571</td><td>1611.4285</td><td>7</td></tr>",
                            "<tr><td>Testarossa</td><td>149142.8571</td><td>2617.8571</td><td>7</td></tr>",
                            "<tr><td>Spider</td><td>8486.6666</td><td>643.3333</td><td>6</td></tr>",
                            "<tr><td>XK150</td><td>29018.6666</td><td>814.1666</td><td>6</td></tr>",
                            "<tr><td>TR6</td><td>8985.3333</td><td>526.6666</td><td>6</td></tr>",
                            "<tr><td>M600</td><td>30120.00</td><td>840.00</td><td>6</td></tr>",
                            "<tr><td>404</td><td>1726.00</td><td>500.00</td><td>6</td></tr>",
                            "<tr><td>350SL</td><td>21876.00</td><td>1304.00</td><td>5</td></tr>",
                            "<tr><td>57C</td><td>269600.00</td><td>6300.00</td><td>5</td></tr>",
                            "<tr><td>928</td><td>13168.00</td><td>1016.00</td><td>5</td></tr>",
                            "<tr><td>Diabolo</td><td>144800.00</td><td>3722.00</td><td>5</td></tr>",
                            "<tr><td>Rapide</td><td>60500.00</td><td>1508.75</td><td>4</td></tr>",
                            "<tr><td>Vantage</td><td>68700.00</td><td>1377.50</td><td>4</td></tr>",
                            "<tr><td>Arnage</td><td>63780.00</td><td>1585.00</td><td>4</td></tr>",
                            "<tr><td>Continental</td><td>64690.00</td><td>1497.50</td><td>4</td></tr>",
                            "<tr><td>Phantom</td><td>96220.00</td><td>2245.00</td><td>4</td></tr>",
                            "<tr><td>959</td><td>50220.00</td><td>1035.00</td><td>4</td></tr>",
                            "<tr><td>360</td><td>103900.00</td><td>4800.00</td><td>4</td></tr>",
                            "<tr><td>Princess</td><td>2380.00</td><td>500.00</td><td>4</td></tr>",
                            "<tr><td>Mark V</td><td>22460.00</td><td>1422.50</td><td>4</td></tr>",
                            "<tr><td>XJS</td><td>15510.00</td><td>527.50</td><td>4</td></tr>",
                            "<tr><td>Rosalie</td><td>2038.00</td><td>500.00</td><td>4</td></tr>",
                            "<tr><td>Mark X</td><td>44266.6666</td><td>1345.00</td><td>3</td></tr>",
                            "<tr><td>XJ12</td><td>15113.3333</td><td>656.6666</td><td>3</td></tr>",
                            "<tr><td>Silver Seraph</td><td>95853.3333</td><td>4305.00</td><td>3</td></tr>",
                            "<tr><td>Enzo</td><td>270666.6666</td><td>7483.3333</td><td>3</td></tr>",
                            "<tr><td>Dino</td><td>136933.3333</td><td>5641.6666</td><td>3</td></tr>",
                            "<tr><td>F50</td><td>202920.00</td><td>6233.3333</td><td>3</td></tr>",
                            "<tr><td>Ghost</td><td>57717.3333</td><td>986.6666</td><td>3</td></tr>",
                            "<tr><td>500</td><td>1398.6666</td><td>500.00</td><td>3</td></tr>",
                            "<tr><td>600</td><td>1277.3333</td><td>500.00</td><td>3</td></tr>",
                            "<tr><td>205</td><td>1906.6666</td><td>500.00</td><td>3</td></tr>",
                            "<tr><td>Roadster</td><td>17453.3333</td><td>1073.3333</td><td>3</td></tr>",
                            "<tr><td>Robin</td><td>906.6666</td><td>500.00</td><td>3</td></tr>",
                            "<tr><td>GT6</td><td>5100.00</td><td>500.00</td><td>2</td></tr>",
                            "<tr><td>203</td><td>1280.00</td><td>500.00</td><td>2</td></tr>",
                            "<tr><td>Wraith</td><td>131000.00</td><td>6600.00</td><td>2</td></tr>",
                            "<tr><td>Silver Shadow</td><td>88000.00</td><td>1745.00</td><td>2</td></tr>",
                            "<tr><td>Brooklands</td><td>115600.00</td><td>1337.50</td><td>2</td></tr>",
                            "<tr><td>Mulsanne</td><td>62580.00</td><td>1485.00</td><td>2</td></tr>",
                            "<tr><td>Jarama</td><td>220000.00</td><td>2225.00</td><td>2</td></tr>",
                            "<tr><td>Countach</td><td>50860.00</td><td>1250.00</td><td>2</td></tr>",
                            "<tr><td>Mondial</td><td>103180.00</td><td>3062.50</td><td>2</td></tr>",
                            "<tr><td>F40</td><td>207800.00</td><td>4725.00</td><td>2</td></tr>",
                            "<tr><td>Daytona</td><td>97800.00</td><td>2225.00</td><td>2</td></tr>",
                            "<tr><td>1750</td><td>5410.00</td><td>500.00</td><td>2</td></tr>",
                            "<tr><td>500SL</td><td>30200.00</td><td>1680.00</td><td>2</td></tr>",
                            "<tr><td>250SL</td><td>14220.00</td><td>1360.00</td><td>2</td></tr>",
                            "<tr><td>Lichfield</td><td>12040.00</td><td>930.00</td><td>2</td></tr>",
                            "<tr><td>V12</td><td>87200.00</td><td>1250.00</td><td>2</td></tr>",
                            "<tr><td>M14</td><td>8440.00</td><td>930.00</td><td>2</td></tr>",
                            "<tr><td>145</td><td>27600.00</td><td>970.00</td><td>2</td></tr>",
                            "<tr><td>175</td><td>14060.00</td><td>500.00</td><td>2</td></tr>",
                            "<tr><td>DMC 12</td><td>79600.00</td><td>1490.00</td><td>1</td></tr>",
                            "<tr><td>Traaction Avant</td><td>20000.00</td><td>1360.00</td><td>1</td></tr>",
                            "<tr><td>135</td><td>20400.00</td><td>1360.00</td><td>1</td></tr>",
                            "<tr><td>E-Type</td><td>31600.00</td><td>2000.00</td><td>1</td></tr>",
                            "<tr><td>P1</td><td>236000.00</td><td>9250.00</td><td>1</td></tr>",
                            "<tr><td>Plus 4</td><td>14800.00</td><td>970.00</td><td>1</td></tr>",
                            "<tr><td>Torpedo</td><td>52712.00</td><td>500.00</td><td>1</td></tr>",
                            "<tr><td>Cambridge</td><td>18000.00</td><td>1360.00</td><td>1</td></tr>",
                            "<tr><td>Isetta</td><td>4400.00</td><td>500.00</td><td>1</td></tr>",
                            "<tr><td>Alpina</td><td>17200.00</td><td>500.00</td><td>1</td></tr>",
                            "<tr><td>E30</td><td>26800.00</td><td>500.00</td><td>1</td></tr>",
                            "<tr><td>Veyron</td><td>176400.00</td><td>9250.00</td><td>1</td></tr>",
                            "<tr><td>Exelero</td><td>340000.00</td><td>2000.00</td><td>1</td></tr>",
                            "<tr><td>308</td><td>156000.00</td><td>2000.00</td><td>1</td></tr>",
                            "<tr><td>Boxster</td><td>18000.00</td><td>1360.00</td><td>1</td></tr>",
                            "<tr><td>400GT</td><td>116000.00</td><td>9250.00</td><td>1</td></tr>",
                            "<tr><td>Corniche</td><td>71600.00</td><td>500.00</td><td>1</td></tr>",
                            "<tr><td>Stag</td><td>1800.00</td><td>500.00</td><td>1</td></tr>",
                            "<tr><td>TR3A</td><td>31600.00</td><td>970.00</td><td>1</td></tr>",
                            "</table>"
                        ]
                    }
                },
                {
                    "output_type": "execute_result",
                    "metadata": {},
                    "execution_count": 38,
                    "data": {
                        "application/vnd.dataresource+json": {
                            "schema": {
                                "fields": [
                                    {
                                        "name": "JSON_F52E2B61-18A1-11d1-B105-00805F49916B"
                                    }
                                ]
                            },
                            "data": [
                                {
                                    "JSON_F52E2B61-18A1-11d1-B105-00805F49916B": "{\"SalesCustomerCategory\":[{\"ModelName\":\"DB9\",\"AvgCost\":48985.8823,\"AvgRepairsCost\":981.4705,\"TotalStockCount\":17},{\"ModelName\":\"DB6\",\"AvgCost\":56034.7500,\"AvgRepairsCost\":1535.9375,\"TotalStockCount\":16},{\"ModelName\":\"944\",\"AvgCost\":10400.0000,\"AvgRepairsCost\":584.6666,\"TotalStockCount\":15},{\"ModelName\":\"911\",\"AvgCost\":29357.1428,\"AvgRepairsCost\":1152.5000,\"TotalStockCount\":14},{\"ModelName\":\"Virage\",\"AvgCost\":71909.3333,\"AvgRepairsCost\":1557.0833,\"TotalStockCount\":12},{\"ModelName\":\"TR4\",\"AvgCost\":7456.6666,\"AvgRepairsCost\":500.0000,\"TotalStockCount\":12},{\"ModelName\":\"TR5\",\"AvgCost\":7789.0909,\"AvgRepairsCost\":662.7272,\"TotalStockCount\":11},{\"ModelName\":\"DB2\",\"AvgCost\":42642.9090,\"AvgRepairsCost\":1092.7272,\"TotalStockCount\":11},{\"ModelName\":\"XK120\",\"AvgCost\":35202.4000,\"AvgRepairsCost\":1040.0000,\"TotalStockCount\":10},{\"ModelName\":\"Flying Spur\",\"AvgCost\":60350.2222,\"AvgRepairsCost\":1591.1111,\"TotalStockCount\":9},{\"ModelName\":\"924\",\"AvgCost\":12448.0000,\"AvgRepairsCost\":580.0000,\"TotalStockCount\":9},{\"ModelName\":\"355\",\"AvgCost\":134840.0000,\"AvgRepairsCost\":5618.7500,\"TotalStockCount\":8},{\"ModelName\":\"DB4\",\"AvgCost\":33669.0000,\"AvgRepairsCost\":746.2500,\"TotalStockCount\":8},{\"ModelName\":\"Vanquish\",\"AvgCost\":43954.0000,\"AvgRepairsCost\":853.7500,\"TotalStockCount\":8},{\"ModelName\":\"Giulia\",\"AvgCost\":8969.5000,\"AvgRepairsCost\":702.5000,\"TotalStockCount\":8},{\"ModelName\":\"TR7\",\"AvgCost\":7482.0000,\"AvgRepairsCost\":687.5000,\"TotalStockCount\":8},{\"ModelName\":\"280SL\",\"AvgCost\":30890.2857,\"AvgRepairsCost\":875.7142,\"TotalStockCount\":7},{\"ModelName\":\"Giulietta\",\"AvgCost\":10536.0000,\"AvgRepairsCost\":714.2857,\"TotalStockCount\":7},{\"ModelName\":\"DB5\",\"AvgCost\":38838.8571,\"AvgRepairsCost\":1611.4285,\"TotalStockCount\":7},{\"ModelName\":\"Testarossa\",\"AvgCost\":149142.8571,\"AvgRepairsCost\":2617.8571,\"TotalStockCount\":7},{\"ModelName\":\"Spider\",\"AvgCost\":8486.6666,\"AvgRepairsCost\":643.3333,\"TotalStockCount\":6},{\"ModelName\":\"XK150\",\"AvgCost\":29018.6666,\"AvgRepairsCost\":814.1666,\"TotalStockCount\":6},{\"ModelName\":\"TR6\",\"AvgCost\":8985.3333,\"AvgRepairsCost\":526.6666,\"TotalStockCount\":6},{\"ModelName\":\"M600\",\"AvgCost\":30120.0000,\"AvgRepairsCost\":840.0000,\"TotalStockCount\":6},{\"ModelName\":\"404\",\"AvgCost\":1726.0000,\"AvgRepairsCost\":500.0000,\"TotalStockCount\":6},{\"ModelName\":\"350SL\",\"AvgCost\":21876.0000,\"AvgRepairsCost\":1304.0000,\"TotalStockCount\":5},{\"ModelName\":\"57C\",\"AvgCost\":269600.0000,\"AvgRepairsCost\":6300.0000,\"TotalStockCount\":5},{\"ModelName\":\"928\",\"AvgCost\":13168.0000,\"AvgRepairsCost\":1016.0000,\"TotalStockCount\":5},{\"ModelName\":\"Diabolo\",\"AvgCost\":144800.0000,\"AvgRepairsCost\":3722.0000,\"TotalStockCount\":5},{\"ModelName\":\"Rapide\",\"AvgCost\":60500.0000,\"AvgRepairsCost\":1508.7500,\"TotalStockCount\":4},{\"ModelName\":\"Vantage\",\"AvgCost\":68700.0000,\"AvgRepairsCost\":1377.5000,\"TotalStockCount\":4},{\"ModelName\":\"Arnage\",\"AvgCost\":63780.0000,\"AvgRepairsCost\":1585.0000,\"TotalStockCount\":4},{\"ModelName\":\"Continental\",\"AvgCost\":64690.0000,\"AvgRepairsCost\":1497.5000,\"TotalStockCount\":4},{\"ModelName\":\"Phantom\",\"AvgCost\":96220.0000,\"AvgRepairsCost\":2245.0000,\"TotalStockCount\":4},{\"ModelName\":\"959\",\"AvgCost\":50220.0000,\"AvgRepairsCost\":1035.0000,\"TotalStockCount\":4},{\"ModelName\":\"360\",\"AvgCost\":103900.0000,\"AvgRepairsCost\":4800.0000,\"TotalStockCount\":4},{\"ModelName\":\"Princess\",\"AvgCost\":2380.0000,\"AvgRepairsCost\":500.0000,\"TotalStockCount\":4},{\"ModelName\":\"Mark V\",\"AvgCost\":22460.0000,\"AvgRepairsCost\":1422.5000,\"TotalStockCount\":4},{\"ModelName\":\"XJS\",\"AvgCost\":15510.0000,\"AvgRepairsCost\":527.5000,\"TotalStockCount\":4},{\"ModelName\":\"Rosalie\",\"AvgCost\":2038.0000,\"AvgRepairsCost\":500.0000,\"TotalStockCount\":4},{\"ModelName\":\"Mark X\",\"AvgCost\":44266.6666,\"AvgRepairsCost\":1345.0000,\"TotalStockCount\":3},{\"ModelName\":\"XJ12\",\"AvgCost\":15113.3333,\"AvgRepairsCost\":656.6666,\"TotalStockCount\":3},{\"ModelName\":\"Silver Seraph\",\"AvgCost\":95853.3333,\"AvgRepairsCost\":4305.0000,\"TotalStockCount\":3},{\"ModelName\":\"Enzo\",\"AvgCost\":270666.6666,\"AvgRepairsCost\":7483.3333,\"TotalStockCount\":3},{\"ModelName\":\"Dino\",\"AvgCost\":136933.3333,\"AvgRepairsCost\":5641.6666,\"TotalStockCount\":3},{\"ModelName\":\"F50\",\"AvgCost\":202920.0000,\"AvgRepairsCost\":6233.3333,\"TotalStockCount\":3},{\"ModelName\":\"Ghost\",\"AvgCost\":57717.3333,\"AvgRepairsCost\":986.6666,\"TotalStockCount\":3},{\"ModelName\":\"500\",\"AvgCost\":1398.6666,\"AvgRepairsCost\":500.0000,\"TotalStockCount\":3},{\"ModelName\":\"600\",\"AvgCost\":1277.3333,\"AvgRepairsCost\":500.0000,\"TotalStockCount\":3},{\"ModelName\":\"205\",\"AvgCost\":1906.6666,\"AvgRepairsCost\":500.0000,\"TotalStockCount\":3},{\"ModelName\":\"Roadster\",\"AvgCost\":17453.3333,\"AvgRepairsCost\":1073.3333,\"TotalStockCount\":3},{\"ModelName\":\"Robin\",\"AvgCost\":906.6666,\"AvgRepairsCost\":500.0000,\"TotalStockCount\":3},{\"ModelName\":\"GT6\",\"AvgCost\":5100.0000,\"AvgRepairsCost\":500.0000,\"TotalStockCount\":2},{\"ModelName\":\"203\",\"AvgCost\":1280.0000,\"AvgRepairsCost\":500.0000,\"TotalStockCount\":2},{\"ModelName\":\"Wraith\",\"AvgCost\":131000.0000,\"AvgRepairsCost\":6600.0000,\"TotalStockCount\":2},{\"ModelName\":\"Silver Shadow\",\"AvgCost\":88000.0000,\"AvgRepairsCost\":1745.0000,\"TotalStockCount\":2},{\"ModelName\":\"Brooklands\",\"AvgCost\":115600.0000,\"AvgRepairsCost\":1337.5000,\"TotalStockCount\":2},{\"ModelName\":\"Mulsanne\",\"AvgCost\":62580.0000,\"AvgRepairsCost\":1485.0000,\"TotalStockCount\":2},{\"ModelName\":\"Jarama\",\"AvgCost\":220000.0000,\"AvgRepairsCost\":2225.0000,\"TotalStockCount\":2},{\"ModelName\":\"Countach\",\"AvgCost\":50860.0000,\"AvgRepairsCost\":1250.0000,\"TotalStockCount\":2},{\"ModelName\":\"Mondial\",\"AvgCost\":103180.0000,\"AvgRepairsCost\":3062.5000,\"TotalStockCount\":2},{\"ModelName\":\"F40\",\"AvgCost\":207800.0000,\"AvgRepairsCost\":4725.0000,\"TotalStockCount\":2},{\"ModelName\":\"Daytona\",\"AvgCost\":97800.0000,\"AvgRepairsCost\":2225.0000,\"TotalStockCount\":2},{\"ModelName\":\"1750\",\"AvgCost\":5410.0000,\"AvgRepairsCost\":500.0000,\"TotalStockCount\":2},{\"ModelName\":\"500SL\",\"AvgCost\":30200.0000,\"AvgRepairsCost\":1680.0000,\"TotalStockCount\":2},{\"ModelName\":\"250SL\",\"AvgCost\":14220.0000,\"AvgRepairsCost\":1360.0000,\"TotalStockCount\":2},{\"ModelName\":\"Lichfield\",\"AvgCost\":12040.0000,\"AvgRepairsCost\":930.0000,\"TotalStockCount\":2},{\"ModelName\":\"V12\",\"AvgCost\":87200.0000,\"AvgRepairsCost\":1250.0000,\"TotalStockCount\":2},{\"ModelName\":\"M14\",\"AvgCost\":8440.0000,\"AvgRepairsCost\":930.0000,\"TotalStockCount\":2},{\"ModelName\":\"145\",\"AvgCost\":27600.0000,\"AvgRepairsCost\":970.0000,\"TotalStockCount\":2},{\"ModelName\":\"175\",\"AvgCost\":14060.0000,\"AvgRepairsCost\":500.0000,\"TotalStockCount\":2},{\"ModelName\":\"DMC 12\",\"AvgCost\":79600.0000,\"AvgRepairsCost\":1490.0000,\"TotalStockCount\":1},{\"ModelName\":\"Traaction Avant\",\"AvgCost\":20000.0000,\"AvgRepairsCost\":1360.0000,\"TotalStockCount\":1},{\"ModelName\":\"135\",\"AvgCost\":20400.0000,\"AvgRepairsCost\":1360.0000,\"TotalStockCount\":1},{\"ModelName\":\"E-Type\",\"AvgCost\":31600.0000,\"AvgRepairsCost\":2000.0000,\"TotalStockCount\":1},{\"ModelName\":\"P1\",\"AvgCost\":236000.0000,\"AvgRepairsCost\":9250.0000,\"TotalStockCount\":1},{\"ModelName\":\"Plus 4\",\"AvgCost\":14800.0000,\"AvgRepairsCost\":970.0000,\"TotalStockCount\":1},{\"ModelName\":\"Torpedo\",\"AvgCost\":52712.0000,\"AvgRepairsCost\":500.0000,\"TotalStockCount\":1},{\"ModelName\":\"Cambridge\",\"AvgCost\":18000.0000,\"AvgRepairsCost\":1360.0000,\"TotalStockCount\":1},{\"ModelName\":\"Isetta\",\"AvgCost\":4400.0000,\"AvgRepairsCost\":500.0000,\"TotalStockCount\":1},{\"ModelName\":\"Alpina\",\"AvgCost\":17200.0000,\"AvgRepairsCost\":500.0000,\"TotalStockCount\":1},{\"ModelName\":\"E30\",\"AvgCost\":26800.0000,\"AvgRepairsCost\":500.0000,\"TotalStockCount\":1},{\"ModelName\":\"Veyron\",\"AvgCost\":176400.0000,\"AvgRepairsCost\":9250.0000,\"TotalStockCount\":1},{\"ModelName\":\"Exelero\",\"AvgCost\":340000.0000,\"AvgRepairsCost\":2000.0000,\"TotalStockCount\":1},{\"ModelName\":\"308\",\"AvgCost\":156000.0000,\"AvgRepairsCost\":2000.0000,\"TotalStockCount\":1},{\"ModelName\":\"Boxster\",\"AvgCost\":18000.0000,\"AvgRepairsCost\":1360.0000,\"TotalStockCount\":1},{\"ModelName\":\"400GT\",\"AvgCost\":116000.0000,\"AvgRepairsCost\":9250.0000,\"TotalStockCount\":1},{\"ModelName\":\"Corniche\",\"AvgCost\":71600.0000,\"AvgRepairsCost\":500.0000,\"TotalStockCount\":1},{\"ModelName\":\"Stag\",\"AvgCost\":1800.0000,\"AvgRepairsCost\":500.0000,\"TotalStockCount\":1},{\"ModelName\":\"TR3A\",\"AvgCost\":31600.0000,\"AvgRepairsCost\":970.0000,\"TotalStockCount\":1}]}"
                                }
                            ]
                        },
                        "text/html": [
                            "<table>",
                            "<tr><th>JSON_F52E2B61-18A1-11d1-B105-00805F49916B</th></tr>",
                            "<tr><td>{&quot;SalesCustomerCategory&quot;:[{&quot;ModelName&quot;:&quot;DB9&quot;,&quot;AvgCost&quot;:48985.8823,&quot;AvgRepairsCost&quot;:981.4705,&quot;TotalStockCount&quot;:17},{&quot;ModelName&quot;:&quot;DB6&quot;,&quot;AvgCost&quot;:56034.7500,&quot;AvgRepairsCost&quot;:1535.9375,&quot;TotalStockCount&quot;:16},{&quot;ModelName&quot;:&quot;944&quot;,&quot;AvgCost&quot;:10400.0000,&quot;AvgRepairsCost&quot;:584.6666,&quot;TotalStockCount&quot;:15},{&quot;ModelName&quot;:&quot;911&quot;,&quot;AvgCost&quot;:29357.1428,&quot;AvgRepairsCost&quot;:1152.5000,&quot;TotalStockCount&quot;:14},{&quot;ModelName&quot;:&quot;Virage&quot;,&quot;AvgCost&quot;:71909.3333,&quot;AvgRepairsCost&quot;:1557.0833,&quot;TotalStockCount&quot;:12},{&quot;ModelName&quot;:&quot;TR4&quot;,&quot;AvgCost&quot;:7456.6666,&quot;AvgRepairsCost&quot;:500.0000,&quot;TotalStockCount&quot;:12},{&quot;ModelName&quot;:&quot;TR5&quot;,&quot;AvgCost&quot;:7789.0909,&quot;AvgRepairsCost&quot;:662.7272,&quot;TotalStockCount&quot;:11},{&quot;ModelName&quot;:&quot;DB2&quot;,&quot;AvgCost&quot;:42642.9090,&quot;AvgRepairsCost&quot;:1092.7272,&quot;TotalStockCount&quot;:11},{&quot;ModelName&quot;:&quot;XK120&quot;,&quot;AvgCost&quot;:35202.4000,&quot;AvgRepairsCost&quot;:1040.0000,&quot;TotalStockCount&quot;:10},{&quot;ModelName&quot;:&quot;Flying Spur&quot;,&quot;AvgCost&quot;:60350.2222,&quot;AvgRepairsCost&quot;:1591.1111,&quot;TotalStockCount&quot;:9},{&quot;ModelName&quot;:&quot;924&quot;,&quot;AvgCost&quot;:12448.0000,&quot;AvgRepairsCost&quot;:580.0000,&quot;TotalStockCount&quot;:9},{&quot;ModelName&quot;:&quot;355&quot;,&quot;AvgCost&quot;:134840.0000,&quot;AvgRepairsCost&quot;:5618.7500,&quot;TotalStockCount&quot;:8},{&quot;ModelName&quot;:&quot;DB4&quot;,&quot;AvgCost&quot;:33669.0000,&quot;AvgRepairsCost&quot;:746.2500,&quot;TotalStockCount&quot;:8},{&quot;ModelName&quot;:&quot;Vanquish&quot;,&quot;AvgCost&quot;:43954.0000,&quot;AvgRepairsCost&quot;:853.7500,&quot;TotalStockCount&quot;:8},{&quot;ModelName&quot;:&quot;Giulia&quot;,&quot;AvgCost&quot;:8969.5000,&quot;AvgRepairsCost&quot;:702.5000,&quot;TotalStockCount&quot;:8},{&quot;ModelName&quot;:&quot;TR7&quot;,&quot;AvgCost&quot;:7482.0000,&quot;AvgRepairsCost&quot;:687.5000,&quot;TotalStockCount&quot;:8},{&quot;ModelName&quot;:&quot;280SL&quot;,&quot;AvgCost&quot;:30890.2857,&quot;AvgRepairsCost&quot;:875.7142,&quot;TotalStockCount&quot;:7},{&quot;ModelName&quot;:&quot;Giulietta&quot;,&quot;AvgCost&quot;:10536.0000,&quot;AvgRepairsCost&quot;:714.2857,&quot;TotalStockCount&quot;:7},{&quot;ModelName&quot;:&quot;DB5&quot;,&quot;AvgCost&quot;:38838.8571,&quot;AvgRepairsCost&quot;:1611.4285,&quot;TotalStockCount&quot;:7},{&quot;ModelName&quot;:&quot;Testarossa&quot;,&quot;AvgCost&quot;:149142.8571,&quot;AvgRepairsCost&quot;:2617.8571,&quot;TotalStockCount&quot;:7},{&quot;ModelName&quot;:&quot;Spider&quot;,&quot;AvgCost&quot;:8486.6666,&quot;AvgRepairsCost&quot;:643.3333,&quot;TotalStockCount&quot;:6},{&quot;ModelName&quot;:&quot;XK150&quot;,&quot;AvgCost&quot;:29018.6666,&quot;AvgRepairsCost&quot;:814.1666,&quot;TotalStockCount&quot;:6},{&quot;ModelName&quot;:&quot;TR6&quot;,&quot;AvgCost&quot;:8985.3333,&quot;AvgRepairsCost&quot;:526.6666,&quot;TotalStockCount&quot;:6},{&quot;ModelName&quot;:&quot;M600&quot;,&quot;AvgCost&quot;:30120.0000,&quot;AvgRepairsCost&quot;:840.0000,&quot;TotalStockCount&quot;:6},{&quot;ModelName&quot;:&quot;404&quot;,&quot;AvgCost&quot;:1726.0000,&quot;AvgRepairsCost&quot;:500.0000,&quot;TotalStockCount&quot;:6},{&quot;ModelName&quot;:&quot;350SL&quot;,&quot;AvgCost&quot;:21876.0000,&quot;AvgRepairsCost&quot;:1304.0000,&quot;TotalStockCount&quot;:5},{&quot;ModelName&quot;:&quot;57C&quot;,&quot;AvgCost&quot;:269600.0000,&quot;AvgRepairsCost&quot;:6300.0000,&quot;TotalStockCount&quot;:5},{&quot;ModelName&quot;:&quot;928&quot;,&quot;AvgCost&quot;:13168.0000,&quot;AvgRepairsCost&quot;:1016.0000,&quot;TotalStockCount&quot;:5},{&quot;ModelName&quot;:&quot;Diabolo&quot;,&quot;AvgCost&quot;:144800.0000,&quot;AvgRepairsCost&quot;:3722.0000,&quot;TotalStockCount&quot;:5},{&quot;ModelName&quot;:&quot;Rapide&quot;,&quot;AvgCost&quot;:60500.0000,&quot;AvgRepairsCost&quot;:1508.7500,&quot;TotalStockCount&quot;:4},{&quot;ModelName&quot;:&quot;Vantage&quot;,&quot;AvgCost&quot;:68700.0000,&quot;AvgRepairsCost&quot;:1377.5000,&quot;TotalStockCount&quot;:4},{&quot;ModelName&quot;:&quot;Arnage&quot;,&quot;AvgCost&quot;:63780.0000,&quot;AvgRepairsCost&quot;:1585.0000,&quot;TotalStockCount&quot;:4},{&quot;ModelName&quot;:&quot;Continental&quot;,&quot;AvgCost&quot;:64690.0000,&quot;AvgRepairsCost&quot;:1497.5000,&quot;TotalStockCount&quot;:4},{&quot;ModelName&quot;:&quot;Phantom&quot;,&quot;AvgCost&quot;:96220.0000,&quot;AvgRepairsCost&quot;:2245.0000,&quot;TotalStockCount&quot;:4},{&quot;ModelName&quot;:&quot;959&quot;,&quot;AvgCost&quot;:50220.0000,&quot;AvgRepairsCost&quot;:1035.0000,&quot;TotalStockCount&quot;:4},{&quot;ModelName&quot;:&quot;360&quot;,&quot;AvgCost&quot;:103900.0000,&quot;AvgRepairsCost&quot;:4800.0000,&quot;TotalStockCount&quot;:4},{&quot;ModelName&quot;:&quot;Princess&quot;,&quot;AvgCost&quot;:2380.0000,&quot;AvgRepairsCost&quot;:500.0000,&quot;TotalStockCount&quot;:4},{&quot;ModelName&quot;:&quot;Mark V&quot;,&quot;AvgCost&quot;:22460.0000,&quot;AvgRepairsCost&quot;:1422.5000,&quot;TotalStockCount&quot;:4},{&quot;ModelName&quot;:&quot;XJS&quot;,&quot;AvgCost&quot;:15510.0000,&quot;AvgRepairsCost&quot;:527.5000,&quot;TotalStockCount&quot;:4},{&quot;ModelName&quot;:&quot;Rosalie&quot;,&quot;AvgCost&quot;:2038.0000,&quot;AvgRepairsCost&quot;:500.0000,&quot;TotalStockCount&quot;:4},{&quot;ModelName&quot;:&quot;Mark X&quot;,&quot;AvgCost&quot;:44266.6666,&quot;AvgRepairsCost&quot;:1345.0000,&quot;TotalStockCount&quot;:3},{&quot;ModelName&quot;:&quot;XJ12&quot;,&quot;AvgCost&quot;:15113.3333,&quot;AvgRepairsCost&quot;:656.6666,&quot;TotalStockCount&quot;:3},{&quot;ModelName&quot;:&quot;Silver Seraph&quot;,&quot;AvgCost&quot;:95853.3333,&quot;AvgRepairsCost&quot;:4305.0000,&quot;TotalStockCount&quot;:3},{&quot;ModelName&quot;:&quot;Enzo&quot;,&quot;AvgCost&quot;:270666.6666,&quot;AvgRepairsCost&quot;:7483.3333,&quot;TotalStockCount&quot;:3},{&quot;ModelName&quot;:&quot;Dino&quot;,&quot;AvgCost&quot;:136933.3333,&quot;AvgRepairsCost&quot;:5641.6666,&quot;TotalStockCount&quot;:3},{&quot;ModelName&quot;:&quot;F50&quot;,&quot;AvgCost&quot;:202920.0000,&quot;AvgRepairsCost&quot;:6233.3333,&quot;TotalStockCount&quot;:3},{&quot;ModelName&quot;:&quot;Ghost&quot;,&quot;AvgCost&quot;:57717.3333,&quot;AvgRepairsCost&quot;:986.6666,&quot;TotalStockCount&quot;:3},{&quot;ModelName&quot;:&quot;500&quot;,&quot;AvgCost&quot;:1398.6666,&quot;AvgRepairsCost&quot;:500.0000,&quot;TotalStockCount&quot;:3},{&quot;ModelName&quot;:&quot;600&quot;,&quot;AvgCost&quot;:1277.3333,&quot;AvgRepairsCost&quot;:500.0000,&quot;TotalStockCount&quot;:3},{&quot;ModelName&quot;:&quot;205&quot;,&quot;AvgCost&quot;:1906.6666,&quot;AvgRepairsCost&quot;:500.0000,&quot;TotalStockCount&quot;:3},{&quot;ModelName&quot;:&quot;Roadster&quot;,&quot;AvgCost&quot;:17453.3333,&quot;AvgRepairsCost&quot;:1073.3333,&quot;TotalStockCount&quot;:3},{&quot;ModelName&quot;:&quot;Robin&quot;,&quot;AvgCost&quot;:906.6666,&quot;AvgRepairsCost&quot;:500.0000,&quot;TotalStockCount&quot;:3},{&quot;ModelName&quot;:&quot;GT6&quot;,&quot;AvgCost&quot;:5100.0000,&quot;AvgRepairsCost&quot;:500.0000,&quot;TotalStockCount&quot;:2},{&quot;ModelName&quot;:&quot;203&quot;,&quot;AvgCost&quot;:1280.0000,&quot;AvgRepairsCost&quot;:500.0000,&quot;TotalStockCount&quot;:2},{&quot;ModelName&quot;:&quot;Wraith&quot;,&quot;AvgCost&quot;:131000.0000,&quot;AvgRepairsCost&quot;:6600.0000,&quot;TotalStockCount&quot;:2},{&quot;ModelName&quot;:&quot;Silver Shadow&quot;,&quot;AvgCost&quot;:88000.0000,&quot;AvgRepairsCost&quot;:1745.0000,&quot;TotalStockCount&quot;:2},{&quot;ModelName&quot;:&quot;Brooklands&quot;,&quot;AvgCost&quot;:115600.0000,&quot;AvgRepairsCost&quot;:1337.5000,&quot;TotalStockCount&quot;:2},{&quot;ModelName&quot;:&quot;Mulsanne&quot;,&quot;AvgCost&quot;:62580.0000,&quot;AvgRepairsCost&quot;:1485.0000,&quot;TotalStockCount&quot;:2},{&quot;ModelName&quot;:&quot;Jarama&quot;,&quot;AvgCost&quot;:220000.0000,&quot;AvgRepairsCost&quot;:2225.0000,&quot;TotalStockCount&quot;:2},{&quot;ModelName&quot;:&quot;Countach&quot;,&quot;AvgCost&quot;:50860.0000,&quot;AvgRepairsCost&quot;:1250.0000,&quot;TotalStockCount&quot;:2},{&quot;ModelName&quot;:&quot;Mondial&quot;,&quot;AvgCost&quot;:103180.0000,&quot;AvgRepairsCost&quot;:3062.5000,&quot;TotalStockCount&quot;:2},{&quot;ModelName&quot;:&quot;F40&quot;,&quot;AvgCost&quot;:207800.0000,&quot;AvgRepairsCost&quot;:4725.0000,&quot;TotalStockCount&quot;:2},{&quot;ModelName&quot;:&quot;Daytona&quot;,&quot;AvgCost&quot;:97800.0000,&quot;AvgRepairsCost&quot;:2225.0000,&quot;TotalStockCount&quot;:2},{&quot;ModelName&quot;:&quot;1750&quot;,&quot;AvgCost&quot;:5410.0000,&quot;AvgRepairsCost&quot;:500.0000,&quot;TotalStockCount&quot;:2},{&quot;ModelName&quot;:&quot;500SL&quot;,&quot;AvgCost&quot;:30200.0000,&quot;AvgRepairsCost&quot;:1680.0000,&quot;TotalStockCount&quot;:2},{&quot;ModelName&quot;:&quot;250SL&quot;,&quot;AvgCost&quot;:14220.0000,&quot;AvgRepairsCost&quot;:1360.0000,&quot;TotalStockCount&quot;:2},{&quot;ModelName&quot;:&quot;Lichfield&quot;,&quot;AvgCost&quot;:12040.0000,&quot;AvgRepairsCost&quot;:930.0000,&quot;TotalStockCount&quot;:2},{&quot;ModelName&quot;:&quot;V12&quot;,&quot;AvgCost&quot;:87200.0000,&quot;AvgRepairsCost&quot;:1250.0000,&quot;TotalStockCount&quot;:2},{&quot;ModelName&quot;:&quot;M14&quot;,&quot;AvgCost&quot;:8440.0000,&quot;AvgRepairsCost&quot;:930.0000,&quot;TotalStockCount&quot;:2},{&quot;ModelName&quot;:&quot;145&quot;,&quot;AvgCost&quot;:27600.0000,&quot;AvgRepairsCost&quot;:970.0000,&quot;TotalStockCount&quot;:2},{&quot;ModelName&quot;:&quot;175&quot;,&quot;AvgCost&quot;:14060.0000,&quot;AvgRepairsCost&quot;:500.0000,&quot;TotalStockCount&quot;:2},{&quot;ModelName&quot;:&quot;DMC 12&quot;,&quot;AvgCost&quot;:79600.0000,&quot;AvgRepairsCost&quot;:1490.0000,&quot;TotalStockCount&quot;:1},{&quot;ModelName&quot;:&quot;Traaction Avant&quot;,&quot;AvgCost&quot;:20000.0000,&quot;AvgRepairsCost&quot;:1360.0000,&quot;TotalStockCount&quot;:1},{&quot;ModelName&quot;:&quot;135&quot;,&quot;AvgCost&quot;:20400.0000,&quot;AvgRepairsCost&quot;:1360.0000,&quot;TotalStockCount&quot;:1},{&quot;ModelName&quot;:&quot;E-Type&quot;,&quot;AvgCost&quot;:31600.0000,&quot;AvgRepairsCost&quot;:2000.0000,&quot;TotalStockCount&quot;:1},{&quot;ModelName&quot;:&quot;P1&quot;,&quot;AvgCost&quot;:236000.0000,&quot;AvgRepairsCost&quot;:9250.0000,&quot;TotalStockCount&quot;:1},{&quot;ModelName&quot;:&quot;Plus 4&quot;,&quot;AvgCost&quot;:14800.0000,&quot;AvgRepairsCost&quot;:970.0000,&quot;TotalStockCount&quot;:1},{&quot;ModelName&quot;:&quot;Torpedo&quot;,&quot;AvgCost&quot;:52712.0000,&quot;AvgRepairsCost&quot;:500.0000,&quot;TotalStockCount&quot;:1},{&quot;ModelName&quot;:&quot;Cambridge&quot;,&quot;AvgCost&quot;:18000.0000,&quot;AvgRepairsCost&quot;:1360.0000,&quot;TotalStockCount&quot;:1},{&quot;ModelName&quot;:&quot;Isetta&quot;,&quot;AvgCost&quot;:4400.0000,&quot;AvgRepairsCost&quot;:500.0000,&quot;TotalStockCount&quot;:1},{&quot;ModelName&quot;:&quot;Alpina&quot;,&quot;AvgCost&quot;:17200.0000,&quot;AvgRepairsCost&quot;:500.0000,&quot;TotalStockCount&quot;:1},{&quot;ModelName&quot;:&quot;E30&quot;,&quot;AvgCost&quot;:26800.0000,&quot;AvgRepairsCost&quot;:500.0000,&quot;TotalStockCount&quot;:1},{&quot;ModelName&quot;:&quot;Veyron&quot;,&quot;AvgCost&quot;:176400.0000,&quot;AvgRepairsCost&quot;:9250.0000,&quot;TotalStockCount&quot;:1},{&quot;ModelName&quot;:&quot;Exelero&quot;,&quot;AvgCost&quot;:340000.0000,&quot;AvgRepairsCost&quot;:2000.0000,&quot;TotalStockCount&quot;:1},{&quot;ModelName&quot;:&quot;308&quot;,&quot;AvgCost&quot;:156000.0000,&quot;AvgRepairsCost&quot;:2000.0000,&quot;TotalStockCount&quot;:1},{&quot;ModelName&quot;:&quot;Boxster&quot;,&quot;AvgCost&quot;:18000.0000,&quot;AvgRepairsCost&quot;:1360.0000,&quot;TotalStockCount&quot;:1},{&quot;ModelName&quot;:&quot;400GT&quot;,&quot;AvgCost&quot;:116000.0000,&quot;AvgRepairsCost&quot;:9250.0000,&quot;TotalStockCount&quot;:1},{&quot;ModelName&quot;:&quot;Corniche&quot;,&quot;AvgCost&quot;:71600.0000,&quot;AvgRepairsCost&quot;:500.0000,&quot;TotalStockCount&quot;:1},{&quot;ModelName&quot;:&quot;Stag&quot;,&quot;AvgCost&quot;:1800.0000,&quot;AvgRepairsCost&quot;:500.0000,&quot;TotalStockCount&quot;:1},{&quot;ModelName&quot;:&quot;TR3A&quot;,&quot;AvgCost&quot;:31600.0000,&quot;AvgRepairsCost&quot;:970.0000,&quot;TotalStockCount&quot;:1}]}</td></tr>",
                            "</table>"
                        ]
                    }
                }
            ],
            "execution_count": 38
        },
        {
            "cell_type": "markdown",
            "source": [
                "* * *\n",
                "\n",
                "**Difficulty:** Complex\n",
                "\n",
                "**Proposition:** Calculate the average sales value per employee-customer pair within a specified timeframe using a user-defined function for average calculation.\n",
                "\n",
                "**Function:** dbo.CalculateAverageSale\n",
                "\n",
                "**Parameters:**\n",
                "\n",
                "@TotalSalesAmount as MONEY (total sales amount for the pair), @NumberOfSales as INT (number of sales transactions).\n",
                "\n",
                "**Returns:** The average sales value as MONEY. If there are sales, it calculates the average; otherwise, returns 0.\n",
                "\n",
                "**Tables and Columns:**\n",
                "\n",
                "Sales.\\[Order\\]: EmployeeId, CustomerId, Freight (as sales value), OrderId, OrderDate HumanResources.Employee: EmployeeId, EmployeeFirstName, EmployeeLastName Sales.Customer: CustomerId, CustomerCompanyName\n",
                "\n",
                "**Predicate:**\n",
                "\n",
                "```\n",
                "WHERE o.OrderDate BETWEEN '2014-01-01' AND '2014-12-31\n",
                "\n",
                "```\n",
                "\n",
                "This clause filters orders to the year 2014, targeting sales analysis within this period.\n",
                "\n",
                "**Why did I choose it?**\n",
                "- The query shows a employee-customer sale relationship\n",
                "\n",
                "- The scalar function enhances the readability and maintainability of the code, allowing for the average sale calculation to be easily used in other queries or reports without duplicating code\n",
                "\n",
                "- The query provides business insights\n",
                "\n"
            ],
            "metadata": {
                "azdata_cell_guid": "8a04a3ae-bbbf-4192-902c-af87b57789f7",
                "language": "sql"
            },
            "attachments": {}
        },
        {
            "cell_type": "code",
            "source": [
                "\n",
                "USE Northwinds2022TSQLV7;\n",
                "GO\n",
                "CREATE OR ALTER FUNCTION dbo.CalculateAverageSale\n",
                "(\n",
                "    @TotalSalesAmount MONEY,\n",
                "    @NumberOfSales INT\n",
                ")\n",
                "RETURNS MONEY\n",
                "AS\n",
                "BEGIN\n",
                "    RETURN CASE WHEN @NumberOfSales > 0 THEN @TotalSalesAmount / @NumberOfSales ELSE 0 END;\n",
                "END;\n",
                "GO\n",
                ";WITH\n",
                "    EmployeeCustomerSales\n",
                "    AS\n",
                "    (\n",
                "        SELECT\n",
                "            o.EmployeeId,\n",
                "            o.CustomerId,\n",
                "            SUM(o.Freight) AS TotalSalesValue,\n",
                "            COUNT(o.OrderId) AS NumberOfSales\n",
                "        FROM\n",
                "            Sales.[Order] o\n",
                "        WHERE\n",
                "        o.OrderDate BETWEEN '2014-01-01' AND '2014-12-31'\n",
                "        GROUP BY\n",
                "        o.EmployeeId,\n",
                "        o.CustomerId\n",
                "    )\n",
                "\n",
                "SELECT\n",
                "    e.EmployeeFirstName,\n",
                "    e.EmployeeLastName,\n",
                "    c.CustomerCompanyName,\n",
                "    ECS.TotalSalesValue,\n",
                "    dbo.CalculateAverageSale(ECS.TotalSalesValue, ECS.NumberOfSales) AS AverageSaleValue\n",
                "FROM\n",
                "    EmployeeCustomerSales ECS\n",
                "    INNER JOIN\n",
                "    HumanResources.Employee e ON ECS.EmployeeId = e.EmployeeId\n",
                "    INNER JOIN\n",
                "    Sales.Customer c ON ECS.CustomerId = c.CustomerId\n",
                "GROUP BY\n",
                "    e.EmployeeFirstName,\n",
                "    e.EmployeeLastName,\n",
                "    c.CustomerCompanyName,\n",
                "    ECS.TotalSalesValue,\n",
                "    ECS.NumberOfSales\n",
                "ORDER BY\n",
                "    e.EmployeeLastName,\n",
                "    c.CustomerCompanyName;\n",
                "    \n",
                "--JSON\n",
                "USE Northwinds2022TSQLV7;\n",
                "GO\n",
                "CREATE OR ALTER FUNCTION dbo.CalculateAverageSale\n",
                "(\n",
                "    @TotalSalesAmount MONEY,\n",
                "    @NumberOfSales INT\n",
                ")\n",
                "RETURNS MONEY\n",
                "AS\n",
                "BEGIN\n",
                "    RETURN CASE WHEN @NumberOfSales > 0 THEN @TotalSalesAmount / @NumberOfSales ELSE 0 END;\n",
                "END;\n",
                "GO\n",
                ";WITH\n",
                "    EmployeeCustomerSales\n",
                "    AS\n",
                "    (\n",
                "        SELECT\n",
                "            o.EmployeeId,\n",
                "            o.CustomerId,\n",
                "            SUM(o.Freight) AS TotalSalesValue,\n",
                "            COUNT(o.OrderId) AS NumberOfSales\n",
                "        FROM\n",
                "            Sales.[Order] o\n",
                "        WHERE\n",
                "        o.OrderDate BETWEEN '2014-01-01' AND '2014-12-31'\n",
                "        GROUP BY\n",
                "        o.EmployeeId,\n",
                "        o.CustomerId\n",
                "    )\n",
                "\n",
                "SELECT\n",
                "    e.EmployeeFirstName,\n",
                "    e.EmployeeLastName,\n",
                "    c.CustomerCompanyName,\n",
                "    ECS.TotalSalesValue,\n",
                "    dbo.CalculateAverageSale(ECS.TotalSalesValue, ECS.NumberOfSales) AS AverageSaleValue\n",
                "FROM\n",
                "    EmployeeCustomerSales ECS\n",
                "    INNER JOIN\n",
                "    HumanResources.Employee e ON ECS.EmployeeId = e.EmployeeId\n",
                "    INNER JOIN\n",
                "    Sales.Customer c ON ECS.CustomerId = c.CustomerId\n",
                "GROUP BY\n",
                "    e.EmployeeFirstName,\n",
                "    e.EmployeeLastName,\n",
                "    c.CustomerCompanyName,\n",
                "    ECS.TotalSalesValue,\n",
                "    ECS.NumberOfSales\n",
                "ORDER BY\n",
                "    e.EmployeeLastName,\n",
                "    c.CustomerCompanyName\n",
                "FOR JSON PATH, ROOT('AverageSales');"
            ],
            "metadata": {
                "azdata_cell_guid": "58d689c9-46b1-43ea-962c-81127ed6dd6b",
                "language": "sql"
            },
            "outputs": [
                {
                    "output_type": "display_data",
                    "data": {
                        "text/html": "Commands completed successfully."
                    },
                    "metadata": {}
                },
                {
                    "output_type": "display_data",
                    "data": {
                        "text/html": "Commands completed successfully."
                    },
                    "metadata": {}
                },
                {
                    "output_type": "display_data",
                    "data": {
                        "text/html": "(139 rows affected)"
                    },
                    "metadata": {}
                },
                {
                    "output_type": "display_data",
                    "data": {
                        "text/html": "Commands completed successfully."
                    },
                    "metadata": {}
                },
                {
                    "output_type": "display_data",
                    "data": {
                        "text/html": "(139 rows affected)"
                    },
                    "metadata": {}
                },
                {
                    "output_type": "display_data",
                    "data": {
                        "text/html": "Total execution time: 00:00:00.443"
                    },
                    "metadata": {}
                },
                {
                    "output_type": "execute_result",
                    "metadata": {},
                    "execution_count": 39,
                    "data": {
                        "application/vnd.dataresource+json": {
                            "schema": {
                                "fields": [
                                    {
                                        "name": "EmployeeFirstName"
                                    },
                                    {
                                        "name": "EmployeeLastName"
                                    },
                                    {
                                        "name": "CustomerCompanyName"
                                    },
                                    {
                                        "name": "TotalSalesValue"
                                    },
                                    {
                                        "name": "AverageSaleValue"
                                    }
                                ]
                            },
                            "data": [
                                {
                                    "EmployeeFirstName": "Maria",
                                    "EmployeeLastName": "Cameron",
                                    "CustomerCompanyName": "Customer AHXHT",
                                    "TotalSalesValue": "53.80",
                                    "AverageSaleValue": "53.80"
                                },
                                {
                                    "EmployeeFirstName": "Maria",
                                    "EmployeeLastName": "Cameron",
                                    "CustomerCompanyName": "Customer FRXZL",
                                    "TotalSalesValue": "35.03",
                                    "AverageSaleValue": "35.03"
                                },
                                {
                                    "EmployeeFirstName": "Maria",
                                    "EmployeeLastName": "Cameron",
                                    "CustomerCompanyName": "Customer FVXPQ",
                                    "TotalSalesValue": "66.29",
                                    "AverageSaleValue": "66.29"
                                },
                                {
                                    "EmployeeFirstName": "Maria",
                                    "EmployeeLastName": "Cameron",
                                    "CustomerCompanyName": "Customer HFBZG",
                                    "TotalSalesValue": "34.24",
                                    "AverageSaleValue": "34.24"
                                },
                                {
                                    "EmployeeFirstName": "Maria",
                                    "EmployeeLastName": "Cameron",
                                    "CustomerCompanyName": "Customer HGVLZ",
                                    "TotalSalesValue": "92.69",
                                    "AverageSaleValue": "92.69"
                                },
                                {
                                    "EmployeeFirstName": "Maria",
                                    "EmployeeLastName": "Cameron",
                                    "CustomerCompanyName": "Customer IRRVL",
                                    "TotalSalesValue": "229.24",
                                    "AverageSaleValue": "229.24"
                                },
                                {
                                    "EmployeeFirstName": "Maria",
                                    "EmployeeLastName": "Cameron",
                                    "CustomerCompanyName": "Customer JUWXK",
                                    "TotalSalesValue": "79.70",
                                    "AverageSaleValue": "79.70"
                                },
                                {
                                    "EmployeeFirstName": "Maria",
                                    "EmployeeLastName": "Cameron",
                                    "CustomerCompanyName": "Customer KZQZT",
                                    "TotalSalesValue": "257.62",
                                    "AverageSaleValue": "257.62"
                                },
                                {
                                    "EmployeeFirstName": "Maria",
                                    "EmployeeLastName": "Cameron",
                                    "CustomerCompanyName": "Customer LCYBZ",
                                    "TotalSalesValue": "17.52",
                                    "AverageSaleValue": "17.52"
                                },
                                {
                                    "EmployeeFirstName": "Maria",
                                    "EmployeeLastName": "Cameron",
                                    "CustomerCompanyName": "Customer LJUCA",
                                    "TotalSalesValue": "4.73",
                                    "AverageSaleValue": "4.73"
                                },
                                {
                                    "EmployeeFirstName": "Maria",
                                    "EmployeeLastName": "Cameron",
                                    "CustomerCompanyName": "Customer MDLWA",
                                    "TotalSalesValue": "10.14",
                                    "AverageSaleValue": "10.14"
                                },
                                {
                                    "EmployeeFirstName": "Maria",
                                    "EmployeeLastName": "Cameron",
                                    "CustomerCompanyName": "Customer NRCSK",
                                    "TotalSalesValue": "8.56",
                                    "AverageSaleValue": "8.56"
                                },
                                {
                                    "EmployeeFirstName": "Maria",
                                    "EmployeeLastName": "Cameron",
                                    "CustomerCompanyName": "Customer NYUHS",
                                    "TotalSalesValue": "48.29",
                                    "AverageSaleValue": "48.29"
                                },
                                {
                                    "EmployeeFirstName": "Maria",
                                    "EmployeeLastName": "Cameron",
                                    "CustomerCompanyName": "Customer OXFRU",
                                    "TotalSalesValue": "25.83",
                                    "AverageSaleValue": "25.83"
                                },
                                {
                                    "EmployeeFirstName": "Maria",
                                    "EmployeeLastName": "Cameron",
                                    "CustomerCompanyName": "Customer QVEPD",
                                    "TotalSalesValue": "12.76",
                                    "AverageSaleValue": "12.76"
                                },
                                {
                                    "EmployeeFirstName": "Maria",
                                    "EmployeeLastName": "Cameron",
                                    "CustomerCompanyName": "Customer SNXOJ",
                                    "TotalSalesValue": "45.08",
                                    "AverageSaleValue": "45.08"
                                },
                                {
                                    "EmployeeFirstName": "Maria",
                                    "EmployeeLastName": "Cameron",
                                    "CustomerCompanyName": "Customer VONTK",
                                    "TotalSalesValue": "13.84",
                                    "AverageSaleValue": "13.84"
                                },
                                {
                                    "EmployeeFirstName": "Maria",
                                    "EmployeeLastName": "Cameron",
                                    "CustomerCompanyName": "Customer XOJYP",
                                    "TotalSalesValue": "195.68",
                                    "AverageSaleValue": "195.68"
                                },
                                {
                                    "EmployeeFirstName": "Maria",
                                    "EmployeeLastName": "Cameron",
                                    "CustomerCompanyName": "Customer ZRNDE",
                                    "TotalSalesValue": "27.36",
                                    "AverageSaleValue": "27.36"
                                },
                                {
                                    "EmployeeFirstName": "Sara",
                                    "EmployeeLastName": "Davis",
                                    "CustomerCompanyName": "Customer AHPOP",
                                    "TotalSalesValue": "22.21",
                                    "AverageSaleValue": "22.21"
                                },
                                {
                                    "EmployeeFirstName": "Sara",
                                    "EmployeeLastName": "Davis",
                                    "CustomerCompanyName": "Customer AZJED",
                                    "TotalSalesValue": "135.35",
                                    "AverageSaleValue": "135.35"
                                },
                                {
                                    "EmployeeFirstName": "Sara",
                                    "EmployeeLastName": "Davis",
                                    "CustomerCompanyName": "Customer BSVAR",
                                    "TotalSalesValue": "24.69",
                                    "AverageSaleValue": "24.69"
                                },
                                {
                                    "EmployeeFirstName": "Sara",
                                    "EmployeeLastName": "Davis",
                                    "CustomerCompanyName": "Customer CCFIZ",
                                    "TotalSalesValue": "3.94",
                                    "AverageSaleValue": "3.94"
                                },
                                {
                                    "EmployeeFirstName": "Sara",
                                    "EmployeeLastName": "Davis",
                                    "CustomerCompanyName": "Customer CQRAA",
                                    "TotalSalesValue": "26.93",
                                    "AverageSaleValue": "26.93"
                                },
                                {
                                    "EmployeeFirstName": "Sara",
                                    "EmployeeLastName": "Davis",
                                    "CustomerCompanyName": "Customer GLLAG",
                                    "TotalSalesValue": "64.86",
                                    "AverageSaleValue": "64.86"
                                },
                                {
                                    "EmployeeFirstName": "Sara",
                                    "EmployeeLastName": "Davis",
                                    "CustomerCompanyName": "Customer IRRVL",
                                    "TotalSalesValue": "260.00",
                                    "AverageSaleValue": "130.00"
                                },
                                {
                                    "EmployeeFirstName": "Sara",
                                    "EmployeeLastName": "Davis",
                                    "CustomerCompanyName": "Customer LCOUJ",
                                    "TotalSalesValue": "126.56",
                                    "AverageSaleValue": "126.56"
                                },
                                {
                                    "EmployeeFirstName": "Sara",
                                    "EmployeeLastName": "Davis",
                                    "CustomerCompanyName": "Customer LVJSO",
                                    "TotalSalesValue": "30.34",
                                    "AverageSaleValue": "30.34"
                                },
                                {
                                    "EmployeeFirstName": "Sara",
                                    "EmployeeLastName": "Davis",
                                    "CustomerCompanyName": "Customer NYUHS",
                                    "TotalSalesValue": "224.31",
                                    "AverageSaleValue": "112.155"
                                },
                                {
                                    "EmployeeFirstName": "Sara",
                                    "EmployeeLastName": "Davis",
                                    "CustomerCompanyName": "Customer PVDZC",
                                    "TotalSalesValue": "20.39",
                                    "AverageSaleValue": "20.39"
                                },
                                {
                                    "EmployeeFirstName": "Sara",
                                    "EmployeeLastName": "Davis",
                                    "CustomerCompanyName": "Customer RFNQC",
                                    "TotalSalesValue": "71.97",
                                    "AverageSaleValue": "71.97"
                                },
                                {
                                    "EmployeeFirstName": "Sara",
                                    "EmployeeLastName": "Davis",
                                    "CustomerCompanyName": "Customer RTXGC",
                                    "TotalSalesValue": "166.31",
                                    "AverageSaleValue": "166.31"
                                },
                                {
                                    "EmployeeFirstName": "Sara",
                                    "EmployeeLastName": "Davis",
                                    "CustomerCompanyName": "Customer SIUIH",
                                    "TotalSalesValue": "7.56",
                                    "AverageSaleValue": "7.56"
                                },
                                {
                                    "EmployeeFirstName": "Sara",
                                    "EmployeeLastName": "Davis",
                                    "CustomerCompanyName": "Customer THHDP",
                                    "TotalSalesValue": "302.84",
                                    "AverageSaleValue": "151.42"
                                },
                                {
                                    "EmployeeFirstName": "Sara",
                                    "EmployeeLastName": "Davis",
                                    "CustomerCompanyName": "Customer TMXGN",
                                    "TotalSalesValue": "93.63",
                                    "AverageSaleValue": "93.63"
                                },
                                {
                                    "EmployeeFirstName": "Sara",
                                    "EmployeeLastName": "Davis",
                                    "CustomerCompanyName": "Customer VONTK",
                                    "TotalSalesValue": "84.97",
                                    "AverageSaleValue": "42.485"
                                },
                                {
                                    "EmployeeFirstName": "Sara",
                                    "EmployeeLastName": "Davis",
                                    "CustomerCompanyName": "Customer XIIWM",
                                    "TotalSalesValue": "0.45",
                                    "AverageSaleValue": "0.45"
                                },
                                {
                                    "EmployeeFirstName": "Sara",
                                    "EmployeeLastName": "Davis",
                                    "CustomerCompanyName": "Customer XOJYP",
                                    "TotalSalesValue": "30.96",
                                    "AverageSaleValue": "30.96"
                                },
                                {
                                    "EmployeeFirstName": "Sara",
                                    "EmployeeLastName": "Davis",
                                    "CustomerCompanyName": "Customer XPNIK",
                                    "TotalSalesValue": "34.88",
                                    "AverageSaleValue": "34.88"
                                },
                                {
                                    "EmployeeFirstName": "Sara",
                                    "EmployeeLastName": "Davis",
                                    "CustomerCompanyName": "Customer YQQWW",
                                    "TotalSalesValue": "1.35",
                                    "AverageSaleValue": "1.35"
                                },
                                {
                                    "EmployeeFirstName": "Sara",
                                    "EmployeeLastName": "Davis",
                                    "CustomerCompanyName": "Customer ZHYOS",
                                    "TotalSalesValue": "136.54",
                                    "AverageSaleValue": "136.54"
                                },
                                {
                                    "EmployeeFirstName": "Patricia",
                                    "EmployeeLastName": "Doyle",
                                    "CustomerCompanyName": "Customer CCKOT",
                                    "TotalSalesValue": "148.33",
                                    "AverageSaleValue": "148.33"
                                },
                                {
                                    "EmployeeFirstName": "Patricia",
                                    "EmployeeLastName": "Doyle",
                                    "CustomerCompanyName": "Customer KIDPX",
                                    "TotalSalesValue": "13.99",
                                    "AverageSaleValue": "13.99"
                                },
                                {
                                    "EmployeeFirstName": "Patricia",
                                    "EmployeeLastName": "Doyle",
                                    "CustomerCompanyName": "Customer LCOUJ",
                                    "TotalSalesValue": "214.27",
                                    "AverageSaleValue": "214.27"
                                },
                                {
                                    "EmployeeFirstName": "Patricia",
                                    "EmployeeLastName": "Doyle",
                                    "CustomerCompanyName": "Customer RTXGC",
                                    "TotalSalesValue": "10.19",
                                    "AverageSaleValue": "10.19"
                                },
                                {
                                    "EmployeeFirstName": "Patricia",
                                    "EmployeeLastName": "Doyle",
                                    "CustomerCompanyName": "Customer THHDP",
                                    "TotalSalesValue": "146.06",
                                    "AverageSaleValue": "146.06"
                                },
                                {
                                    "EmployeeFirstName": "Don",
                                    "EmployeeLastName": "Funk",
                                    "CustomerCompanyName": "Customer AHPOP",
                                    "TotalSalesValue": "34.86",
                                    "AverageSaleValue": "34.86"
                                },
                                {
                                    "EmployeeFirstName": "Don",
                                    "EmployeeLastName": "Funk",
                                    "CustomerCompanyName": "Customer CQRAA",
                                    "TotalSalesValue": "17.68",
                                    "AverageSaleValue": "17.68"
                                },
                                {
                                    "EmployeeFirstName": "Don",
                                    "EmployeeLastName": "Funk",
                                    "CustomerCompanyName": "Customer CYZTN",
                                    "TotalSalesValue": "63.36",
                                    "AverageSaleValue": "63.36"
                                },
                                {
                                    "EmployeeFirstName": "Don",
                                    "EmployeeLastName": "Funk",
                                    "CustomerCompanyName": "Customer DVFMB",
                                    "TotalSalesValue": "0.56",
                                    "AverageSaleValue": "0.56"
                                },
                                {
                                    "EmployeeFirstName": "Don",
                                    "EmployeeLastName": "Funk",
                                    "CustomerCompanyName": "Customer ENQZT",
                                    "TotalSalesValue": "1.15",
                                    "AverageSaleValue": "1.15"
                                },
                                {
                                    "EmployeeFirstName": "Don",
                                    "EmployeeLastName": "Funk",
                                    "CustomerCompanyName": "Customer HGVLZ",
                                    "TotalSalesValue": "8.98",
                                    "AverageSaleValue": "8.98"
                                },
                                {
                                    "EmployeeFirstName": "Don",
                                    "EmployeeLastName": "Funk",
                                    "CustomerCompanyName": "Customer IRRVL",
                                    "TotalSalesValue": "251.02",
                                    "AverageSaleValue": "125.51"
                                },
                                {
                                    "EmployeeFirstName": "Don",
                                    "EmployeeLastName": "Funk",
                                    "CustomerCompanyName": "Customer LCOUJ",
                                    "TotalSalesValue": "89.16",
                                    "AverageSaleValue": "89.16"
                                },
                                {
                                    "EmployeeFirstName": "Don",
                                    "EmployeeLastName": "Funk",
                                    "CustomerCompanyName": "Customer LOLJO",
                                    "TotalSalesValue": "122.46",
                                    "AverageSaleValue": "122.46"
                                },
                                {
                                    "EmployeeFirstName": "Don",
                                    "EmployeeLastName": "Funk",
                                    "CustomerCompanyName": "Customer PVDZC",
                                    "TotalSalesValue": "15.66",
                                    "AverageSaleValue": "15.66"
                                },
                                {
                                    "EmployeeFirstName": "Don",
                                    "EmployeeLastName": "Funk",
                                    "CustomerCompanyName": "Customer PZNLA",
                                    "TotalSalesValue": "125.77",
                                    "AverageSaleValue": "125.77"
                                },
                                {
                                    "EmployeeFirstName": "Don",
                                    "EmployeeLastName": "Funk",
                                    "CustomerCompanyName": "Customer QXVLA",
                                    "TotalSalesValue": "55.28",
                                    "AverageSaleValue": "55.28"
                                },
                                {
                                    "EmployeeFirstName": "Don",
                                    "EmployeeLastName": "Funk",
                                    "CustomerCompanyName": "Customer SNXOJ",
                                    "TotalSalesValue": "40.26",
                                    "AverageSaleValue": "40.26"
                                },
                                {
                                    "EmployeeFirstName": "Don",
                                    "EmployeeLastName": "Funk",
                                    "CustomerCompanyName": "Customer THHDP",
                                    "TotalSalesValue": "101.95",
                                    "AverageSaleValue": "101.95"
                                },
                                {
                                    "EmployeeFirstName": "Don",
                                    "EmployeeLastName": "Funk",
                                    "CustomerCompanyName": "Customer WULWD",
                                    "TotalSalesValue": "45.03",
                                    "AverageSaleValue": "45.03"
                                },
                                {
                                    "EmployeeFirstName": "Russell",
                                    "EmployeeLastName": "King",
                                    "CustomerCompanyName": "Customer AHXHT",
                                    "TotalSalesValue": "0.40",
                                    "AverageSaleValue": "0.40"
                                },
                                {
                                    "EmployeeFirstName": "Russell",
                                    "EmployeeLastName": "King",
                                    "CustomerCompanyName": "Customer FRXZL",
                                    "TotalSalesValue": "42.11",
                                    "AverageSaleValue": "42.11"
                                },
                                {
                                    "EmployeeFirstName": "Russell",
                                    "EmployeeLastName": "King",
                                    "CustomerCompanyName": "Customer JMIKW",
                                    "TotalSalesValue": "26.78",
                                    "AverageSaleValue": "26.78"
                                },
                                {
                                    "EmployeeFirstName": "Russell",
                                    "EmployeeLastName": "King",
                                    "CustomerCompanyName": "Customer KSLQF",
                                    "TotalSalesValue": "107.83",
                                    "AverageSaleValue": "107.83"
                                },
                                {
                                    "EmployeeFirstName": "Russell",
                                    "EmployeeLastName": "King",
                                    "CustomerCompanyName": "Customer LOLJO",
                                    "TotalSalesValue": "360.63",
                                    "AverageSaleValue": "360.63"
                                },
                                {
                                    "EmployeeFirstName": "Russell",
                                    "EmployeeLastName": "King",
                                    "CustomerCompanyName": "Customer MLTDN",
                                    "TotalSalesValue": "1.61",
                                    "AverageSaleValue": "1.61"
                                },
                                {
                                    "EmployeeFirstName": "Russell",
                                    "EmployeeLastName": "King",
                                    "CustomerCompanyName": "Customer QZURI",
                                    "TotalSalesValue": "15.51",
                                    "AverageSaleValue": "15.51"
                                },
                                {
                                    "EmployeeFirstName": "Russell",
                                    "EmployeeLastName": "King",
                                    "CustomerCompanyName": "Customer UBHAU",
                                    "TotalSalesValue": "22.77",
                                    "AverageSaleValue": "22.77"
                                },
                                {
                                    "EmployeeFirstName": "Russell",
                                    "EmployeeLastName": "King",
                                    "CustomerCompanyName": "Customer VONTK",
                                    "TotalSalesValue": "64.50",
                                    "AverageSaleValue": "64.50"
                                },
                                {
                                    "EmployeeFirstName": "Russell",
                                    "EmployeeLastName": "King",
                                    "CustomerCompanyName": "Customer XOJYP",
                                    "TotalSalesValue": "8.63",
                                    "AverageSaleValue": "8.63"
                                },
                                {
                                    "EmployeeFirstName": "Russell",
                                    "EmployeeLastName": "King",
                                    "CustomerCompanyName": "Customer ZRNDE",
                                    "TotalSalesValue": "13.55",
                                    "AverageSaleValue": "13.55"
                                },
                                {
                                    "EmployeeFirstName": "Judy",
                                    "EmployeeLastName": "Lew",
                                    "CustomerCompanyName": "Customer FEVNN",
                                    "TotalSalesValue": "5.45",
                                    "AverageSaleValue": "5.45"
                                },
                                {
                                    "EmployeeFirstName": "Judy",
                                    "EmployeeLastName": "Lew",
                                    "CustomerCompanyName": "Customer FRXZL",
                                    "TotalSalesValue": "47.30",
                                    "AverageSaleValue": "47.30"
                                },
                                {
                                    "EmployeeFirstName": "Judy",
                                    "EmployeeLastName": "Lew",
                                    "CustomerCompanyName": "Customer HGVLZ",
                                    "TotalSalesValue": "168.64",
                                    "AverageSaleValue": "168.64"
                                },
                                {
                                    "EmployeeFirstName": "Judy",
                                    "EmployeeLastName": "Lew",
                                    "CustomerCompanyName": "Customer IBVRG",
                                    "TotalSalesValue": "58.17",
                                    "AverageSaleValue": "58.17"
                                },
                                {
                                    "EmployeeFirstName": "Judy",
                                    "EmployeeLastName": "Lew",
                                    "CustomerCompanyName": "Customer IRRVL",
                                    "TotalSalesValue": "76.07",
                                    "AverageSaleValue": "76.07"
                                },
                                {
                                    "EmployeeFirstName": "Judy",
                                    "EmployeeLastName": "Lew",
                                    "CustomerCompanyName": "Customer KBUDE",
                                    "TotalSalesValue": "22.00",
                                    "AverageSaleValue": "22.00"
                                },
                                {
                                    "EmployeeFirstName": "Judy",
                                    "EmployeeLastName": "Lew",
                                    "CustomerCompanyName": "Customer LJUCA",
                                    "TotalSalesValue": "3.43",
                                    "AverageSaleValue": "3.43"
                                },
                                {
                                    "EmployeeFirstName": "Judy",
                                    "EmployeeLastName": "Lew",
                                    "CustomerCompanyName": "Customer LVJSO",
                                    "TotalSalesValue": "20.12",
                                    "AverageSaleValue": "20.12"
                                },
                                {
                                    "EmployeeFirstName": "Judy",
                                    "EmployeeLastName": "Lew",
                                    "CustomerCompanyName": "Customer NRCSK",
                                    "TotalSalesValue": "41.34",
                                    "AverageSaleValue": "41.34"
                                },
                                {
                                    "EmployeeFirstName": "Judy",
                                    "EmployeeLastName": "Lew",
                                    "CustomerCompanyName": "Customer NYUHS",
                                    "TotalSalesValue": "142.08",
                                    "AverageSaleValue": "142.08"
                                },
                                {
                                    "EmployeeFirstName": "Judy",
                                    "EmployeeLastName": "Lew",
                                    "CustomerCompanyName": "Customer PVDZC",
                                    "TotalSalesValue": "52.84",
                                    "AverageSaleValue": "52.84"
                                },
                                {
                                    "EmployeeFirstName": "Judy",
                                    "EmployeeLastName": "Lew",
                                    "CustomerCompanyName": "Customer RTXGC",
                                    "TotalSalesValue": "96.04",
                                    "AverageSaleValue": "96.04"
                                },
                                {
                                    "EmployeeFirstName": "Judy",
                                    "EmployeeLastName": "Lew",
                                    "CustomerCompanyName": "Customer SRQVM",
                                    "TotalSalesValue": "13.97",
                                    "AverageSaleValue": "13.97"
                                },
                                {
                                    "EmployeeFirstName": "Judy",
                                    "EmployeeLastName": "Lew",
                                    "CustomerCompanyName": "Customer XPNIK",
                                    "TotalSalesValue": "105.55",
                                    "AverageSaleValue": "35.1833"
                                },
                                {
                                    "EmployeeFirstName": "Judy",
                                    "EmployeeLastName": "Lew",
                                    "CustomerCompanyName": "Customer XYUFB",
                                    "TotalSalesValue": "1.30",
                                    "AverageSaleValue": "1.30"
                                },
                                {
                                    "EmployeeFirstName": "Judy",
                                    "EmployeeLastName": "Lew",
                                    "CustomerCompanyName": "Customer ZHYOS",
                                    "TotalSalesValue": "25.73",
                                    "AverageSaleValue": "25.73"
                                },
                                {
                                    "EmployeeFirstName": "Sven",
                                    "EmployeeLastName": "Mortensen",
                                    "CustomerCompanyName": "Customer AHPOP",
                                    "TotalSalesValue": "288.43",
                                    "AverageSaleValue": "288.43"
                                },
                                {
                                    "EmployeeFirstName": "Sven",
                                    "EmployeeLastName": "Mortensen",
                                    "CustomerCompanyName": "Customer CYZTN",
                                    "TotalSalesValue": "5.44",
                                    "AverageSaleValue": "5.44"
                                },
                                {
                                    "EmployeeFirstName": "Sven",
                                    "EmployeeLastName": "Mortensen",
                                    "CustomerCompanyName": "Customer ENQZT",
                                    "TotalSalesValue": "32.38",
                                    "AverageSaleValue": "32.38"
                                },
                                {
                                    "EmployeeFirstName": "Sven",
                                    "EmployeeLastName": "Mortensen",
                                    "CustomerCompanyName": "Customer QXVLA",
                                    "TotalSalesValue": "5.74",
                                    "AverageSaleValue": "5.74"
                                },
                                {
                                    "EmployeeFirstName": "Sven",
                                    "EmployeeLastName": "Mortensen",
                                    "CustomerCompanyName": "Customer QZURI",
                                    "TotalSalesValue": "60.26",
                                    "AverageSaleValue": "60.26"
                                },
                                {
                                    "EmployeeFirstName": "Sven",
                                    "EmployeeLastName": "Mortensen",
                                    "CustomerCompanyName": "Customer WFIZJ",
                                    "TotalSalesValue": "890.78",
                                    "AverageSaleValue": "890.78"
                                },
                                {
                                    "EmployeeFirstName": "Sven",
                                    "EmployeeLastName": "Mortensen",
                                    "CustomerCompanyName": "Customer WNMAF",
                                    "TotalSalesValue": "22.98",
                                    "AverageSaleValue": "22.98"
                                },
                                {
                                    "EmployeeFirstName": "Sven",
                                    "EmployeeLastName": "Mortensen",
                                    "CustomerCompanyName": "Customer XIIWM",
                                    "TotalSalesValue": "19.64",
                                    "AverageSaleValue": "19.64"
                                },
                                {
                                    "EmployeeFirstName": "Sven",
                                    "EmployeeLastName": "Mortensen",
                                    "CustomerCompanyName": "Customer YBQTI",
                                    "TotalSalesValue": "4.56",
                                    "AverageSaleValue": "4.56"
                                },
                                {
                                    "EmployeeFirstName": "Sven",
                                    "EmployeeLastName": "Mortensen",
                                    "CustomerCompanyName": "Customer ZHYOS",
                                    "TotalSalesValue": "35.16",
                                    "AverageSaleValue": "17.58"
                                },
                                {
                                    "EmployeeFirstName": "Yael",
                                    "EmployeeLastName": "Peled",
                                    "CustomerCompanyName": "Customer AZJED",
                                    "TotalSalesValue": "371.67",
                                    "AverageSaleValue": "123.89"
                                },
                                {
                                    "EmployeeFirstName": "Yael",
                                    "EmployeeLastName": "Peled",
                                    "CustomerCompanyName": "Customer EEALV",
                                    "TotalSalesValue": "47.42",
                                    "AverageSaleValue": "47.42"
                                },
                                {
                                    "EmployeeFirstName": "Yael",
                                    "EmployeeLastName": "Peled",
                                    "CustomerCompanyName": "Customer FEVNN",
                                    "TotalSalesValue": "30.54",
                                    "AverageSaleValue": "30.54"
                                },
                                {
                                    "EmployeeFirstName": "Yael",
                                    "EmployeeLastName": "Peled",
                                    "CustomerCompanyName": "Customer FRXZL",
                                    "TotalSalesValue": "124.12",
                                    "AverageSaleValue": "124.12"
                                },
                                {
                                    "EmployeeFirstName": "Yael",
                                    "EmployeeLastName": "Peled",
                                    "CustomerCompanyName": "Customer GLLAG",
                                    "TotalSalesValue": "4.88",
                                    "AverageSaleValue": "4.88"
                                },
                                {
                                    "EmployeeFirstName": "Yael",
                                    "EmployeeLastName": "Peled",
                                    "CustomerCompanyName": "Customer IBVRG",
                                    "TotalSalesValue": "65.83",
                                    "AverageSaleValue": "65.83"
                                },
                                {
                                    "EmployeeFirstName": "Yael",
                                    "EmployeeLastName": "Peled",
                                    "CustomerCompanyName": "Customer KIDPX",
                                    "TotalSalesValue": "3.10",
                                    "AverageSaleValue": "3.10"
                                },
                                {
                                    "EmployeeFirstName": "Yael",
                                    "EmployeeLastName": "Peled",
                                    "CustomerCompanyName": "Customer KZQZT",
                                    "TotalSalesValue": "84.21",
                                    "AverageSaleValue": "84.21"
                                },
                                {
                                    "EmployeeFirstName": "Yael",
                                    "EmployeeLastName": "Peled",
                                    "CustomerCompanyName": "Customer LHANT",
                                    "TotalSalesValue": "7.45",
                                    "AverageSaleValue": "7.45"
                                },
                                {
                                    "EmployeeFirstName": "Yael",
                                    "EmployeeLastName": "Peled",
                                    "CustomerCompanyName": "Customer LJUCA",
                                    "TotalSalesValue": "41.76",
                                    "AverageSaleValue": "41.76"
                                },
                                {
                                    "EmployeeFirstName": "Yael",
                                    "EmployeeLastName": "Peled",
                                    "CustomerCompanyName": "Customer NYUHS",
                                    "TotalSalesValue": "147.26",
                                    "AverageSaleValue": "147.26"
                                },
                                {
                                    "EmployeeFirstName": "Yael",
                                    "EmployeeLastName": "Peled",
                                    "CustomerCompanyName": "Customer OXFRU",
                                    "TotalSalesValue": "186.93",
                                    "AverageSaleValue": "93.465"
                                },
                                {
                                    "EmployeeFirstName": "Yael",
                                    "EmployeeLastName": "Peled",
                                    "CustomerCompanyName": "Customer QNIVZ",
                                    "TotalSalesValue": "55.09",
                                    "AverageSaleValue": "55.09"
                                },
                                {
                                    "EmployeeFirstName": "Yael",
                                    "EmployeeLastName": "Peled",
                                    "CustomerCompanyName": "Customer QUHWH",
                                    "TotalSalesValue": "77.92",
                                    "AverageSaleValue": "77.92"
                                },
                                {
                                    "EmployeeFirstName": "Yael",
                                    "EmployeeLastName": "Peled",
                                    "CustomerCompanyName": "Customer QVEPD",
                                    "TotalSalesValue": "29.76",
                                    "AverageSaleValue": "29.76"
                                },
                                {
                                    "EmployeeFirstName": "Yael",
                                    "EmployeeLastName": "Peled",
                                    "CustomerCompanyName": "Customer QXVLA",
                                    "TotalSalesValue": "131.70",
                                    "AverageSaleValue": "131.70"
                                },
                                {
                                    "EmployeeFirstName": "Yael",
                                    "EmployeeLastName": "Peled",
                                    "CustomerCompanyName": "Customer SFOGW",
                                    "TotalSalesValue": "57.57",
                                    "AverageSaleValue": "28.785"
                                },
                                {
                                    "EmployeeFirstName": "Yael",
                                    "EmployeeLastName": "Peled",
                                    "CustomerCompanyName": "Customer SIUIH",
                                    "TotalSalesValue": "15.63",
                                    "AverageSaleValue": "7.815"
                                },
                                {
                                    "EmployeeFirstName": "Yael",
                                    "EmployeeLastName": "Peled",
                                    "CustomerCompanyName": "Customer SNXOJ",
                                    "TotalSalesValue": "0.78",
                                    "AverageSaleValue": "0.78"
                                },
                                {
                                    "EmployeeFirstName": "Yael",
                                    "EmployeeLastName": "Peled",
                                    "CustomerCompanyName": "Customer THHDP",
                                    "TotalSalesValue": "94.77",
                                    "AverageSaleValue": "94.77"
                                },
                                {
                                    "EmployeeFirstName": "Yael",
                                    "EmployeeLastName": "Peled",
                                    "CustomerCompanyName": "Customer UMTLM",
                                    "TotalSalesValue": "81.91",
                                    "AverageSaleValue": "81.91"
                                },
                                {
                                    "EmployeeFirstName": "Yael",
                                    "EmployeeLastName": "Peled",
                                    "CustomerCompanyName": "Customer VMLOG",
                                    "TotalSalesValue": "3.25",
                                    "AverageSaleValue": "3.25"
                                },
                                {
                                    "EmployeeFirstName": "Yael",
                                    "EmployeeLastName": "Peled",
                                    "CustomerCompanyName": "Customer WULWD",
                                    "TotalSalesValue": "3.05",
                                    "AverageSaleValue": "3.05"
                                },
                                {
                                    "EmployeeFirstName": "Yael",
                                    "EmployeeLastName": "Peled",
                                    "CustomerCompanyName": "Customer XOJYP",
                                    "TotalSalesValue": "191.67",
                                    "AverageSaleValue": "191.67"
                                },
                                {
                                    "EmployeeFirstName": "Yael",
                                    "EmployeeLastName": "Peled",
                                    "CustomerCompanyName": "Customer XYUFB",
                                    "TotalSalesValue": "87.03",
                                    "AverageSaleValue": "87.03"
                                },
                                {
                                    "EmployeeFirstName": "Yael",
                                    "EmployeeLastName": "Peled",
                                    "CustomerCompanyName": "Customer YBQTI",
                                    "TotalSalesValue": "23.29",
                                    "AverageSaleValue": "23.29"
                                },
                                {
                                    "EmployeeFirstName": "Paul",
                                    "EmployeeLastName": "Suurs",
                                    "CustomerCompanyName": "Customer CYZTN",
                                    "TotalSalesValue": "3.67",
                                    "AverageSaleValue": "3.67"
                                },
                                {
                                    "EmployeeFirstName": "Paul",
                                    "EmployeeLastName": "Suurs",
                                    "CustomerCompanyName": "Customer DVFMB",
                                    "TotalSalesValue": "12.69",
                                    "AverageSaleValue": "12.69"
                                },
                                {
                                    "EmployeeFirstName": "Paul",
                                    "EmployeeLastName": "Suurs",
                                    "CustomerCompanyName": "Customer ENQZT",
                                    "TotalSalesValue": "6.01",
                                    "AverageSaleValue": "6.01"
                                },
                                {
                                    "EmployeeFirstName": "Paul",
                                    "EmployeeLastName": "Suurs",
                                    "CustomerCompanyName": "Customer FAPSM",
                                    "TotalSalesValue": "11.61",
                                    "AverageSaleValue": "11.61"
                                },
                                {
                                    "EmployeeFirstName": "Paul",
                                    "EmployeeLastName": "Suurs",
                                    "CustomerCompanyName": "Customer FRXZL",
                                    "TotalSalesValue": "168.22",
                                    "AverageSaleValue": "168.22"
                                },
                                {
                                    "EmployeeFirstName": "Paul",
                                    "EmployeeLastName": "Suurs",
                                    "CustomerCompanyName": "Customer HFBZG",
                                    "TotalSalesValue": "41.95",
                                    "AverageSaleValue": "41.95"
                                },
                                {
                                    "EmployeeFirstName": "Paul",
                                    "EmployeeLastName": "Suurs",
                                    "CustomerCompanyName": "Customer NYUHS",
                                    "TotalSalesValue": "98.03",
                                    "AverageSaleValue": "98.03"
                                },
                                {
                                    "EmployeeFirstName": "Paul",
                                    "EmployeeLastName": "Suurs",
                                    "CustomerCompanyName": "Customer SNXOJ",
                                    "TotalSalesValue": "36.71",
                                    "AverageSaleValue": "36.71"
                                },
                                {
                                    "EmployeeFirstName": "Paul",
                                    "EmployeeLastName": "Suurs",
                                    "CustomerCompanyName": "Customer THHDP",
                                    "TotalSalesValue": "126.38",
                                    "AverageSaleValue": "126.38"
                                },
                                {
                                    "EmployeeFirstName": "Paul",
                                    "EmployeeLastName": "Suurs",
                                    "CustomerCompanyName": "Customer UMTLM",
                                    "TotalSalesValue": "184.41",
                                    "AverageSaleValue": "184.41"
                                },
                                {
                                    "EmployeeFirstName": "Paul",
                                    "EmployeeLastName": "Suurs",
                                    "CustomerCompanyName": "Customer WNMAF",
                                    "TotalSalesValue": "1.17",
                                    "AverageSaleValue": "1.17"
                                },
                                {
                                    "EmployeeFirstName": "Paul",
                                    "EmployeeLastName": "Suurs",
                                    "CustomerCompanyName": "Customer WULWD",
                                    "TotalSalesValue": "6.40",
                                    "AverageSaleValue": "6.40"
                                },
                                {
                                    "EmployeeFirstName": "Paul",
                                    "EmployeeLastName": "Suurs",
                                    "CustomerCompanyName": "Customer XIIWM",
                                    "TotalSalesValue": "64.19",
                                    "AverageSaleValue": "64.19"
                                },
                                {
                                    "EmployeeFirstName": "Paul",
                                    "EmployeeLastName": "Suurs",
                                    "CustomerCompanyName": "Customer XOJYP",
                                    "TotalSalesValue": "4.54",
                                    "AverageSaleValue": "4.54"
                                },
                                {
                                    "EmployeeFirstName": "Paul",
                                    "EmployeeLastName": "Suurs",
                                    "CustomerCompanyName": "Customer XPNIK",
                                    "TotalSalesValue": "0.12",
                                    "AverageSaleValue": "0.12"
                                }
                            ]
                        },
                        "text/html": [
                            "<table>",
                            "<tr><th>EmployeeFirstName</th><th>EmployeeLastName</th><th>CustomerCompanyName</th><th>TotalSalesValue</th><th>AverageSaleValue</th></tr>",
                            "<tr><td>Maria</td><td>Cameron</td><td>Customer AHXHT</td><td>53.80</td><td>53.80</td></tr>",
                            "<tr><td>Maria</td><td>Cameron</td><td>Customer FRXZL</td><td>35.03</td><td>35.03</td></tr>",
                            "<tr><td>Maria</td><td>Cameron</td><td>Customer FVXPQ</td><td>66.29</td><td>66.29</td></tr>",
                            "<tr><td>Maria</td><td>Cameron</td><td>Customer HFBZG</td><td>34.24</td><td>34.24</td></tr>",
                            "<tr><td>Maria</td><td>Cameron</td><td>Customer HGVLZ</td><td>92.69</td><td>92.69</td></tr>",
                            "<tr><td>Maria</td><td>Cameron</td><td>Customer IRRVL</td><td>229.24</td><td>229.24</td></tr>",
                            "<tr><td>Maria</td><td>Cameron</td><td>Customer JUWXK</td><td>79.70</td><td>79.70</td></tr>",
                            "<tr><td>Maria</td><td>Cameron</td><td>Customer KZQZT</td><td>257.62</td><td>257.62</td></tr>",
                            "<tr><td>Maria</td><td>Cameron</td><td>Customer LCYBZ</td><td>17.52</td><td>17.52</td></tr>",
                            "<tr><td>Maria</td><td>Cameron</td><td>Customer LJUCA</td><td>4.73</td><td>4.73</td></tr>",
                            "<tr><td>Maria</td><td>Cameron</td><td>Customer MDLWA</td><td>10.14</td><td>10.14</td></tr>",
                            "<tr><td>Maria</td><td>Cameron</td><td>Customer NRCSK</td><td>8.56</td><td>8.56</td></tr>",
                            "<tr><td>Maria</td><td>Cameron</td><td>Customer NYUHS</td><td>48.29</td><td>48.29</td></tr>",
                            "<tr><td>Maria</td><td>Cameron</td><td>Customer OXFRU</td><td>25.83</td><td>25.83</td></tr>",
                            "<tr><td>Maria</td><td>Cameron</td><td>Customer QVEPD</td><td>12.76</td><td>12.76</td></tr>",
                            "<tr><td>Maria</td><td>Cameron</td><td>Customer SNXOJ</td><td>45.08</td><td>45.08</td></tr>",
                            "<tr><td>Maria</td><td>Cameron</td><td>Customer VONTK</td><td>13.84</td><td>13.84</td></tr>",
                            "<tr><td>Maria</td><td>Cameron</td><td>Customer XOJYP</td><td>195.68</td><td>195.68</td></tr>",
                            "<tr><td>Maria</td><td>Cameron</td><td>Customer ZRNDE</td><td>27.36</td><td>27.36</td></tr>",
                            "<tr><td>Sara</td><td>Davis</td><td>Customer AHPOP</td><td>22.21</td><td>22.21</td></tr>",
                            "<tr><td>Sara</td><td>Davis</td><td>Customer AZJED</td><td>135.35</td><td>135.35</td></tr>",
                            "<tr><td>Sara</td><td>Davis</td><td>Customer BSVAR</td><td>24.69</td><td>24.69</td></tr>",
                            "<tr><td>Sara</td><td>Davis</td><td>Customer CCFIZ</td><td>3.94</td><td>3.94</td></tr>",
                            "<tr><td>Sara</td><td>Davis</td><td>Customer CQRAA</td><td>26.93</td><td>26.93</td></tr>",
                            "<tr><td>Sara</td><td>Davis</td><td>Customer GLLAG</td><td>64.86</td><td>64.86</td></tr>",
                            "<tr><td>Sara</td><td>Davis</td><td>Customer IRRVL</td><td>260.00</td><td>130.00</td></tr>",
                            "<tr><td>Sara</td><td>Davis</td><td>Customer LCOUJ</td><td>126.56</td><td>126.56</td></tr>",
                            "<tr><td>Sara</td><td>Davis</td><td>Customer LVJSO</td><td>30.34</td><td>30.34</td></tr>",
                            "<tr><td>Sara</td><td>Davis</td><td>Customer NYUHS</td><td>224.31</td><td>112.155</td></tr>",
                            "<tr><td>Sara</td><td>Davis</td><td>Customer PVDZC</td><td>20.39</td><td>20.39</td></tr>",
                            "<tr><td>Sara</td><td>Davis</td><td>Customer RFNQC</td><td>71.97</td><td>71.97</td></tr>",
                            "<tr><td>Sara</td><td>Davis</td><td>Customer RTXGC</td><td>166.31</td><td>166.31</td></tr>",
                            "<tr><td>Sara</td><td>Davis</td><td>Customer SIUIH</td><td>7.56</td><td>7.56</td></tr>",
                            "<tr><td>Sara</td><td>Davis</td><td>Customer THHDP</td><td>302.84</td><td>151.42</td></tr>",
                            "<tr><td>Sara</td><td>Davis</td><td>Customer TMXGN</td><td>93.63</td><td>93.63</td></tr>",
                            "<tr><td>Sara</td><td>Davis</td><td>Customer VONTK</td><td>84.97</td><td>42.485</td></tr>",
                            "<tr><td>Sara</td><td>Davis</td><td>Customer XIIWM</td><td>0.45</td><td>0.45</td></tr>",
                            "<tr><td>Sara</td><td>Davis</td><td>Customer XOJYP</td><td>30.96</td><td>30.96</td></tr>",
                            "<tr><td>Sara</td><td>Davis</td><td>Customer XPNIK</td><td>34.88</td><td>34.88</td></tr>",
                            "<tr><td>Sara</td><td>Davis</td><td>Customer YQQWW</td><td>1.35</td><td>1.35</td></tr>",
                            "<tr><td>Sara</td><td>Davis</td><td>Customer ZHYOS</td><td>136.54</td><td>136.54</td></tr>",
                            "<tr><td>Patricia</td><td>Doyle</td><td>Customer CCKOT</td><td>148.33</td><td>148.33</td></tr>",
                            "<tr><td>Patricia</td><td>Doyle</td><td>Customer KIDPX</td><td>13.99</td><td>13.99</td></tr>",
                            "<tr><td>Patricia</td><td>Doyle</td><td>Customer LCOUJ</td><td>214.27</td><td>214.27</td></tr>",
                            "<tr><td>Patricia</td><td>Doyle</td><td>Customer RTXGC</td><td>10.19</td><td>10.19</td></tr>",
                            "<tr><td>Patricia</td><td>Doyle</td><td>Customer THHDP</td><td>146.06</td><td>146.06</td></tr>",
                            "<tr><td>Don</td><td>Funk</td><td>Customer AHPOP</td><td>34.86</td><td>34.86</td></tr>",
                            "<tr><td>Don</td><td>Funk</td><td>Customer CQRAA</td><td>17.68</td><td>17.68</td></tr>",
                            "<tr><td>Don</td><td>Funk</td><td>Customer CYZTN</td><td>63.36</td><td>63.36</td></tr>",
                            "<tr><td>Don</td><td>Funk</td><td>Customer DVFMB</td><td>0.56</td><td>0.56</td></tr>",
                            "<tr><td>Don</td><td>Funk</td><td>Customer ENQZT</td><td>1.15</td><td>1.15</td></tr>",
                            "<tr><td>Don</td><td>Funk</td><td>Customer HGVLZ</td><td>8.98</td><td>8.98</td></tr>",
                            "<tr><td>Don</td><td>Funk</td><td>Customer IRRVL</td><td>251.02</td><td>125.51</td></tr>",
                            "<tr><td>Don</td><td>Funk</td><td>Customer LCOUJ</td><td>89.16</td><td>89.16</td></tr>",
                            "<tr><td>Don</td><td>Funk</td><td>Customer LOLJO</td><td>122.46</td><td>122.46</td></tr>",
                            "<tr><td>Don</td><td>Funk</td><td>Customer PVDZC</td><td>15.66</td><td>15.66</td></tr>",
                            "<tr><td>Don</td><td>Funk</td><td>Customer PZNLA</td><td>125.77</td><td>125.77</td></tr>",
                            "<tr><td>Don</td><td>Funk</td><td>Customer QXVLA</td><td>55.28</td><td>55.28</td></tr>",
                            "<tr><td>Don</td><td>Funk</td><td>Customer SNXOJ</td><td>40.26</td><td>40.26</td></tr>",
                            "<tr><td>Don</td><td>Funk</td><td>Customer THHDP</td><td>101.95</td><td>101.95</td></tr>",
                            "<tr><td>Don</td><td>Funk</td><td>Customer WULWD</td><td>45.03</td><td>45.03</td></tr>",
                            "<tr><td>Russell</td><td>King</td><td>Customer AHXHT</td><td>0.40</td><td>0.40</td></tr>",
                            "<tr><td>Russell</td><td>King</td><td>Customer FRXZL</td><td>42.11</td><td>42.11</td></tr>",
                            "<tr><td>Russell</td><td>King</td><td>Customer JMIKW</td><td>26.78</td><td>26.78</td></tr>",
                            "<tr><td>Russell</td><td>King</td><td>Customer KSLQF</td><td>107.83</td><td>107.83</td></tr>",
                            "<tr><td>Russell</td><td>King</td><td>Customer LOLJO</td><td>360.63</td><td>360.63</td></tr>",
                            "<tr><td>Russell</td><td>King</td><td>Customer MLTDN</td><td>1.61</td><td>1.61</td></tr>",
                            "<tr><td>Russell</td><td>King</td><td>Customer QZURI</td><td>15.51</td><td>15.51</td></tr>",
                            "<tr><td>Russell</td><td>King</td><td>Customer UBHAU</td><td>22.77</td><td>22.77</td></tr>",
                            "<tr><td>Russell</td><td>King</td><td>Customer VONTK</td><td>64.50</td><td>64.50</td></tr>",
                            "<tr><td>Russell</td><td>King</td><td>Customer XOJYP</td><td>8.63</td><td>8.63</td></tr>",
                            "<tr><td>Russell</td><td>King</td><td>Customer ZRNDE</td><td>13.55</td><td>13.55</td></tr>",
                            "<tr><td>Judy</td><td>Lew</td><td>Customer FEVNN</td><td>5.45</td><td>5.45</td></tr>",
                            "<tr><td>Judy</td><td>Lew</td><td>Customer FRXZL</td><td>47.30</td><td>47.30</td></tr>",
                            "<tr><td>Judy</td><td>Lew</td><td>Customer HGVLZ</td><td>168.64</td><td>168.64</td></tr>",
                            "<tr><td>Judy</td><td>Lew</td><td>Customer IBVRG</td><td>58.17</td><td>58.17</td></tr>",
                            "<tr><td>Judy</td><td>Lew</td><td>Customer IRRVL</td><td>76.07</td><td>76.07</td></tr>",
                            "<tr><td>Judy</td><td>Lew</td><td>Customer KBUDE</td><td>22.00</td><td>22.00</td></tr>",
                            "<tr><td>Judy</td><td>Lew</td><td>Customer LJUCA</td><td>3.43</td><td>3.43</td></tr>",
                            "<tr><td>Judy</td><td>Lew</td><td>Customer LVJSO</td><td>20.12</td><td>20.12</td></tr>",
                            "<tr><td>Judy</td><td>Lew</td><td>Customer NRCSK</td><td>41.34</td><td>41.34</td></tr>",
                            "<tr><td>Judy</td><td>Lew</td><td>Customer NYUHS</td><td>142.08</td><td>142.08</td></tr>",
                            "<tr><td>Judy</td><td>Lew</td><td>Customer PVDZC</td><td>52.84</td><td>52.84</td></tr>",
                            "<tr><td>Judy</td><td>Lew</td><td>Customer RTXGC</td><td>96.04</td><td>96.04</td></tr>",
                            "<tr><td>Judy</td><td>Lew</td><td>Customer SRQVM</td><td>13.97</td><td>13.97</td></tr>",
                            "<tr><td>Judy</td><td>Lew</td><td>Customer XPNIK</td><td>105.55</td><td>35.1833</td></tr>",
                            "<tr><td>Judy</td><td>Lew</td><td>Customer XYUFB</td><td>1.30</td><td>1.30</td></tr>",
                            "<tr><td>Judy</td><td>Lew</td><td>Customer ZHYOS</td><td>25.73</td><td>25.73</td></tr>",
                            "<tr><td>Sven</td><td>Mortensen</td><td>Customer AHPOP</td><td>288.43</td><td>288.43</td></tr>",
                            "<tr><td>Sven</td><td>Mortensen</td><td>Customer CYZTN</td><td>5.44</td><td>5.44</td></tr>",
                            "<tr><td>Sven</td><td>Mortensen</td><td>Customer ENQZT</td><td>32.38</td><td>32.38</td></tr>",
                            "<tr><td>Sven</td><td>Mortensen</td><td>Customer QXVLA</td><td>5.74</td><td>5.74</td></tr>",
                            "<tr><td>Sven</td><td>Mortensen</td><td>Customer QZURI</td><td>60.26</td><td>60.26</td></tr>",
                            "<tr><td>Sven</td><td>Mortensen</td><td>Customer WFIZJ</td><td>890.78</td><td>890.78</td></tr>",
                            "<tr><td>Sven</td><td>Mortensen</td><td>Customer WNMAF</td><td>22.98</td><td>22.98</td></tr>",
                            "<tr><td>Sven</td><td>Mortensen</td><td>Customer XIIWM</td><td>19.64</td><td>19.64</td></tr>",
                            "<tr><td>Sven</td><td>Mortensen</td><td>Customer YBQTI</td><td>4.56</td><td>4.56</td></tr>",
                            "<tr><td>Sven</td><td>Mortensen</td><td>Customer ZHYOS</td><td>35.16</td><td>17.58</td></tr>",
                            "<tr><td>Yael</td><td>Peled</td><td>Customer AZJED</td><td>371.67</td><td>123.89</td></tr>",
                            "<tr><td>Yael</td><td>Peled</td><td>Customer EEALV</td><td>47.42</td><td>47.42</td></tr>",
                            "<tr><td>Yael</td><td>Peled</td><td>Customer FEVNN</td><td>30.54</td><td>30.54</td></tr>",
                            "<tr><td>Yael</td><td>Peled</td><td>Customer FRXZL</td><td>124.12</td><td>124.12</td></tr>",
                            "<tr><td>Yael</td><td>Peled</td><td>Customer GLLAG</td><td>4.88</td><td>4.88</td></tr>",
                            "<tr><td>Yael</td><td>Peled</td><td>Customer IBVRG</td><td>65.83</td><td>65.83</td></tr>",
                            "<tr><td>Yael</td><td>Peled</td><td>Customer KIDPX</td><td>3.10</td><td>3.10</td></tr>",
                            "<tr><td>Yael</td><td>Peled</td><td>Customer KZQZT</td><td>84.21</td><td>84.21</td></tr>",
                            "<tr><td>Yael</td><td>Peled</td><td>Customer LHANT</td><td>7.45</td><td>7.45</td></tr>",
                            "<tr><td>Yael</td><td>Peled</td><td>Customer LJUCA</td><td>41.76</td><td>41.76</td></tr>",
                            "<tr><td>Yael</td><td>Peled</td><td>Customer NYUHS</td><td>147.26</td><td>147.26</td></tr>",
                            "<tr><td>Yael</td><td>Peled</td><td>Customer OXFRU</td><td>186.93</td><td>93.465</td></tr>",
                            "<tr><td>Yael</td><td>Peled</td><td>Customer QNIVZ</td><td>55.09</td><td>55.09</td></tr>",
                            "<tr><td>Yael</td><td>Peled</td><td>Customer QUHWH</td><td>77.92</td><td>77.92</td></tr>",
                            "<tr><td>Yael</td><td>Peled</td><td>Customer QVEPD</td><td>29.76</td><td>29.76</td></tr>",
                            "<tr><td>Yael</td><td>Peled</td><td>Customer QXVLA</td><td>131.70</td><td>131.70</td></tr>",
                            "<tr><td>Yael</td><td>Peled</td><td>Customer SFOGW</td><td>57.57</td><td>28.785</td></tr>",
                            "<tr><td>Yael</td><td>Peled</td><td>Customer SIUIH</td><td>15.63</td><td>7.815</td></tr>",
                            "<tr><td>Yael</td><td>Peled</td><td>Customer SNXOJ</td><td>0.78</td><td>0.78</td></tr>",
                            "<tr><td>Yael</td><td>Peled</td><td>Customer THHDP</td><td>94.77</td><td>94.77</td></tr>",
                            "<tr><td>Yael</td><td>Peled</td><td>Customer UMTLM</td><td>81.91</td><td>81.91</td></tr>",
                            "<tr><td>Yael</td><td>Peled</td><td>Customer VMLOG</td><td>3.25</td><td>3.25</td></tr>",
                            "<tr><td>Yael</td><td>Peled</td><td>Customer WULWD</td><td>3.05</td><td>3.05</td></tr>",
                            "<tr><td>Yael</td><td>Peled</td><td>Customer XOJYP</td><td>191.67</td><td>191.67</td></tr>",
                            "<tr><td>Yael</td><td>Peled</td><td>Customer XYUFB</td><td>87.03</td><td>87.03</td></tr>",
                            "<tr><td>Yael</td><td>Peled</td><td>Customer YBQTI</td><td>23.29</td><td>23.29</td></tr>",
                            "<tr><td>Paul</td><td>Suurs</td><td>Customer CYZTN</td><td>3.67</td><td>3.67</td></tr>",
                            "<tr><td>Paul</td><td>Suurs</td><td>Customer DVFMB</td><td>12.69</td><td>12.69</td></tr>",
                            "<tr><td>Paul</td><td>Suurs</td><td>Customer ENQZT</td><td>6.01</td><td>6.01</td></tr>",
                            "<tr><td>Paul</td><td>Suurs</td><td>Customer FAPSM</td><td>11.61</td><td>11.61</td></tr>",
                            "<tr><td>Paul</td><td>Suurs</td><td>Customer FRXZL</td><td>168.22</td><td>168.22</td></tr>",
                            "<tr><td>Paul</td><td>Suurs</td><td>Customer HFBZG</td><td>41.95</td><td>41.95</td></tr>",
                            "<tr><td>Paul</td><td>Suurs</td><td>Customer NYUHS</td><td>98.03</td><td>98.03</td></tr>",
                            "<tr><td>Paul</td><td>Suurs</td><td>Customer SNXOJ</td><td>36.71</td><td>36.71</td></tr>",
                            "<tr><td>Paul</td><td>Suurs</td><td>Customer THHDP</td><td>126.38</td><td>126.38</td></tr>",
                            "<tr><td>Paul</td><td>Suurs</td><td>Customer UMTLM</td><td>184.41</td><td>184.41</td></tr>",
                            "<tr><td>Paul</td><td>Suurs</td><td>Customer WNMAF</td><td>1.17</td><td>1.17</td></tr>",
                            "<tr><td>Paul</td><td>Suurs</td><td>Customer WULWD</td><td>6.40</td><td>6.40</td></tr>",
                            "<tr><td>Paul</td><td>Suurs</td><td>Customer XIIWM</td><td>64.19</td><td>64.19</td></tr>",
                            "<tr><td>Paul</td><td>Suurs</td><td>Customer XOJYP</td><td>4.54</td><td>4.54</td></tr>",
                            "<tr><td>Paul</td><td>Suurs</td><td>Customer XPNIK</td><td>0.12</td><td>0.12</td></tr>",
                            "</table>"
                        ]
                    }
                },
                {
                    "output_type": "execute_result",
                    "metadata": {},
                    "execution_count": 39,
                    "data": {
                        "application/vnd.dataresource+json": {
                            "schema": {
                                "fields": [
                                    {
                                        "name": "JSON_F52E2B61-18A1-11d1-B105-00805F49916B"
                                    }
                                ]
                            },
                            "data": [
                                {
                                    "JSON_F52E2B61-18A1-11d1-B105-00805F49916B": "{\"AverageSales\":[{\"EmployeeFirstName\":\"Maria\",\"EmployeeLastName\":\"Cameron\",\"CustomerCompanyName\":\"Customer AHXHT\",\"TotalSalesValue\":53.8000,\"AverageSaleValue\":53.8000},{\"EmployeeFirstName\":\"Maria\",\"EmployeeLastName\":\"Cameron\",\"CustomerCompanyName\":\"Customer FRXZL\",\"TotalSalesValue\":35.0300,\"AverageSaleValue\":35.0300},{\"EmployeeFirstName\":\"Maria\",\"EmployeeLastName\":\"Cameron\",\"CustomerCompanyName\":\"Customer FVXPQ\",\"TotalSalesValue\":66.2900,\"AverageSaleValue\":66.2900},{\"EmployeeFirstName\":\"Maria\",\"EmployeeLastName\":\"Cameron\",\"CustomerCompanyName\":\"Customer HFBZG\",\"TotalSalesValue\":34.2400,\"AverageSaleValue\":34.2400},{\"EmployeeFirstName\":\"Maria\",\"EmployeeLastName\":\"Cameron\",\"CustomerCompanyName\":\"Customer HGVLZ\",\"TotalSalesValue\":92.6900,\"AverageSaleValue\":92.6900},{\"EmployeeFirstName\":\"Maria\",\"EmployeeLastName\":\"Cameron\",\"CustomerCompanyName\":\"Customer IRRVL\",\"TotalSalesValue\":229.2400,\"AverageSaleValue\":229.2400},{\"EmployeeFirstName\":\"Maria\",\"EmployeeLastName\":\"Cameron\",\"CustomerCompanyName\":\"Customer JUWXK\",\"TotalSalesValue\":79.7000,\"AverageSaleValue\":79.7000},{\"EmployeeFirstName\":\"Maria\",\"EmployeeLastName\":\"Cameron\",\"CustomerCompanyName\":\"Customer KZQZT\",\"TotalSalesValue\":257.6200,\"AverageSaleValue\":257.6200},{\"EmployeeFirstName\":\"Maria\",\"EmployeeLastName\":\"Cameron\",\"CustomerCompanyName\":\"Customer LCYBZ\",\"TotalSalesValue\":17.5200,\"AverageSaleValue\":17.5200},{\"EmployeeFirstName\":\"Maria\",\"EmployeeLastName\":\"Cameron\",\"CustomerCompanyName\":\"Customer LJUCA\",\"TotalSalesValue\":4.7300,\"AverageSaleValue\":4.7300},{\"EmployeeFirstName\":\"Maria\",\"EmployeeLastName\":\"Cameron\",\"CustomerCompanyName\":\"Customer MDLWA\",\"TotalSalesValue\":10.1400,\"AverageSaleValue\":10.1400},{\"EmployeeFirstName\":\"Maria\",\"EmployeeLastName\":\"Cameron\",\"CustomerCompanyName\":\"Customer NRCSK\",\"TotalSalesValue\":8.5600,\"AverageSaleValue\":8.5600},{\"EmployeeFirstName\":\"Maria\",\"EmployeeLastName\":\"Cameron\",\"CustomerCompanyName\":\"Customer NYUHS\",\"TotalSalesValue\":48.2900,\"AverageSaleValue\":48.2900},{\"EmployeeFirstName\":\"Maria\",\"EmployeeLastName\":\"Cameron\",\"CustomerCompanyName\":\"Customer OXFRU\",\"TotalSalesValue\":25.8300,\"AverageSaleValue\":25.8300},{\"EmployeeFirstName\":\"Maria\",\"EmployeeLastName\":\"Cameron\",\"CustomerCompanyName\":\"Customer QVEPD\",\"TotalSalesValue\":12.7600,\"AverageSaleValue\":12.7600},{\"EmployeeFirstName\":\"Maria\",\"EmployeeLastName\":\"Cameron\",\"CustomerCompanyName\":\"Customer SNXOJ\",\"TotalSalesValue\":45.0800,\"AverageSaleValue\":45.0800},{\"EmployeeFirstName\":\"Maria\",\"EmployeeLastName\":\"Cameron\",\"CustomerCompanyName\":\"Customer VONTK\",\"TotalSalesValue\":13.8400,\"AverageSaleValue\":13.8400},{\"EmployeeFirstName\":\"Maria\",\"EmployeeLastName\":\"Cameron\",\"CustomerCompanyName\":\"Customer XOJYP\",\"TotalSalesValue\":195.6800,\"AverageSaleValue\":195.6800},{\"EmployeeFirstName\":\"Maria\",\"EmployeeLastName\":\"Cameron\",\"CustomerCompanyName\":\"Customer ZRNDE\",\"TotalSalesValue\":27.3600,\"AverageSaleValue\":27.3600},{\"EmployeeFirstName\":\"Sara\",\"EmployeeLastName\":\"Davis\",\"CustomerCompanyName\":\"Customer AHPOP\",\"TotalSalesValue\":22.2100,\"AverageSaleValue\":22.2100},{\"EmployeeFirstName\":\"Sara\",\"EmployeeLastName\":\"Davis\",\"CustomerCompanyName\":\"Customer AZJED\",\"TotalSalesValue\":135.3500,\"AverageSaleValue\":135.3500},{\"EmployeeFirstName\":\"Sara\",\"EmployeeLastName\":\"Davis\",\"CustomerCompanyName\":\"Customer BSVAR\",\"TotalSalesValue\":24.6900,\"AverageSaleValue\":24.6900},{\"EmployeeFirstName\":\"Sara\",\"EmployeeLastName\":\"Davis\",\"CustomerCompanyName\":\"Customer CCFIZ\",\"TotalSalesValue\":3.9400,\"AverageSaleValue\":3.9400},{\"EmployeeFirstName\":\"Sara\",\"EmployeeLastName\":\"Davis\",\"CustomerCompanyName\":\"Customer CQRAA\",\"TotalSalesValue\":26.9300,\"AverageSaleValue\":26.9300},{\"EmployeeFirstName\":\"Sara\",\"EmployeeLastName\":\"Davis\",\"CustomerCompanyName\":\"Customer GLLAG\",\"TotalSalesValue\":64.8600,\"AverageSaleValue\":64.8600},{\"EmployeeFirstName\":\"Sara\",\"EmployeeLastName\":\"Davis\",\"CustomerCompanyName\":\"Customer IRRVL\",\"TotalSalesValue\":260.0000,\"AverageSaleValue\":130.0000},{\"EmployeeFirstName\":\"Sara\",\"EmployeeLastName\":\"Davis\",\"CustomerCompanyName\":\"Customer LCOUJ\",\"TotalSalesValue\":126.5600,\"AverageSaleValue\":126.5600},{\"EmployeeFirstName\":\"Sara\",\"EmployeeLastName\":\"Davis\",\"CustomerCompanyName\":\"Customer LVJSO\",\"TotalSalesValue\":30.3400,\"AverageSaleValue\":30.3400},{\"EmployeeFirstName\":\"Sara\",\"EmployeeLastName\":\"Davis\",\"CustomerCompanyName\":\"Customer NYUHS\",\"TotalSalesValue\":224.3100,\"AverageSaleValue\":112.1550},{\"EmployeeFirstName\":\"Sara\",\"EmployeeLastName\":\"Davis\",\"CustomerCompanyName\":\"Customer PVDZC\",\"TotalSalesValue\":20.3900,\"AverageSaleValue\":20.3900},{\"EmployeeFirstName\":\"Sara\",\"EmployeeLastName\":\"Davis\",\"CustomerCompanyName\":\"Customer RFNQC\",\"TotalSalesValue\":71.9700,\"AverageSaleValue\":71.9700},{\"EmployeeFirstName\":\"Sara\",\"EmployeeLastName\":\"Davis\",\"CustomerCompanyName\":\"Customer RTXGC\",\"TotalSalesValue\":166.3100,\"AverageSaleValue\":166.3100},{\"EmployeeFirstName\":\"Sara\",\"EmployeeLastName\":\"Davis\",\"CustomerCompanyName\":\"Customer SIUIH\",\"TotalSalesValue\":7.5600,\"AverageSaleValue\":7.5600},{\"EmployeeFirstName\":\"Sara\",\"EmployeeLastName\":\"Davis\",\"CustomerCompanyName\":\"Customer THHDP\",\"TotalSalesValue\":302.8400,\"AverageSaleValue\":151.4200},{\"EmployeeFirstName\":\"Sara\",\"EmployeeLastName\":\"Davis\",\"CustomerCompanyName\":\"Customer TMXGN\",\"TotalSalesValue\":93.6300,\"AverageSaleValue\":93.6300},{\"EmployeeFirstName\":\"Sara\",\"EmployeeLastName\":\"Davis\",\"CustomerCompanyName\":\"Customer VONTK\",\"TotalSalesValue\":84.9700,\"AverageSaleValue\":42.4850},{\"EmployeeFirstName\":\"Sara\",\"EmployeeLastName\":\"Davis\",\"CustomerCompanyName\":\"Customer XIIWM\",\"TotalSalesValue\":0.4500,\"AverageSaleValue\":0.4500},{\"EmployeeFirstName\":\"Sara\",\"EmployeeLastName\":\"Davis\",\"CustomerCompanyName\":\"Customer XOJYP\",\"TotalSalesValue\":30.9600,\"AverageSaleValue\":30.9600},{\"EmployeeFirstName\":\"Sara\",\"EmployeeLastName\":\"Davis\",\"CustomerCompanyName\":\"Customer XPNIK\",\"TotalSalesValue\":34.8800,\"AverageSaleValue\":34.8800},{\"EmployeeFirstName\":\"Sara\",\"EmployeeLastName\":\"Davis\",\"CustomerCompanyName\":\"Customer YQQWW\",\"TotalSalesValue\":1.3500,\"AverageSaleValue\":1.3500},{\"EmployeeFirstName\":\"Sara\",\"EmployeeLastName\":\"Davis\",\"CustomerCompanyName\":\"Customer ZHYOS\",\"TotalSalesValue\":136.5400,\"AverageSaleValue\":136.5400},{\"EmployeeFirstName\":\"Patricia\",\"EmployeeLastName\":\"Doyle\",\"CustomerCompanyName\":\"Customer CCKOT\",\"TotalSalesValue\":148.3300,\"AverageSaleValue\":148.3300},{\"EmployeeFirstName\":\"Patricia\",\"EmployeeLastName\":\"Doyle\",\"CustomerCompanyName\":\"Customer KIDPX\",\"TotalSalesValue\":13.9900,\"AverageSaleValue\":13.9900},{\"EmployeeFirstName\":\"Patricia\",\"EmployeeLastName\":\"Doyle\",\"CustomerCompanyName\":\"Customer LCOUJ\",\"TotalSalesValue\":214.2700,\"AverageSaleValue\":214.2700},{\"EmployeeFirstName\":\"Patricia\",\"EmployeeLastName\":\"Doyle\",\"CustomerCompanyName\":\"Customer RTXGC\",\"TotalSalesValue\":10.1900,\"AverageSaleValue\":10.1900},{\"EmployeeFirstName\":\"Patricia\",\"EmployeeLastName\":\"Doyle\",\"CustomerCompanyName\":\"Customer THHDP\",\"TotalSalesValue\":146.0600,\"AverageSaleValue\":146.0600},{\"EmployeeFirstName\":\"Don\",\"EmployeeLastName\":\"Funk\",\"CustomerCompanyName\":\"Customer AHPOP\",\"TotalSalesValue\":34.8600,\"AverageSaleValue\":34.8600},{\"EmployeeFirstName\":\"Don\",\"EmployeeLastName\":\"Funk\",\"CustomerCompanyName\":\"Customer CQRAA\",\"TotalSalesValue\":17.6800,\"AverageSaleValue\":17.6800},{\"EmployeeFirstName\":\"Don\",\"EmployeeLastName\":\"Funk\",\"CustomerCompanyName\":\"Customer CYZTN\",\"TotalSalesValue\":63.3600,\"AverageSaleValue\":63.3600},{\"EmployeeFirstName\":\"Don\",\"EmployeeLastName\":\"Funk\",\"CustomerCompanyName\":\"Customer DVFMB\",\"TotalSalesValue\":0.5600,\"AverageSaleValue\":0.5600},{\"EmployeeFirstName\":\"Don\",\"EmployeeLastName\":\"Funk\",\"CustomerCompanyName\":\"Customer ENQZT\",\"TotalSalesValue\":1.1500,\"AverageSaleValue\":1.1500},{\"EmployeeFirstName\":\"Don\",\"EmployeeLastName\":\"Funk\",\"CustomerCompanyName\":\"Customer HGVLZ\",\"TotalSalesValue\":8.9800,\"AverageSaleValue\":8.9800},{\"EmployeeFirstName\":\"Don\",\"EmployeeLastName\":\"Funk\",\"CustomerCompanyName\":\"Customer IRRVL\",\"TotalSalesValue\":251.0200,\"AverageSaleValue\":125.5100},{\"EmployeeFirstName\":\"Don\",\"EmployeeLastName\":\"Funk\",\"CustomerCompanyName\":\"Customer LCOUJ\",\"TotalSalesValue\":89.1600,\"AverageSaleValue\":89.1600},{\"EmployeeFirstName\":\"Don\",\"EmployeeLastName\":\"Funk\",\"CustomerCompanyName\":\"Customer LOLJO\",\"TotalSalesValue\":122.4600,\"AverageSaleValue\":122.4600},{\"EmployeeFirstName\":\"Don\",\"EmployeeLastName\":\"Funk\",\"CustomerCompanyName\":\"Customer PVDZC\",\"TotalSalesValue\":15.6600,\"AverageSaleValue\":15.6600},{\"EmployeeFirstName\":\"Don\",\"EmployeeLastName\":\"Funk\",\"CustomerCompanyName\":\"Customer PZNLA\",\"TotalSalesValue\":125.7700,\"AverageSaleValue\":125.7700},{\"EmployeeFirstName\":\"Don\",\"EmployeeLastName\":\"Funk\",\"CustomerCompanyName\":\"Customer QXVLA\",\"TotalSalesValue\":55.2800,\"AverageSaleValue\":55.2800},{\"EmployeeFirstName\":\"Don\",\"EmployeeLastName\":\"Funk\",\"CustomerCompanyName\":\"Customer SNXOJ\",\"TotalSalesValue\":40.2600,\"AverageSaleValue\":40.2600},{\"EmployeeFirstName\":\"Don\",\"EmployeeLastName\":\"Funk\",\"CustomerCompanyName\":\"Customer THHDP\",\"TotalSalesValue\":101.9500,\"AverageSaleValue\":101.9500},{\"EmployeeFirstName\":\"Don\",\"EmployeeLastName\":\"Funk\",\"CustomerCompanyName\":\"Customer WULWD\",\"TotalSalesValue\":45.0300,\"AverageSaleValue\":45.0300},{\"EmployeeFirstName\":\"Russell\",\"EmployeeLastName\":\"King\",\"CustomerCompanyName\":\"Customer AHXHT\",\"TotalSalesValue\":0.4000,\"AverageSaleValue\":0.4000},{\"EmployeeFirstName\":\"Russell\",\"EmployeeLastName\":\"King\",\"CustomerCompanyName\":\"Customer FRXZL\",\"TotalSalesValue\":42.1100,\"AverageSaleValue\":42.1100},{\"EmployeeFirstName\":\"Russell\",\"EmployeeLastName\":\"King\",\"CustomerCompanyName\":\"Customer JMIKW\",\"TotalSalesValue\":26.7800,\"AverageSaleValue\":26.7800},{\"EmployeeFirstName\":\"Russell\",\"EmployeeLastName\":\"King\",\"CustomerCompanyName\":\"Customer KSLQF\",\"TotalSalesValue\":107.8300,\"AverageSaleValue\":107.8300},{\"EmployeeFirstName\":\"Russell\",\"EmployeeLastName\":\"King\",\"CustomerCompanyName\":\"Customer LOLJO\",\"TotalSalesValue\":360.6300,\"AverageSaleValue\":360.6300},{\"EmployeeFirstName\":\"Russell\",\"EmployeeLastName\":\"King\",\"CustomerCompanyName\":\"Customer MLTDN\",\"TotalSalesValue\":1.6100,\"AverageSaleValue\":1.6100},{\"EmployeeFirstName\":\"Russell\",\"EmployeeLastName\":\"King\",\"CustomerCompanyName\":\"Customer QZURI\",\"TotalSalesValue\":15.5100,\"AverageSaleValue\":15.5100},{\"EmployeeFirstName\":\"Russell\",\"EmployeeLastName\":\"King\",\"CustomerCompanyName\":\"Customer UBHAU\",\"TotalSalesValue\":22.7700,\"AverageSaleValue\":22.7700},{\"EmployeeFirstName\":\"Russell\",\"EmployeeLastName\":\"King\",\"CustomerCompanyName\":\"Customer VONTK\",\"TotalSalesValue\":64.5000,\"AverageSaleValue\":64.5000},{\"EmployeeFirstName\":\"Russell\",\"EmployeeLastName\":\"King\",\"CustomerCompanyName\":\"Customer XOJYP\",\"TotalSalesValue\":8.6300,\"AverageSaleValue\":8.6300},{\"EmployeeFirstName\":\"Russell\",\"EmployeeLastName\":\"King\",\"CustomerCompanyName\":\"Customer ZRNDE\",\"TotalSalesValue\":13.5500,\"AverageSaleValue\":13.5500},{\"EmployeeFirstName\":\"Judy\",\"EmployeeLastName\":\"Lew\",\"CustomerCompanyName\":\"Customer FEVNN\",\"TotalSalesValue\":5.4500,\"AverageSaleValue\":5.4500},{\"EmployeeFirstName\":\"Judy\",\"EmployeeLastName\":\"Lew\",\"CustomerCompanyName\":\"Customer FRXZL\",\"TotalSalesValue\":47.3000,\"AverageSaleValue\":47.3000},{\"EmployeeFirstName\":\"Judy\",\"EmployeeLastName\":\"Lew\",\"CustomerCompanyName\":\"Customer HGVLZ\",\"TotalSalesValue\":168.6400,\"AverageSaleValue\":168.6400},{\"EmployeeFirstName\":\"Judy\",\"EmployeeLastName\":\"Lew\",\"CustomerCompanyName\":\"Customer IBVRG\",\"TotalSalesValue\":58.1700,\"AverageSaleValue\":58.1700},{\"EmployeeFirstName\":\"Judy\",\"EmployeeLastName\":\"Lew\",\"CustomerCompanyName\":\"Customer IRRVL\",\"TotalSalesValue\":76.0700,\"AverageSaleValue\":76.0700},{\"EmployeeFirstName\":\"Judy\",\"EmployeeLastName\":\"Lew\",\"CustomerCompanyName\":\"Customer KBUDE\",\"TotalSalesValue\":22.0000,\"AverageSaleValue\":22.0000},{\"EmployeeFirstName\":\"Judy\",\"EmployeeLastName\":\"Lew\",\"CustomerCompanyName\":\"Customer LJUCA\",\"TotalSalesValue\":3.4300,\"AverageSaleValue\":3.4300},{\"EmployeeFirstName\":\"Judy\",\"EmployeeLastName\":\"Lew\",\"CustomerCompanyName\":\"Customer LVJSO\",\"TotalSalesValue\":20.1200,\"AverageSaleValue\":20.1200},{\"EmployeeFirstName\":\"Judy\",\"EmployeeLastName\":\"Lew\",\"CustomerCompanyName\":\"Customer NRCSK\",\"TotalSalesValue\":41.3400,\"AverageSaleValue\":41.3400},{\"EmployeeFirstName\":\"Judy\",\"EmployeeLastName\":\"Lew\",\"CustomerCompanyName\":\"Customer NYUHS\",\"TotalSalesValue\":142.0800,\"AverageSaleValue\":142.0800},{\"EmployeeFirstName\":\"Judy\",\"EmployeeLastName\":\"Lew\",\"CustomerCompanyName\":\"Customer PVDZC\",\"TotalSalesValue\":52.8400,\"AverageSaleValue\":52.8400},{\"EmployeeFirstName\":\"Judy\",\"EmployeeLastName\":\"Lew\",\"CustomerCompanyName\":\"Customer RTXGC\",\"TotalSalesValue\":96.0400,\"AverageSaleValue\":96.0400},{\"EmployeeFirstName\":\"Judy\",\"EmployeeLastName\":\"Lew\",\"CustomerCompanyName\":\"Customer SRQVM\",\"TotalSalesValue\":13.9700,\"AverageSaleValue\":13.9700},{\"EmployeeFirstName\":\"Judy\",\"EmployeeLastName\":\"Lew\",\"CustomerCompanyName\":\"Customer XPNIK\",\"TotalSalesValue\":105.5500,\"AverageSaleValue\":35.1833},{\"EmployeeFirstName\":\"Judy\",\"EmployeeLastName\":\"Lew\",\"CustomerCompanyName\":\"Customer XYUFB\",\"TotalSalesValue\":1.3000,\"AverageSaleValue\":1.3000},{\"EmployeeFirstName\":\"Judy\",\"EmployeeLastName\":\"Lew\",\"CustomerCompanyName\":\"Customer ZHYOS\",\"TotalSalesValue\":25.7300,\"AverageSaleValue\":25.7300},{\"EmployeeFirstName\":\"Sven\",\"EmployeeLastName\":\"Mortensen\",\"CustomerCompanyName\":\"Customer AHPOP\",\"TotalSalesValue\":288.4300,\"AverageSaleValue\":288.4300},{\"EmployeeFirstName\":\"Sven\",\"EmployeeLastName\":\"Mortensen\",\"CustomerCompanyName\":\"Customer CYZTN\",\"TotalSalesValue\":5.4400,\"AverageSaleValue\":5.4400},{\"EmployeeFirstName\":\"Sven\",\"EmployeeLastName\":\"Mortensen\",\"CustomerCompanyName\":\"Customer ENQZT\",\"TotalSalesValue\":32.3800,\"AverageSaleValue\":32.3800},{\"EmployeeFirstName\":\"Sven\",\"EmployeeLastName\":\"Mortensen\",\"CustomerCompanyName\":\"Customer QXVLA\",\"TotalSalesValue\":5.7400,\"AverageSaleValue\":5.7400},{\"EmployeeFirstName\":\"Sven\",\"EmployeeLastName\":\"Mortensen\",\"CustomerCompanyName\":\"Customer QZURI\",\"TotalSalesValue\":60.2600,\"AverageSaleValue\":60.2600},{\"EmployeeFirstName\":\"Sven\",\"EmployeeLastName\":\"Mortensen\",\"CustomerCompanyName\":\"Customer WFIZJ\",\"TotalSalesValue\":890.7800,\"AverageSaleValue\":890.7800},{\"EmployeeFirstName\":\"Sven\",\"EmployeeLastName\":\"Mortensen\",\"CustomerCompanyName\":\"Customer WNMAF\",\"TotalSalesValue\":22.9800,\"AverageSaleValue\":22.9800},{\"EmployeeFirstName\":\"Sven\",\"EmployeeLastName\":\"Mortensen\",\"CustomerCompanyName\":\"Customer XIIWM\",\"TotalSalesValue\":19.6400,\"AverageSaleValue\":19.6400},{\"EmployeeFirstName\":\"Sven\",\"EmployeeLastName\":\"Mortensen\",\"CustomerCompanyName\":\"Customer YBQTI\",\"TotalSalesValue\":4.5600,\"AverageSaleValue\":4.5600},{\"EmployeeFirstName\":\"Sven\",\"EmployeeLastName\":\"Mortensen\",\"CustomerCompanyName\":\"Customer ZHYOS\",\"TotalSalesValue\":35.1600,\"AverageSaleValue\":17.5800},{\"EmployeeFirstName\":\"Yael\",\"EmployeeLastName\":\"Peled\",\"CustomerCompanyName\":\"Customer AZJED\",\"TotalSalesValue\":371.6700,\"AverageSaleValue\":123.8900},{\"EmployeeFirstName\":\"Yael\",\"EmployeeLastName\":\"Peled\",\"CustomerCompanyName\":\"Customer EEALV\",\"TotalSalesValue\":47.4200,\"AverageSaleValue\":47.4200},{\"EmployeeFirstName\":\"Yael\",\"EmployeeLastName\":\"Peled\",\"CustomerCompanyName\":\"Customer FEVNN\",\"TotalSalesValue\":30.5400,\"AverageSaleValue\":30.5400},{\"EmployeeFirstName\":\"Yael\",\"EmployeeLastName\":\"Peled\",\"CustomerCompanyName\":\"Customer FRXZL\",\"TotalSalesValue\":124.1200,\"AverageSaleValue\":124.1200},{\"EmployeeFirstName\":\"Yael\",\"EmployeeLastName\":\"Peled\",\"CustomerCompanyName\":\"Customer GLLAG\",\"TotalSalesValue\":4.8800,\"AverageSaleValue\":4.8800},{\"EmployeeFirstName\":\"Yael\",\"EmployeeLastName\":\"Peled\",\"CustomerCompanyName\":\"Customer IBVRG\",\"TotalSalesValue\":65.8300,\"AverageSaleValue\":65.8300},{\"EmployeeFirstName\":\"Yael\",\"EmployeeLastName\":\"Peled\",\"CustomerCompanyName\":\"Customer KIDPX\",\"TotalSalesValue\":3.1000,\"AverageSaleValue\":3.1000},{\"EmployeeFirstName\":\"Yael\",\"EmployeeLastName\":\"Peled\",\"CustomerCompanyName\":\"Customer KZQZT\",\"TotalSalesValue\":84.2100,\"AverageSaleValue\":84.2100},{\"EmployeeFirstName\":\"Yael\",\"EmployeeLastName\":\"Peled\",\"CustomerCompanyName\":\"Customer LHANT\",\"TotalSalesValue\":7.4500,\"AverageSaleValue\":7.4500},{\"EmployeeFirstName\":\"Yael\",\"EmployeeLastName\":\"Peled\",\"CustomerCompanyName\":\"Customer LJUCA\",\"TotalSalesValue\":41.7600,\"AverageSaleValue\":41.7600},{\"EmployeeFirstName\":\"Yael\",\"EmployeeLastName\":\"Peled\",\"CustomerCompanyName\":\"Customer NYUHS\",\"TotalSalesValue\":147.2600,\"AverageSaleValue\":147.2600},{\"EmployeeFirstName\":\"Yael\",\"EmployeeLastName\":\"Peled\",\"CustomerCompanyName\":\"Customer OXFRU\",\"TotalSalesValue\":186.9300,\"AverageSaleValue\":93.4650},{\"EmployeeFirstName\":\"Yael\",\"EmployeeLastName\":\"Peled\",\"CustomerCompanyName\":\"Customer QNIVZ\",\"TotalSalesValue\":55.0900,\"AverageSaleValue\":55.0900},{\"EmployeeFirstName\":\"Yael\",\"EmployeeLastName\":\"Peled\",\"CustomerCompanyName\":\"Customer QUHWH\",\"TotalSalesValue\":77.9200,\"AverageSaleValue\":77.9200},{\"EmployeeFirstName\":\"Yael\",\"EmployeeLastName\":\"Peled\",\"CustomerCompanyName\":\"Customer QVEPD\",\"TotalSalesValue\":29.7600,\"AverageSaleValue\":29.7600},{\"EmployeeFirstName\":\"Yael\",\"EmployeeLastName\":\"Peled\",\"CustomerCompanyName\":\"Customer QXVLA\",\"TotalSalesValue\":131.7000,\"AverageSaleValue\":131.7000},{\"EmployeeFirstName\":\"Yael\",\"EmployeeLastName\":\"Peled\",\"CustomerCompanyName\":\"Customer SFOGW\",\"TotalSalesValue\":57.5700,\"AverageSaleValue\":28.7850},{\"EmployeeFirstName\":\"Yael\",\"EmployeeLastName\":\"Peled\",\"CustomerCompanyName\":\"Customer SIUIH\",\"TotalSalesValue\":15.6300,\"AverageSaleValue\":7.8150},{\"EmployeeFirstName\":\"Yael\",\"EmployeeLastName\":\"Peled\",\"CustomerCompanyName\":\"Customer SNXOJ\",\"TotalSalesValue\":0.7800,\"AverageSaleValue\":0.7800},{\"EmployeeFirstName\":\"Yael\",\"EmployeeLastName\":\"Peled\",\"CustomerCompanyName\":\"Customer THHDP\",\"TotalSalesValue\":94.7700,\"AverageSaleValue\":94.7700},{\"EmployeeFirstName\":\"Yael\",\"EmployeeLastName\":\"Peled\",\"CustomerCompanyName\":\"Customer UMTLM\",\"TotalSalesValue\":81.9100,\"AverageSaleValue\":81.9100},{\"EmployeeFirstName\":\"Yael\",\"EmployeeLastName\":\"Peled\",\"CustomerCompanyName\":\"Customer VMLOG\",\"TotalSalesValue\":3.2500,\"AverageSaleValue\":3.2500},{\"EmployeeFirstName\":\"Yael\",\"EmployeeLastName\":\"Peled\",\"CustomerCompanyName\":\"Customer WULWD\",\"TotalSalesValue\":3.0500,\"AverageSaleValue\":3.0500},{\"EmployeeFirstName\":\"Yael\",\"EmployeeLastName\":\"Peled\",\"CustomerCompanyName\":\"Customer XOJYP\",\"TotalSalesValue\":191.6700,\"AverageSaleValue\":191.6700},{\"EmployeeFirstName\":\"Yael\",\"EmployeeLastName\":\"Peled\",\"CustomerCompanyName\":\"Customer XYUFB\",\"TotalSalesValue\":87.0300,\"AverageSaleValue\":87.0300},{\"EmployeeFirstName\":\"Yael\",\"EmployeeLastName\":\"Peled\",\"CustomerCompanyName\":\"Customer YBQTI\",\"TotalSalesValue\":23.2900,\"AverageSaleValue\":23.2900},{\"EmployeeFirstName\":\"Paul\",\"EmployeeLastName\":\"Suurs\",\"CustomerCompanyName\":\"Customer CYZTN\",\"TotalSalesValue\":3.6700,\"AverageSaleValue\":3.6700},{\"EmployeeFirstName\":\"Paul\",\"EmployeeLastName\":\"Suurs\",\"CustomerCompanyName\":\"Customer DVFMB\",\"TotalSalesValue\":12.6900,\"AverageSaleValue\":12.6900},{\"EmployeeFirstName\":\"Paul\",\"EmployeeLastName\":\"Suurs\",\"CustomerCompanyName\":\"Customer ENQZT\",\"TotalSalesValue\":6.0100,\"AverageSaleValue\":6.0100},{\"EmployeeFirstName\":\"Paul\",\"EmployeeLastName\":\"Suurs\",\"CustomerCompanyName\":\"Customer FAPSM\",\"TotalSalesValue\":11.6100,\"AverageSaleValue\":11.6100},{\"EmployeeFirstName\":\"Paul\",\"EmployeeLastName\":\"Suurs\",\"CustomerCompanyName\":\"Customer FRXZL\",\"TotalSalesValue\":168.2200,\"AverageSaleValue\":168.2200},{\"EmployeeFirstName\":\"Paul\",\"EmployeeLastName\":\"Suurs\",\"CustomerCompanyName\":\"Customer HFBZG\",\"TotalSalesValue\":41.9500,\"AverageSaleValue\":41.9500},{\"EmployeeFirstName\":\"Paul\",\"EmployeeLastName\":\"Suurs\",\"CustomerCompanyName\":\"Customer NYUHS\",\"TotalSalesValue\":98.0300,\"AverageSaleValue\":98.0300},{\"EmployeeFirstName\":\"Paul\",\"EmployeeLastName\":\"Suurs\",\"CustomerCompanyName\":\"Customer SNXOJ\",\"TotalSalesValue\":36.7100,\"AverageSaleValue\":36.7100},{\"EmployeeFirstName\":\"Paul\",\"EmployeeLastName\":\"Suurs\",\"CustomerCompanyName\":\"Customer THHDP\",\"TotalSalesValue\":126.3800,\"AverageSaleValue\":126.3800},{\"EmployeeFirstName\":\"Paul\",\"EmployeeLastName\":\"Suurs\",\"CustomerCompanyName\":\"Customer UMTLM\",\"TotalSalesValue\":184.4100,\"AverageSaleValue\":184.4100},{\"EmployeeFirstName\":\"Paul\",\"EmployeeLastName\":\"Suurs\",\"CustomerCompanyName\":\"Customer WNMAF\",\"TotalSalesValue\":1.1700,\"AverageSaleValue\":1.1700},{\"EmployeeFirstName\":\"Paul\",\"EmployeeLastName\":\"Suurs\",\"CustomerCompanyName\":\"Customer WULWD\",\"TotalSalesValue\":6.4000,\"AverageSaleValue\":6.4000},{\"EmployeeFirstName\":\"Paul\",\"EmployeeLastName\":\"Suurs\",\"CustomerCompanyName\":\"Customer XIIWM\",\"TotalSalesValue\":64.1900,\"AverageSaleValue\":64.1900},{\"EmployeeFirstName\":\"Paul\",\"EmployeeLastName\":\"Suurs\",\"CustomerCompanyName\":\"Customer XOJYP\",\"TotalSalesValue\":4.5400,\"AverageSaleValue\":4.5400},{\"EmployeeFirstName\":\"Paul\",\"EmployeeLastName\":\"Suurs\",\"CustomerCompanyName\":\"Customer XPNIK\",\"TotalSalesValue\":0.1200,\"AverageSaleValue\":0.1200}]}"
                                }
                            ]
                        },
                        "text/html": [
                            "<table>",
                            "<tr><th>JSON_F52E2B61-18A1-11d1-B105-00805F49916B</th></tr>",
                            "<tr><td>{&quot;AverageSales&quot;:[{&quot;EmployeeFirstName&quot;:&quot;Maria&quot;,&quot;EmployeeLastName&quot;:&quot;Cameron&quot;,&quot;CustomerCompanyName&quot;:&quot;Customer AHXHT&quot;,&quot;TotalSalesValue&quot;:53.8000,&quot;AverageSaleValue&quot;:53.8000},{&quot;EmployeeFirstName&quot;:&quot;Maria&quot;,&quot;EmployeeLastName&quot;:&quot;Cameron&quot;,&quot;CustomerCompanyName&quot;:&quot;Customer FRXZL&quot;,&quot;TotalSalesValue&quot;:35.0300,&quot;AverageSaleValue&quot;:35.0300},{&quot;EmployeeFirstName&quot;:&quot;Maria&quot;,&quot;EmployeeLastName&quot;:&quot;Cameron&quot;,&quot;CustomerCompanyName&quot;:&quot;Customer FVXPQ&quot;,&quot;TotalSalesValue&quot;:66.2900,&quot;AverageSaleValue&quot;:66.2900},{&quot;EmployeeFirstName&quot;:&quot;Maria&quot;,&quot;EmployeeLastName&quot;:&quot;Cameron&quot;,&quot;CustomerCompanyName&quot;:&quot;Customer HFBZG&quot;,&quot;TotalSalesValue&quot;:34.2400,&quot;AverageSaleValue&quot;:34.2400},{&quot;EmployeeFirstName&quot;:&quot;Maria&quot;,&quot;EmployeeLastName&quot;:&quot;Cameron&quot;,&quot;CustomerCompanyName&quot;:&quot;Customer HGVLZ&quot;,&quot;TotalSalesValue&quot;:92.6900,&quot;AverageSaleValue&quot;:92.6900},{&quot;EmployeeFirstName&quot;:&quot;Maria&quot;,&quot;EmployeeLastName&quot;:&quot;Cameron&quot;,&quot;CustomerCompanyName&quot;:&quot;Customer IRRVL&quot;,&quot;TotalSalesValue&quot;:229.2400,&quot;AverageSaleValue&quot;:229.2400},{&quot;EmployeeFirstName&quot;:&quot;Maria&quot;,&quot;EmployeeLastName&quot;:&quot;Cameron&quot;,&quot;CustomerCompanyName&quot;:&quot;Customer JUWXK&quot;,&quot;TotalSalesValue&quot;:79.7000,&quot;AverageSaleValue&quot;:79.7000},{&quot;EmployeeFirstName&quot;:&quot;Maria&quot;,&quot;EmployeeLastName&quot;:&quot;Cameron&quot;,&quot;CustomerCompanyName&quot;:&quot;Customer KZQZT&quot;,&quot;TotalSalesValue&quot;:257.6200,&quot;AverageSaleValue&quot;:257.6200},{&quot;EmployeeFirstName&quot;:&quot;Maria&quot;,&quot;EmployeeLastName&quot;:&quot;Cameron&quot;,&quot;CustomerCompanyName&quot;:&quot;Customer LCYBZ&quot;,&quot;TotalSalesValue&quot;:17.5200,&quot;AverageSaleValue&quot;:17.5200},{&quot;EmployeeFirstName&quot;:&quot;Maria&quot;,&quot;EmployeeLastName&quot;:&quot;Cameron&quot;,&quot;CustomerCompanyName&quot;:&quot;Customer LJUCA&quot;,&quot;TotalSalesValue&quot;:4.7300,&quot;AverageSaleValue&quot;:4.7300},{&quot;EmployeeFirstName&quot;:&quot;Maria&quot;,&quot;EmployeeLastName&quot;:&quot;Cameron&quot;,&quot;CustomerCompanyName&quot;:&quot;Customer MDLWA&quot;,&quot;TotalSalesValue&quot;:10.1400,&quot;AverageSaleValue&quot;:10.1400},{&quot;EmployeeFirstName&quot;:&quot;Maria&quot;,&quot;EmployeeLastName&quot;:&quot;Cameron&quot;,&quot;CustomerCompanyName&quot;:&quot;Customer NRCSK&quot;,&quot;TotalSalesValue&quot;:8.5600,&quot;AverageSaleValue&quot;:8.5600},{&quot;EmployeeFirstName&quot;:&quot;Maria&quot;,&quot;EmployeeLastName&quot;:&quot;Cameron&quot;,&quot;CustomerCompanyName&quot;:&quot;Customer NYUHS&quot;,&quot;TotalSalesValue&quot;:48.2900,&quot;AverageSaleValue&quot;:48.2900},{&quot;EmployeeFirstName&quot;:&quot;Maria&quot;,&quot;EmployeeLastName&quot;:&quot;Cameron&quot;,&quot;CustomerCompanyName&quot;:&quot;Customer OXFRU&quot;,&quot;TotalSalesValue&quot;:25.8300,&quot;AverageSaleValue&quot;:25.8300},{&quot;EmployeeFirstName&quot;:&quot;Maria&quot;,&quot;EmployeeLastName&quot;:&quot;Cameron&quot;,&quot;CustomerCompanyName&quot;:&quot;Customer QVEPD&quot;,&quot;TotalSalesValue&quot;:12.7600,&quot;AverageSaleValue&quot;:12.7600},{&quot;EmployeeFirstName&quot;:&quot;Maria&quot;,&quot;EmployeeLastName&quot;:&quot;Cameron&quot;,&quot;CustomerCompanyName&quot;:&quot;Customer SNXOJ&quot;,&quot;TotalSalesValue&quot;:45.0800,&quot;AverageSaleValue&quot;:45.0800},{&quot;EmployeeFirstName&quot;:&quot;Maria&quot;,&quot;EmployeeLastName&quot;:&quot;Cameron&quot;,&quot;CustomerCompanyName&quot;:&quot;Customer VONTK&quot;,&quot;TotalSalesValue&quot;:13.8400,&quot;AverageSaleValue&quot;:13.8400},{&quot;EmployeeFirstName&quot;:&quot;Maria&quot;,&quot;EmployeeLastName&quot;:&quot;Cameron&quot;,&quot;CustomerCompanyName&quot;:&quot;Customer XOJYP&quot;,&quot;TotalSalesValue&quot;:195.6800,&quot;AverageSaleValue&quot;:195.6800},{&quot;EmployeeFirstName&quot;:&quot;Maria&quot;,&quot;EmployeeLastName&quot;:&quot;Cameron&quot;,&quot;CustomerCompanyName&quot;:&quot;Customer ZRNDE&quot;,&quot;TotalSalesValue&quot;:27.3600,&quot;AverageSaleValue&quot;:27.3600},{&quot;EmployeeFirstName&quot;:&quot;Sara&quot;,&quot;EmployeeLastName&quot;:&quot;Davis&quot;,&quot;CustomerCompanyName&quot;:&quot;Customer AHPOP&quot;,&quot;TotalSalesValue&quot;:22.2100,&quot;AverageSaleValue&quot;:22.2100},{&quot;EmployeeFirstName&quot;:&quot;Sara&quot;,&quot;EmployeeLastName&quot;:&quot;Davis&quot;,&quot;CustomerCompanyName&quot;:&quot;Customer AZJED&quot;,&quot;TotalSalesValue&quot;:135.3500,&quot;AverageSaleValue&quot;:135.3500},{&quot;EmployeeFirstName&quot;:&quot;Sara&quot;,&quot;EmployeeLastName&quot;:&quot;Davis&quot;,&quot;CustomerCompanyName&quot;:&quot;Customer BSVAR&quot;,&quot;TotalSalesValue&quot;:24.6900,&quot;AverageSaleValue&quot;:24.6900},{&quot;EmployeeFirstName&quot;:&quot;Sara&quot;,&quot;EmployeeLastName&quot;:&quot;Davis&quot;,&quot;CustomerCompanyName&quot;:&quot;Customer CCFIZ&quot;,&quot;TotalSalesValue&quot;:3.9400,&quot;AverageSaleValue&quot;:3.9400},{&quot;EmployeeFirstName&quot;:&quot;Sara&quot;,&quot;EmployeeLastName&quot;:&quot;Davis&quot;,&quot;CustomerCompanyName&quot;:&quot;Customer CQRAA&quot;,&quot;TotalSalesValue&quot;:26.9300,&quot;AverageSaleValue&quot;:26.9300},{&quot;EmployeeFirstName&quot;:&quot;Sara&quot;,&quot;EmployeeLastName&quot;:&quot;Davis&quot;,&quot;CustomerCompanyName&quot;:&quot;Customer GLLAG&quot;,&quot;TotalSalesValue&quot;:64.8600,&quot;AverageSaleValue&quot;:64.8600},{&quot;EmployeeFirstName&quot;:&quot;Sara&quot;,&quot;EmployeeLastName&quot;:&quot;Davis&quot;,&quot;CustomerCompanyName&quot;:&quot;Customer IRRVL&quot;,&quot;TotalSalesValue&quot;:260.0000,&quot;AverageSaleValue&quot;:130.0000},{&quot;EmployeeFirstName&quot;:&quot;Sara&quot;,&quot;EmployeeLastName&quot;:&quot;Davis&quot;,&quot;CustomerCompanyName&quot;:&quot;Customer LCOUJ&quot;,&quot;TotalSalesValue&quot;:126.5600,&quot;AverageSaleValue&quot;:126.5600},{&quot;EmployeeFirstName&quot;:&quot;Sara&quot;,&quot;EmployeeLastName&quot;:&quot;Davis&quot;,&quot;CustomerCompanyName&quot;:&quot;Customer LVJSO&quot;,&quot;TotalSalesValue&quot;:30.3400,&quot;AverageSaleValue&quot;:30.3400},{&quot;EmployeeFirstName&quot;:&quot;Sara&quot;,&quot;EmployeeLastName&quot;:&quot;Davis&quot;,&quot;CustomerCompanyName&quot;:&quot;Customer NYUHS&quot;,&quot;TotalSalesValue&quot;:224.3100,&quot;AverageSaleValue&quot;:112.1550},{&quot;EmployeeFirstName&quot;:&quot;Sara&quot;,&quot;EmployeeLastName&quot;:&quot;Davis&quot;,&quot;CustomerCompanyName&quot;:&quot;Customer PVDZC&quot;,&quot;TotalSalesValue&quot;:20.3900,&quot;AverageSaleValue&quot;:20.3900},{&quot;EmployeeFirstName&quot;:&quot;Sara&quot;,&quot;EmployeeLastName&quot;:&quot;Davis&quot;,&quot;CustomerCompanyName&quot;:&quot;Customer RFNQC&quot;,&quot;TotalSalesValue&quot;:71.9700,&quot;AverageSaleValue&quot;:71.9700},{&quot;EmployeeFirstName&quot;:&quot;Sara&quot;,&quot;EmployeeLastName&quot;:&quot;Davis&quot;,&quot;CustomerCompanyName&quot;:&quot;Customer RTXGC&quot;,&quot;TotalSalesValue&quot;:166.3100,&quot;AverageSaleValue&quot;:166.3100},{&quot;EmployeeFirstName&quot;:&quot;Sara&quot;,&quot;EmployeeLastName&quot;:&quot;Davis&quot;,&quot;CustomerCompanyName&quot;:&quot;Customer SIUIH&quot;,&quot;TotalSalesValue&quot;:7.5600,&quot;AverageSaleValue&quot;:7.5600},{&quot;EmployeeFirstName&quot;:&quot;Sara&quot;,&quot;EmployeeLastName&quot;:&quot;Davis&quot;,&quot;CustomerCompanyName&quot;:&quot;Customer THHDP&quot;,&quot;TotalSalesValue&quot;:302.8400,&quot;AverageSaleValue&quot;:151.4200},{&quot;EmployeeFirstName&quot;:&quot;Sara&quot;,&quot;EmployeeLastName&quot;:&quot;Davis&quot;,&quot;CustomerCompanyName&quot;:&quot;Customer TMXGN&quot;,&quot;TotalSalesValue&quot;:93.6300,&quot;AverageSaleValue&quot;:93.6300},{&quot;EmployeeFirstName&quot;:&quot;Sara&quot;,&quot;EmployeeLastName&quot;:&quot;Davis&quot;,&quot;CustomerCompanyName&quot;:&quot;Customer VONTK&quot;,&quot;TotalSalesValue&quot;:84.9700,&quot;AverageSaleValue&quot;:42.4850},{&quot;EmployeeFirstName&quot;:&quot;Sara&quot;,&quot;EmployeeLastName&quot;:&quot;Davis&quot;,&quot;CustomerCompanyName&quot;:&quot;Customer XIIWM&quot;,&quot;TotalSalesValue&quot;:0.4500,&quot;AverageSaleValue&quot;:0.4500},{&quot;EmployeeFirstName&quot;:&quot;Sara&quot;,&quot;EmployeeLastName&quot;:&quot;Davis&quot;,&quot;CustomerCompanyName&quot;:&quot;Customer XOJYP&quot;,&quot;TotalSalesValue&quot;:30.9600,&quot;AverageSaleValue&quot;:30.9600},{&quot;EmployeeFirstName&quot;:&quot;Sara&quot;,&quot;EmployeeLastName&quot;:&quot;Davis&quot;,&quot;CustomerCompanyName&quot;:&quot;Customer XPNIK&quot;,&quot;TotalSalesValue&quot;:34.8800,&quot;AverageSaleValue&quot;:34.8800},{&quot;EmployeeFirstName&quot;:&quot;Sara&quot;,&quot;EmployeeLastName&quot;:&quot;Davis&quot;,&quot;CustomerCompanyName&quot;:&quot;Customer YQQWW&quot;,&quot;TotalSalesValue&quot;:1.3500,&quot;AverageSaleValue&quot;:1.3500},{&quot;EmployeeFirstName&quot;:&quot;Sara&quot;,&quot;EmployeeLastName&quot;:&quot;Davis&quot;,&quot;CustomerCompanyName&quot;:&quot;Customer ZHYOS&quot;,&quot;TotalSalesValue&quot;:136.5400,&quot;AverageSaleValue&quot;:136.5400},{&quot;EmployeeFirstName&quot;:&quot;Patricia&quot;,&quot;EmployeeLastName&quot;:&quot;Doyle&quot;,&quot;CustomerCompanyName&quot;:&quot;Customer CCKOT&quot;,&quot;TotalSalesValue&quot;:148.3300,&quot;AverageSaleValue&quot;:148.3300},{&quot;EmployeeFirstName&quot;:&quot;Patricia&quot;,&quot;EmployeeLastName&quot;:&quot;Doyle&quot;,&quot;CustomerCompanyName&quot;:&quot;Customer KIDPX&quot;,&quot;TotalSalesValue&quot;:13.9900,&quot;AverageSaleValue&quot;:13.9900},{&quot;EmployeeFirstName&quot;:&quot;Patricia&quot;,&quot;EmployeeLastName&quot;:&quot;Doyle&quot;,&quot;CustomerCompanyName&quot;:&quot;Customer LCOUJ&quot;,&quot;TotalSalesValue&quot;:214.2700,&quot;AverageSaleValue&quot;:214.2700},{&quot;EmployeeFirstName&quot;:&quot;Patricia&quot;,&quot;EmployeeLastName&quot;:&quot;Doyle&quot;,&quot;CustomerCompanyName&quot;:&quot;Customer RTXGC&quot;,&quot;TotalSalesValue&quot;:10.1900,&quot;AverageSaleValue&quot;:10.1900},{&quot;EmployeeFirstName&quot;:&quot;Patricia&quot;,&quot;EmployeeLastName&quot;:&quot;Doyle&quot;,&quot;CustomerCompanyName&quot;:&quot;Customer THHDP&quot;,&quot;TotalSalesValue&quot;:146.0600,&quot;AverageSaleValue&quot;:146.0600},{&quot;EmployeeFirstName&quot;:&quot;Don&quot;,&quot;EmployeeLastName&quot;:&quot;Funk&quot;,&quot;CustomerCompanyName&quot;:&quot;Customer AHPOP&quot;,&quot;TotalSalesValue&quot;:34.8600,&quot;AverageSaleValue&quot;:34.8600},{&quot;EmployeeFirstName&quot;:&quot;Don&quot;,&quot;EmployeeLastName&quot;:&quot;Funk&quot;,&quot;CustomerCompanyName&quot;:&quot;Customer CQRAA&quot;,&quot;TotalSalesValue&quot;:17.6800,&quot;AverageSaleValue&quot;:17.6800},{&quot;EmployeeFirstName&quot;:&quot;Don&quot;,&quot;EmployeeLastName&quot;:&quot;Funk&quot;,&quot;CustomerCompanyName&quot;:&quot;Customer CYZTN&quot;,&quot;TotalSalesValue&quot;:63.3600,&quot;AverageSaleValue&quot;:63.3600},{&quot;EmployeeFirstName&quot;:&quot;Don&quot;,&quot;EmployeeLastName&quot;:&quot;Funk&quot;,&quot;CustomerCompanyName&quot;:&quot;Customer DVFMB&quot;,&quot;TotalSalesValue&quot;:0.5600,&quot;AverageSaleValue&quot;:0.5600},{&quot;EmployeeFirstName&quot;:&quot;Don&quot;,&quot;EmployeeLastName&quot;:&quot;Funk&quot;,&quot;CustomerCompanyName&quot;:&quot;Customer ENQZT&quot;,&quot;TotalSalesValue&quot;:1.1500,&quot;AverageSaleValue&quot;:1.1500},{&quot;EmployeeFirstName&quot;:&quot;Don&quot;,&quot;EmployeeLastName&quot;:&quot;Funk&quot;,&quot;CustomerCompanyName&quot;:&quot;Customer HGVLZ&quot;,&quot;TotalSalesValue&quot;:8.9800,&quot;AverageSaleValue&quot;:8.9800},{&quot;EmployeeFirstName&quot;:&quot;Don&quot;,&quot;EmployeeLastName&quot;:&quot;Funk&quot;,&quot;CustomerCompanyName&quot;:&quot;Customer IRRVL&quot;,&quot;TotalSalesValue&quot;:251.0200,&quot;AverageSaleValue&quot;:125.5100},{&quot;EmployeeFirstName&quot;:&quot;Don&quot;,&quot;EmployeeLastName&quot;:&quot;Funk&quot;,&quot;CustomerCompanyName&quot;:&quot;Customer LCOUJ&quot;,&quot;TotalSalesValue&quot;:89.1600,&quot;AverageSaleValue&quot;:89.1600},{&quot;EmployeeFirstName&quot;:&quot;Don&quot;,&quot;EmployeeLastName&quot;:&quot;Funk&quot;,&quot;CustomerCompanyName&quot;:&quot;Customer LOLJO&quot;,&quot;TotalSalesValue&quot;:122.4600,&quot;AverageSaleValue&quot;:122.4600},{&quot;EmployeeFirstName&quot;:&quot;Don&quot;,&quot;EmployeeLastName&quot;:&quot;Funk&quot;,&quot;CustomerCompanyName&quot;:&quot;Customer PVDZC&quot;,&quot;TotalSalesValue&quot;:15.6600,&quot;AverageSaleValue&quot;:15.6600},{&quot;EmployeeFirstName&quot;:&quot;Don&quot;,&quot;EmployeeLastName&quot;:&quot;Funk&quot;,&quot;CustomerCompanyName&quot;:&quot;Customer PZNLA&quot;,&quot;TotalSalesValue&quot;:125.7700,&quot;AverageSaleValue&quot;:125.7700},{&quot;EmployeeFirstName&quot;:&quot;Don&quot;,&quot;EmployeeLastName&quot;:&quot;Funk&quot;,&quot;CustomerCompanyName&quot;:&quot;Customer QXVLA&quot;,&quot;TotalSalesValue&quot;:55.2800,&quot;AverageSaleValue&quot;:55.2800},{&quot;EmployeeFirstName&quot;:&quot;Don&quot;,&quot;EmployeeLastName&quot;:&quot;Funk&quot;,&quot;CustomerCompanyName&quot;:&quot;Customer SNXOJ&quot;,&quot;TotalSalesValue&quot;:40.2600,&quot;AverageSaleValue&quot;:40.2600},{&quot;EmployeeFirstName&quot;:&quot;Don&quot;,&quot;EmployeeLastName&quot;:&quot;Funk&quot;,&quot;CustomerCompanyName&quot;:&quot;Customer THHDP&quot;,&quot;TotalSalesValue&quot;:101.9500,&quot;AverageSaleValue&quot;:101.9500},{&quot;EmployeeFirstName&quot;:&quot;Don&quot;,&quot;EmployeeLastName&quot;:&quot;Funk&quot;,&quot;CustomerCompanyName&quot;:&quot;Customer WULWD&quot;,&quot;TotalSalesValue&quot;:45.0300,&quot;AverageSaleValue&quot;:45.0300},{&quot;EmployeeFirstName&quot;:&quot;Russell&quot;,&quot;EmployeeLastName&quot;:&quot;King&quot;,&quot;CustomerCompanyName&quot;:&quot;Customer AHXHT&quot;,&quot;TotalSalesValue&quot;:0.4000,&quot;AverageSaleValue&quot;:0.4000},{&quot;EmployeeFirstName&quot;:&quot;Russell&quot;,&quot;EmployeeLastName&quot;:&quot;King&quot;,&quot;CustomerCompanyName&quot;:&quot;Customer FRXZL&quot;,&quot;TotalSalesValue&quot;:42.1100,&quot;AverageSaleValue&quot;:42.1100},{&quot;EmployeeFirstName&quot;:&quot;Russell&quot;,&quot;EmployeeLastName&quot;:&quot;King&quot;,&quot;CustomerCompanyName&quot;:&quot;Customer JMIKW&quot;,&quot;TotalSalesValue&quot;:26.7800,&quot;AverageSaleValue&quot;:26.7800},{&quot;EmployeeFirstName&quot;:&quot;Russell&quot;,&quot;EmployeeLastName&quot;:&quot;King&quot;,&quot;CustomerCompanyName&quot;:&quot;Customer KSLQF&quot;,&quot;TotalSalesValue&quot;:107.8300,&quot;AverageSaleValue&quot;:107.8300},{&quot;EmployeeFirstName&quot;:&quot;Russell&quot;,&quot;EmployeeLastName&quot;:&quot;King&quot;,&quot;CustomerCompanyName&quot;:&quot;Customer LOLJO&quot;,&quot;TotalSalesValue&quot;:360.6300,&quot;AverageSaleValue&quot;:360.6300},{&quot;EmployeeFirstName&quot;:&quot;Russell&quot;,&quot;EmployeeLastName&quot;:&quot;King&quot;,&quot;CustomerCompanyName&quot;:&quot;Customer MLTDN&quot;,&quot;TotalSalesValue&quot;:1.6100,&quot;AverageSaleValue&quot;:1.6100},{&quot;EmployeeFirstName&quot;:&quot;Russell&quot;,&quot;EmployeeLastName&quot;:&quot;King&quot;,&quot;CustomerCompanyName&quot;:&quot;Customer QZURI&quot;,&quot;TotalSalesValue&quot;:15.5100,&quot;AverageSaleValue&quot;:15.5100},{&quot;EmployeeFirstName&quot;:&quot;Russell&quot;,&quot;EmployeeLastName&quot;:&quot;King&quot;,&quot;CustomerCompanyName&quot;:&quot;Customer UBHAU&quot;,&quot;TotalSalesValue&quot;:22.7700,&quot;AverageSaleValue&quot;:22.7700},{&quot;EmployeeFirstName&quot;:&quot;Russell&quot;,&quot;EmployeeLastName&quot;:&quot;King&quot;,&quot;CustomerCompanyName&quot;:&quot;Customer VONTK&quot;,&quot;TotalSalesValue&quot;:64.5000,&quot;AverageSaleValue&quot;:64.5000},{&quot;EmployeeFirstName&quot;:&quot;Russell&quot;,&quot;EmployeeLastName&quot;:&quot;King&quot;,&quot;CustomerCompanyName&quot;:&quot;Customer XOJYP&quot;,&quot;TotalSalesValue&quot;:8.6300,&quot;AverageSaleValue&quot;:8.6300},{&quot;EmployeeFirstName&quot;:&quot;Russell&quot;,&quot;EmployeeLastName&quot;:&quot;King&quot;,&quot;CustomerCompanyName&quot;:&quot;Customer ZRNDE&quot;,&quot;TotalSalesValue&quot;:13.5500,&quot;AverageSaleValue&quot;:13.5500},{&quot;EmployeeFirstName&quot;:&quot;Judy&quot;,&quot;EmployeeLastName&quot;:&quot;Lew&quot;,&quot;CustomerCompanyName&quot;:&quot;Customer FEVNN&quot;,&quot;TotalSalesValue&quot;:5.4500,&quot;AverageSaleValue&quot;:5.4500},{&quot;EmployeeFirstName&quot;:&quot;Judy&quot;,&quot;EmployeeLastName&quot;:&quot;Lew&quot;,&quot;CustomerCompanyName&quot;:&quot;Customer FRXZL&quot;,&quot;TotalSalesValue&quot;:47.3000,&quot;AverageSaleValue&quot;:47.3000},{&quot;EmployeeFirstName&quot;:&quot;Judy&quot;,&quot;EmployeeLastName&quot;:&quot;Lew&quot;,&quot;CustomerCompanyName&quot;:&quot;Customer HGVLZ&quot;,&quot;TotalSalesValue&quot;:168.6400,&quot;AverageSaleValue&quot;:168.6400},{&quot;EmployeeFirstName&quot;:&quot;Judy&quot;,&quot;EmployeeLastName&quot;:&quot;Lew&quot;,&quot;CustomerCompanyName&quot;:&quot;Customer IBVRG&quot;,&quot;TotalSalesValue&quot;:58.1700,&quot;AverageSaleValue&quot;:58.1700},{&quot;EmployeeFirstName&quot;:&quot;Judy&quot;,&quot;EmployeeLastName&quot;:&quot;Lew&quot;,&quot;CustomerCompanyName&quot;:&quot;Customer IRRVL&quot;,&quot;TotalSalesValue&quot;:76.0700,&quot;AverageSaleValue&quot;:76.0700},{&quot;EmployeeFirstName&quot;:&quot;Judy&quot;,&quot;EmployeeLastName&quot;:&quot;Lew&quot;,&quot;CustomerCompanyName&quot;:&quot;Customer KBUDE&quot;,&quot;TotalSalesValue&quot;:22.0000,&quot;AverageSaleValue&quot;:22.0000},{&quot;EmployeeFirstName&quot;:&quot;Judy&quot;,&quot;EmployeeLastName&quot;:&quot;Lew&quot;,&quot;CustomerCompanyName&quot;:&quot;Customer LJUCA&quot;,&quot;TotalSalesValue&quot;:3.4300,&quot;AverageSaleValue&quot;:3.4300},{&quot;EmployeeFirstName&quot;:&quot;Judy&quot;,&quot;EmployeeLastName&quot;:&quot;Lew&quot;,&quot;CustomerCompanyName&quot;:&quot;Customer LVJSO&quot;,&quot;TotalSalesValue&quot;:20.1200,&quot;AverageSaleValue&quot;:20.1200},{&quot;EmployeeFirstName&quot;:&quot;Judy&quot;,&quot;EmployeeLastName&quot;:&quot;Lew&quot;,&quot;CustomerCompanyName&quot;:&quot;Customer NRCSK&quot;,&quot;TotalSalesValue&quot;:41.3400,&quot;AverageSaleValue&quot;:41.3400},{&quot;EmployeeFirstName&quot;:&quot;Judy&quot;,&quot;EmployeeLastName&quot;:&quot;Lew&quot;,&quot;CustomerCompanyName&quot;:&quot;Customer NYUHS&quot;,&quot;TotalSalesValue&quot;:142.0800,&quot;AverageSaleValue&quot;:142.0800},{&quot;EmployeeFirstName&quot;:&quot;Judy&quot;,&quot;EmployeeLastName&quot;:&quot;Lew&quot;,&quot;CustomerCompanyName&quot;:&quot;Customer PVDZC&quot;,&quot;TotalSalesValue&quot;:52.8400,&quot;AverageSaleValue&quot;:52.8400},{&quot;EmployeeFirstName&quot;:&quot;Judy&quot;,&quot;EmployeeLastName&quot;:&quot;Lew&quot;,&quot;CustomerCompanyName&quot;:&quot;Customer RTXGC&quot;,&quot;TotalSalesValue&quot;:96.0400,&quot;AverageSaleValue&quot;:96.0400},{&quot;EmployeeFirstName&quot;:&quot;Judy&quot;,&quot;EmployeeLastName&quot;:&quot;Lew&quot;,&quot;CustomerCompanyName&quot;:&quot;Customer SRQVM&quot;,&quot;TotalSalesValue&quot;:13.9700,&quot;AverageSaleValue&quot;:13.9700},{&quot;EmployeeFirstName&quot;:&quot;Judy&quot;,&quot;EmployeeLastName&quot;:&quot;Lew&quot;,&quot;CustomerCompanyName&quot;:&quot;Customer XPNIK&quot;,&quot;TotalSalesValue&quot;:105.5500,&quot;AverageSaleValue&quot;:35.1833},{&quot;EmployeeFirstName&quot;:&quot;Judy&quot;,&quot;EmployeeLastName&quot;:&quot;Lew&quot;,&quot;CustomerCompanyName&quot;:&quot;Customer XYUFB&quot;,&quot;TotalSalesValue&quot;:1.3000,&quot;AverageSaleValue&quot;:1.3000},{&quot;EmployeeFirstName&quot;:&quot;Judy&quot;,&quot;EmployeeLastName&quot;:&quot;Lew&quot;,&quot;CustomerCompanyName&quot;:&quot;Customer ZHYOS&quot;,&quot;TotalSalesValue&quot;:25.7300,&quot;AverageSaleValue&quot;:25.7300},{&quot;EmployeeFirstName&quot;:&quot;Sven&quot;,&quot;EmployeeLastName&quot;:&quot;Mortensen&quot;,&quot;CustomerCompanyName&quot;:&quot;Customer AHPOP&quot;,&quot;TotalSalesValue&quot;:288.4300,&quot;AverageSaleValue&quot;:288.4300},{&quot;EmployeeFirstName&quot;:&quot;Sven&quot;,&quot;EmployeeLastName&quot;:&quot;Mortensen&quot;,&quot;CustomerCompanyName&quot;:&quot;Customer CYZTN&quot;,&quot;TotalSalesValue&quot;:5.4400,&quot;AverageSaleValue&quot;:5.4400},{&quot;EmployeeFirstName&quot;:&quot;Sven&quot;,&quot;EmployeeLastName&quot;:&quot;Mortensen&quot;,&quot;CustomerCompanyName&quot;:&quot;Customer ENQZT&quot;,&quot;TotalSalesValue&quot;:32.3800,&quot;AverageSaleValue&quot;:32.3800},{&quot;EmployeeFirstName&quot;:&quot;Sven&quot;,&quot;EmployeeLastName&quot;:&quot;Mortensen&quot;,&quot;CustomerCompanyName&quot;:&quot;Customer QXVLA&quot;,&quot;TotalSalesValue&quot;:5.7400,&quot;AverageSaleValue&quot;:5.7400},{&quot;EmployeeFirstName&quot;:&quot;Sven&quot;,&quot;EmployeeLastName&quot;:&quot;Mortensen&quot;,&quot;CustomerCompanyName&quot;:&quot;Customer QZURI&quot;,&quot;TotalSalesValue&quot;:60.2600,&quot;AverageSaleValue&quot;:60.2600},{&quot;EmployeeFirstName&quot;:&quot;Sven&quot;,&quot;EmployeeLastName&quot;:&quot;Mortensen&quot;,&quot;CustomerCompanyName&quot;:&quot;Customer WFIZJ&quot;,&quot;TotalSalesValue&quot;:890.7800,&quot;AverageSaleValue&quot;:890.7800},{&quot;EmployeeFirstName&quot;:&quot;Sven&quot;,&quot;EmployeeLastName&quot;:&quot;Mortensen&quot;,&quot;CustomerCompanyName&quot;:&quot;Customer WNMAF&quot;,&quot;TotalSalesValue&quot;:22.9800,&quot;AverageSaleValue&quot;:22.9800},{&quot;EmployeeFirstName&quot;:&quot;Sven&quot;,&quot;EmployeeLastName&quot;:&quot;Mortensen&quot;,&quot;CustomerCompanyName&quot;:&quot;Customer XIIWM&quot;,&quot;TotalSalesValue&quot;:19.6400,&quot;AverageSaleValue&quot;:19.6400},{&quot;EmployeeFirstName&quot;:&quot;Sven&quot;,&quot;EmployeeLastName&quot;:&quot;Mortensen&quot;,&quot;CustomerCompanyName&quot;:&quot;Customer YBQTI&quot;,&quot;TotalSalesValue&quot;:4.5600,&quot;AverageSaleValue&quot;:4.5600},{&quot;EmployeeFirstName&quot;:&quot;Sven&quot;,&quot;EmployeeLastName&quot;:&quot;Mortensen&quot;,&quot;CustomerCompanyName&quot;:&quot;Customer ZHYOS&quot;,&quot;TotalSalesValue&quot;:35.1600,&quot;AverageSaleValue&quot;:17.5800},{&quot;EmployeeFirstName&quot;:&quot;Yael&quot;,&quot;EmployeeLastName&quot;:&quot;Peled&quot;,&quot;CustomerCompanyName&quot;:&quot;Customer AZJED&quot;,&quot;TotalSalesValue&quot;:371.6700,&quot;AverageSaleValue&quot;:123.8900},{&quot;EmployeeFirstName&quot;:&quot;Yael&quot;,&quot;EmployeeLastName&quot;:&quot;Peled&quot;,&quot;CustomerCompanyName&quot;:&quot;Customer EEALV&quot;,&quot;TotalSalesValue&quot;:47.4200,&quot;AverageSaleValue&quot;:47.4200},{&quot;EmployeeFirstName&quot;:&quot;Yael&quot;,&quot;EmployeeLastName&quot;:&quot;Peled&quot;,&quot;CustomerCompanyName&quot;:&quot;Customer FEVNN&quot;,&quot;TotalSalesValue&quot;:30.5400,&quot;AverageSaleValue&quot;:30.5400},{&quot;EmployeeFirstName&quot;:&quot;Yael&quot;,&quot;EmployeeLastName&quot;:&quot;Peled&quot;,&quot;CustomerCompanyName&quot;:&quot;Customer FRXZL&quot;,&quot;TotalSalesValue&quot;:124.1200,&quot;AverageSaleValue&quot;:124.1200},{&quot;EmployeeFirstName&quot;:&quot;Yael&quot;,&quot;EmployeeLastName&quot;:&quot;Peled&quot;,&quot;CustomerCompanyName&quot;:&quot;Customer GLLAG&quot;,&quot;TotalSalesValue&quot;:4.8800,&quot;AverageSaleValue&quot;:4.8800},{&quot;EmployeeFirstName&quot;:&quot;Yael&quot;,&quot;EmployeeLastName&quot;:&quot;Peled&quot;,&quot;CustomerCompanyName&quot;:&quot;Customer IBVRG&quot;,&quot;TotalSalesValue&quot;:65.8300,&quot;AverageSaleValue&quot;:65.8300},{&quot;EmployeeFirstName&quot;:&quot;Yael&quot;,&quot;EmployeeLastName&quot;:&quot;Peled&quot;,&quot;CustomerCompanyName&quot;:&quot;Customer KIDPX&quot;,&quot;TotalSalesValue&quot;:3.1000,&quot;AverageSaleValue&quot;:3.1000},{&quot;EmployeeFirstName&quot;:&quot;Yael&quot;,&quot;EmployeeLastName&quot;:&quot;Peled&quot;,&quot;CustomerCompanyName&quot;:&quot;Customer KZQZT&quot;,&quot;TotalSalesValue&quot;:84.2100,&quot;AverageSaleValue&quot;:84.2100},{&quot;EmployeeFirstName&quot;:&quot;Yael&quot;,&quot;EmployeeLastName&quot;:&quot;Peled&quot;,&quot;CustomerCompanyName&quot;:&quot;Customer LHANT&quot;,&quot;TotalSalesValue&quot;:7.4500,&quot;AverageSaleValue&quot;:7.4500},{&quot;EmployeeFirstName&quot;:&quot;Yael&quot;,&quot;EmployeeLastName&quot;:&quot;Peled&quot;,&quot;CustomerCompanyName&quot;:&quot;Customer LJUCA&quot;,&quot;TotalSalesValue&quot;:41.7600,&quot;AverageSaleValue&quot;:41.7600},{&quot;EmployeeFirstName&quot;:&quot;Yael&quot;,&quot;EmployeeLastName&quot;:&quot;Peled&quot;,&quot;CustomerCompanyName&quot;:&quot;Customer NYUHS&quot;,&quot;TotalSalesValue&quot;:147.2600,&quot;AverageSaleValue&quot;:147.2600},{&quot;EmployeeFirstName&quot;:&quot;Yael&quot;,&quot;EmployeeLastName&quot;:&quot;Peled&quot;,&quot;CustomerCompanyName&quot;:&quot;Customer OXFRU&quot;,&quot;TotalSalesValue&quot;:186.9300,&quot;AverageSaleValue&quot;:93.4650},{&quot;EmployeeFirstName&quot;:&quot;Yael&quot;,&quot;EmployeeLastName&quot;:&quot;Peled&quot;,&quot;CustomerCompanyName&quot;:&quot;Customer QNIVZ&quot;,&quot;TotalSalesValue&quot;:55.0900,&quot;AverageSaleValue&quot;:55.0900},{&quot;EmployeeFirstName&quot;:&quot;Yael&quot;,&quot;EmployeeLastName&quot;:&quot;Peled&quot;,&quot;CustomerCompanyName&quot;:&quot;Customer QUHWH&quot;,&quot;TotalSalesValue&quot;:77.9200,&quot;AverageSaleValue&quot;:77.9200},{&quot;EmployeeFirstName&quot;:&quot;Yael&quot;,&quot;EmployeeLastName&quot;:&quot;Peled&quot;,&quot;CustomerCompanyName&quot;:&quot;Customer QVEPD&quot;,&quot;TotalSalesValue&quot;:29.7600,&quot;AverageSaleValue&quot;:29.7600},{&quot;EmployeeFirstName&quot;:&quot;Yael&quot;,&quot;EmployeeLastName&quot;:&quot;Peled&quot;,&quot;CustomerCompanyName&quot;:&quot;Customer QXVLA&quot;,&quot;TotalSalesValue&quot;:131.7000,&quot;AverageSaleValue&quot;:131.7000},{&quot;EmployeeFirstName&quot;:&quot;Yael&quot;,&quot;EmployeeLastName&quot;:&quot;Peled&quot;,&quot;CustomerCompanyName&quot;:&quot;Customer SFOGW&quot;,&quot;TotalSalesValue&quot;:57.5700,&quot;AverageSaleValue&quot;:28.7850},{&quot;EmployeeFirstName&quot;:&quot;Yael&quot;,&quot;EmployeeLastName&quot;:&quot;Peled&quot;,&quot;CustomerCompanyName&quot;:&quot;Customer SIUIH&quot;,&quot;TotalSalesValue&quot;:15.6300,&quot;AverageSaleValue&quot;:7.8150},{&quot;EmployeeFirstName&quot;:&quot;Yael&quot;,&quot;EmployeeLastName&quot;:&quot;Peled&quot;,&quot;CustomerCompanyName&quot;:&quot;Customer SNXOJ&quot;,&quot;TotalSalesValue&quot;:0.7800,&quot;AverageSaleValue&quot;:0.7800},{&quot;EmployeeFirstName&quot;:&quot;Yael&quot;,&quot;EmployeeLastName&quot;:&quot;Peled&quot;,&quot;CustomerCompanyName&quot;:&quot;Customer THHDP&quot;,&quot;TotalSalesValue&quot;:94.7700,&quot;AverageSaleValue&quot;:94.7700},{&quot;EmployeeFirstName&quot;:&quot;Yael&quot;,&quot;EmployeeLastName&quot;:&quot;Peled&quot;,&quot;CustomerCompanyName&quot;:&quot;Customer UMTLM&quot;,&quot;TotalSalesValue&quot;:81.9100,&quot;AverageSaleValue&quot;:81.9100},{&quot;EmployeeFirstName&quot;:&quot;Yael&quot;,&quot;EmployeeLastName&quot;:&quot;Peled&quot;,&quot;CustomerCompanyName&quot;:&quot;Customer VMLOG&quot;,&quot;TotalSalesValue&quot;:3.2500,&quot;AverageSaleValue&quot;:3.2500},{&quot;EmployeeFirstName&quot;:&quot;Yael&quot;,&quot;EmployeeLastName&quot;:&quot;Peled&quot;,&quot;CustomerCompanyName&quot;:&quot;Customer WULWD&quot;,&quot;TotalSalesValue&quot;:3.0500,&quot;AverageSaleValue&quot;:3.0500},{&quot;EmployeeFirstName&quot;:&quot;Yael&quot;,&quot;EmployeeLastName&quot;:&quot;Peled&quot;,&quot;CustomerCompanyName&quot;:&quot;Customer XOJYP&quot;,&quot;TotalSalesValue&quot;:191.6700,&quot;AverageSaleValue&quot;:191.6700},{&quot;EmployeeFirstName&quot;:&quot;Yael&quot;,&quot;EmployeeLastName&quot;:&quot;Peled&quot;,&quot;CustomerCompanyName&quot;:&quot;Customer XYUFB&quot;,&quot;TotalSalesValue&quot;:87.0300,&quot;AverageSaleValue&quot;:87.0300},{&quot;EmployeeFirstName&quot;:&quot;Yael&quot;,&quot;EmployeeLastName&quot;:&quot;Peled&quot;,&quot;CustomerCompanyName&quot;:&quot;Customer YBQTI&quot;,&quot;TotalSalesValue&quot;:23.2900,&quot;AverageSaleValue&quot;:23.2900},{&quot;EmployeeFirstName&quot;:&quot;Paul&quot;,&quot;EmployeeLastName&quot;:&quot;Suurs&quot;,&quot;CustomerCompanyName&quot;:&quot;Customer CYZTN&quot;,&quot;TotalSalesValue&quot;:3.6700,&quot;AverageSaleValue&quot;:3.6700},{&quot;EmployeeFirstName&quot;:&quot;Paul&quot;,&quot;EmployeeLastName&quot;:&quot;Suurs&quot;,&quot;CustomerCompanyName&quot;:&quot;Customer DVFMB&quot;,&quot;TotalSalesValue&quot;:12.6900,&quot;AverageSaleValue&quot;:12.6900},{&quot;EmployeeFirstName&quot;:&quot;Paul&quot;,&quot;EmployeeLastName&quot;:&quot;Suurs&quot;,&quot;CustomerCompanyName&quot;:&quot;Customer ENQZT&quot;,&quot;TotalSalesValue&quot;:6.0100,&quot;AverageSaleValue&quot;:6.0100},{&quot;EmployeeFirstName&quot;:&quot;Paul&quot;,&quot;EmployeeLastName&quot;:&quot;Suurs&quot;,&quot;CustomerCompanyName&quot;:&quot;Customer FAPSM&quot;,&quot;TotalSalesValue&quot;:11.6100,&quot;AverageSaleValue&quot;:11.6100},{&quot;EmployeeFirstName&quot;:&quot;Paul&quot;,&quot;EmployeeLastName&quot;:&quot;Suurs&quot;,&quot;CustomerCompanyName&quot;:&quot;Customer FRXZL&quot;,&quot;TotalSalesValue&quot;:168.2200,&quot;AverageSaleValue&quot;:168.2200},{&quot;EmployeeFirstName&quot;:&quot;Paul&quot;,&quot;EmployeeLastName&quot;:&quot;Suurs&quot;,&quot;CustomerCompanyName&quot;:&quot;Customer HFBZG&quot;,&quot;TotalSalesValue&quot;:41.9500,&quot;AverageSaleValue&quot;:41.9500},{&quot;EmployeeFirstName&quot;:&quot;Paul&quot;,&quot;EmployeeLastName&quot;:&quot;Suurs&quot;,&quot;CustomerCompanyName&quot;:&quot;Customer NYUHS&quot;,&quot;TotalSalesValue&quot;:98.0300,&quot;AverageSaleValue&quot;:98.0300},{&quot;EmployeeFirstName&quot;:&quot;Paul&quot;,&quot;EmployeeLastName&quot;:&quot;Suurs&quot;,&quot;CustomerCompanyName&quot;:&quot;Customer SNXOJ&quot;,&quot;TotalSalesValue&quot;:36.7100,&quot;AverageSaleValue&quot;:36.7100},{&quot;EmployeeFirstName&quot;:&quot;Paul&quot;,&quot;EmployeeLastName&quot;:&quot;Suurs&quot;,&quot;CustomerCompanyName&quot;:&quot;Customer THHDP&quot;,&quot;TotalSalesValue&quot;:126.3800,&quot;AverageSaleValue&quot;:126.3800},{&quot;EmployeeFirstName&quot;:&quot;Paul&quot;,&quot;EmployeeLastName&quot;:&quot;Suurs&quot;,&quot;CustomerCompanyName&quot;:&quot;Customer UMTLM&quot;,&quot;TotalSalesValue&quot;:184.4100,&quot;AverageSaleValue&quot;:184.4100},{&quot;EmployeeFirstName&quot;:&quot;Paul&quot;,&quot;EmployeeLastName&quot;:&quot;Suurs&quot;,&quot;CustomerCompanyName&quot;:&quot;Customer WNMAF&quot;,&quot;TotalSalesValue&quot;:1.1700,&quot;AverageSaleValue&quot;:1.1700},{&quot;EmployeeFirstName&quot;:&quot;Paul&quot;,&quot;EmployeeLastName&quot;:&quot;Suurs&quot;,&quot;CustomerCompanyName&quot;:&quot;Customer WULWD&quot;,&quot;TotalSalesValue&quot;:6.4000,&quot;AverageSaleValue&quot;:6.4000},{&quot;EmployeeFirstName&quot;:&quot;Paul&quot;,&quot;EmployeeLastName&quot;:&quot;Suurs&quot;,&quot;CustomerCompanyName&quot;:&quot;Customer XIIWM&quot;,&quot;TotalSalesValue&quot;:64.1900,&quot;AverageSaleValue&quot;:64.1900},{&quot;EmployeeFirstName&quot;:&quot;Paul&quot;,&quot;EmployeeLastName&quot;:&quot;Suurs&quot;,&quot;CustomerCompanyName&quot;:&quot;Customer XOJYP&quot;,&quot;TotalSalesValue&quot;:4.5400,&quot;AverageSaleValue&quot;:4.5400},{&quot;EmployeeFirstName&quot;:&quot;Paul&quot;,&quot;EmployeeLastName&quot;:&quot;Suurs&quot;,&quot;CustomerCompanyName&quot;:&quot;Customer XPNIK&quot;,&quot;TotalSalesValue&quot;:0.1200,&quot;AverageSaleValue&quot;:0.1200}]}</td></tr>",
                            "</table>"
                        ]
                    }
                }
            ],
            "execution_count": 39
        },
        {
            "cell_type": "markdown",
            "source": [
                "# MY WORST 3"
            ],
            "metadata": {
                "azdata_cell_guid": "96c6c4a5-a7a4-4129-bbfa-1ee6b9129ffb"
            },
            "attachments": {}
        },
        {
            "cell_type": "markdown",
            "source": [
                "* * *\n",
                "\n",
                "**Difficulty:** Medium\n",
                "\n",
                "**Proposition:** Write a query that retrieves each business entity's total email addresses and phone numbers.\n",
                "\n",
                "**Table:** Person.EmailAddress, Person.PersonPhone, Person.BusinessEntityContact\n",
                "\n",
                "**Columns:** BusinessEntityID, EmailTotal (total email addresses), and PhoneTotal (total phone numbers) for each business entity.\n",
                "\n",
                "**Predicate:**\n",
                "\n",
                "```\n",
                "-- For EmailTotal\n",
                "GROUP BY BusinessEntityID\n",
                "\n",
                "-- For PhoneTotal\n",
                "WHERE PP.BusinessEntityID = BEC.BusinessEntityID\n",
                "\n",
                "```\n",
                "\n",
                "The first GROUP BY clause is used in the CTE (Common Table Expression) named EmailCount to aggregate the total number of email addresses by BusinessEntityID. The WHERE clause in the subquery for counting phone numbers ensures that the count is specific to each BusinessEntityID in the main query's context.\n",
                "\n",
                "**How to fix it:**\n",
                "\n",
                "- To address EmailTotal returning NULL, I can verify if there is a LEFT JOIN between Person.BusinessEntityContact and the EmailCount CTE \n",
                "\n",
                "- I can improve PhoneTotal join by testing the data and and checking if there are values that match\n",
                "\n",
                "- I can also improve my alias names by creating more discriptive names"
            ],
            "metadata": {
                "azdata_cell_guid": "5739d3cb-4a35-4d6e-953a-919815586f21",
                "language": "sql"
            },
            "attachments": {}
        },
        {
            "cell_type": "code",
            "source": [
                "USE AdventureWorks2017;\n",
                "WITH\n",
                "    EmailCount\n",
                "    AS\n",
                "    (\n",
                "        SELECT\n",
                "            BusinessEntityID,\n",
                "            COUNT(EmailAddressID) AS EmailTotal\n",
                "        FROM Person.EmailAddress\n",
                "        GROUP BY BusinessEntityID\n",
                "    )\n",
                "\n",
                "SELECT\n",
                "    BEC.BusinessEntityID,\n",
                "    EC.EmailTotal,\n",
                "    (SELECT COUNT(PhoneNumber)\n",
                "    FROM Person.PersonPhone PP\n",
                "    WHERE PP.BusinessEntityID = BEC.BusinessEntityID) AS PhoneTotal\n",
                "FROM\n",
                "    Person.BusinessEntityContact BEC\n",
                "    LEFT JOIN EmailCount EC ON BEC.BusinessEntityID = EC.BusinessEntityID\n",
                "GROUP BY BEC.BusinessEntityID, EC.EmailTotal\n",
                "ORDER BY BEC.BusinessEntityID;\n",
                "\n",
                "\n",
                "--JSON\n",
                "USE AdventureWorks2017;\n",
                "WITH\n",
                "    EmailCount\n",
                "    AS\n",
                "    (\n",
                "        SELECT\n",
                "            BusinessEntityID,\n",
                "            COUNT(EmailAddressID) AS EmailTotal\n",
                "        FROM Person.EmailAddress\n",
                "        GROUP BY BusinessEntityID\n",
                "    )\n",
                "\n",
                "SELECT\n",
                "    BEC.BusinessEntityID,\n",
                "    EC.EmailTotal,\n",
                "    (SELECT COUNT(PhoneNumber)\n",
                "    FROM Person.PersonPhone PP\n",
                "    WHERE PP.BusinessEntityID = BEC.BusinessEntityID) AS PhoneTotal\n",
                "FROM\n",
                "    Person.BusinessEntityContact BEC\n",
                "    LEFT JOIN EmailCount EC ON BEC.BusinessEntityID = EC.BusinessEntityID\n",
                "GROUP BY BEC.BusinessEntityID, EC.EmailTotal\n",
                "ORDER BY BEC.BusinessEntityID\n",
                "FOR JSON PATH, ROOT('BusinessEmailCount');\n",
                ""
            ],
            "metadata": {
                "azdata_cell_guid": "dc0e81ad-c3e0-422c-9c4c-fb80a5665ffa",
                "language": "sql"
            },
            "outputs": [],
            "execution_count": null
        },
        {
            "cell_type": "markdown",
            "source": [
                "* * *\n",
                "\n",
                "**Difficulty:** Medium\n",
                "\n",
                "**Proposition:** Aggregate total sales per customer by summarizing sales from all their orders.\n",
                "\n",
                "**Table:** Sales.Customer, Sales.Order, Sales.OrderDetailAudit, Production.Product\n",
                "\n",
                "**Columns:**\n",
                "\n",
                "Sales.Customer: CustomerId, CustomerCompanyName Sales.Order: OrderId, CustomerId Sales.OrderDetailAudit: OrderId, ProductId, NewVal (Quantity) Production.Product: ProductId, UnitPrice\n",
                "\n",
                "**Predicate:**\n",
                "\n",
                "```\n",
                "SUM(CONVERT(int, oda.NewVal) * p.UnitPrice) AS TotalSales\n",
                "\n",
                "```\n",
                "\n",
                "This calculation in the CTE (Common Table Expression) computes the total sales for each order by multiplying the quantity (NewVal from Sales.OrderDetailAudit, converted to integer for calculation) by the unit price of each product (UnitPrice from Production.Product).\n",
                "\n",
                "**How to fix it:**\n",
                "\n",
                "- since Sales.OrderDetailAudit is empty can use a different table like Sales.OrderDetail that has data in the table\n",
                "    \n",
                "- I should've checked before I created the query to see if the Sales.OrderDetailAudit table had data\n",
                "    \n",
                "- I can also improve my alias names by creating more discriptive names"
            ],
            "metadata": {
                "azdata_cell_guid": "ebf7f541-ac19-464d-bc79-43adb43f01b5"
            },
            "attachments": {}
        },
        {
            "cell_type": "code",
            "source": [
                "USE Northwinds2022TSQLV7;\n",
                "GO\n",
                "\n",
                "WITH\n",
                "    OrderSales\n",
                "    AS\n",
                "    (\n",
                "        SELECT\n",
                "            o.CustomerId,\n",
                "            o.OrderId,\n",
                "            SUM(CONVERT(int, oda.NewVal) * p.UnitPrice) AS TotalSales\n",
                "        FROM Sales.OrderDetailAudit oda\n",
                "            INNER JOIN Sales.[Order] o ON oda.OrderId = o.OrderId\n",
                "            INNER JOIN Production.Product p ON oda.ProductId = p.ProductId\n",
                "        GROUP BY o.CustomerId, o.OrderId\n",
                "    )\n",
                "SELECT\n",
                "    c.CustomerId,\n",
                "    c.CustomerCompanyName,\n",
                "    SUM(os.TotalSales) AS TotalSalesAmount\n",
                "FROM OrderSales os\n",
                "    INNER JOIN Sales.Customer c ON os.CustomerId = c.CustomerId\n",
                "GROUP BY c.CustomerId, c.CustomerCompanyName\n",
                "ORDER BY TotalSalesAmount DESC;\n",
                "\n",
                "\n",
                "--JSON\n",
                "USE Northwinds2022TSQLV7;\n",
                "GO\n",
                "\n",
                "WITH\n",
                "    OrderSales\n",
                "    AS\n",
                "    (\n",
                "        SELECT\n",
                "            o.CustomerId,\n",
                "            o.OrderId,\n",
                "            SUM(CONVERT(int, oda.NewVal) * p.UnitPrice) AS TotalSales\n",
                "        FROM Sales.OrderDetailAudit oda\n",
                "            INNER JOIN Sales.[Order] o ON oda.OrderId = o.OrderId\n",
                "            INNER JOIN Production.Product p ON oda.ProductId = p.ProductId\n",
                "        GROUP BY o.CustomerId, o.OrderId\n",
                "    )\n",
                "SELECT\n",
                "    c.CustomerId,\n",
                "    c.CustomerCompanyName,\n",
                "    SUM(os.TotalSales) AS TotalSalesAmount\n",
                "FROM OrderSales os\n",
                "    INNER JOIN Sales.Customer c ON os.CustomerId = c.CustomerId\n",
                "GROUP BY c.CustomerId, c.CustomerCompanyName\n",
                "ORDER BY TotalSalesAmount DESC\n",
                "FOR JSON PATH, ROOT('TotalNRepairCosts');"
            ],
            "metadata": {
                "azdata_cell_guid": "af23b2d5-87f5-4377-b5df-f15763e55a56",
                "language": "sql"
            },
            "outputs": [],
            "execution_count": null
        },
        {
            "cell_type": "markdown",
            "source": [
                "***\n",
                "**Difficulty:** Medium\n",
                "\n",
                "**Proposition:** Retrieve the average sales amount by currency for orders placed in 2014, sorted by the overall average sales amount in descending order.\n",
                "\n",
                "**Table:** dbo.FactInternetSales, dbo.DimCurrency, dbo.DimDate\n",
                "\n",
                "**Columns:** CurrencyName, CurrencyAlternateKey, and OverallAverageSalesAmount calculated from the dbo.FactInternetSales and dbo.DimCurrency tables.\n",
                "\n",
                "**Predicate:**\n",
                "\n",
                "```\n",
                "WHERE f.OrderDateKey IN (SELECT DateKey FROM dbo.DimDate WHERE CalendarYear = 2014)\n",
                "```\n",
                "\n",
                "This WHERE clause filters the dbo.FactInternetSales table to only return rows where the OrderDateKey matches any DateKey from the dbo.DimDate table for the year 2014.\n",
                "\n",
                "**How to fix it:**\n",
                "\n",
                "- I can remove the calculation of an average of averages (AVG(a.AvgSalesAmount)) because it can lead to misleading results since it does not take into account the variance in the number of transactions per currency\n",
                "\n",
                "- I can directly calculate the avg in the main query instead of in the cte\n",
                "\n",
                "- I can also improve my alias names by creating more discriptive names"
            ],
            "metadata": {
                "azdata_cell_guid": "e63244be-f585-4c19-bf70-a474c12bb667",
                "language": "sql"
            },
            "attachments": {}
        },
        {
            "cell_type": "code",
            "source": [
                "\n",
                "USE AdventureWorksDW2017;\n",
                "GO\n",
                "WITH\n",
                "    AverageSalesByCurrency\n",
                "    AS\n",
                "    (\n",
                "        SELECT\n",
                "            f.CurrencyKey,\n",
                "            AVG(f.SalesAmount) AS AvgSalesAmount\n",
                "        FROM\n",
                "            dbo.FactInternetSales f\n",
                "            INNER JOIN\n",
                "            dbo.DimCurrency c ON f.CurrencyKey = c.CurrencyKey\n",
                "        WHERE\n",
                "        f.OrderDateKey IN (SELECT DateKey\n",
                "        FROM dbo.DimDate\n",
                "        WHERE CalendarYear = 2014)\n",
                "        GROUP BY\n",
                "        f.CurrencyKey\n",
                "    )\n",
                "SELECT\n",
                "    c.CurrencyName,\n",
                "    c.CurrencyAlternateKey,\n",
                "    AVG(a.AvgSalesAmount) AS OverallAverageSalesAmount\n",
                "FROM\n",
                "    AverageSalesByCurrency a\n",
                "    INNER JOIN\n",
                "    dbo.DimCurrency c ON a.CurrencyKey = c.CurrencyKey\n",
                "GROUP BY\n",
                "    c.CurrencyName, c.CurrencyAlternateKey\n",
                "ORDER BY\n",
                "    OverallAverageSalesAmount DESC;\n",
                "\n",
                "\n",
                "-- JSON\n",
                "USE AdventureWorksDW2017;\n",
                "GO\n",
                "WITH\n",
                "    AverageSalesByCurrency\n",
                "    AS\n",
                "    (\n",
                "        SELECT\n",
                "            f.CurrencyKey,\n",
                "            AVG(f.SalesAmount) AS AvgSalesAmount\n",
                "        FROM\n",
                "            dbo.FactInternetSales f\n",
                "            INNER JOIN\n",
                "            dbo.DimCurrency c ON f.CurrencyKey = c.CurrencyKey\n",
                "        WHERE\n",
                "        f.OrderDateKey IN (SELECT DateKey\n",
                "        FROM dbo.DimDate\n",
                "        WHERE CalendarYear = 2014)\n",
                "        GROUP BY\n",
                "        f.CurrencyKey\n",
                "    )\n",
                "SELECT\n",
                "    c.CurrencyName,\n",
                "    c.CurrencyAlternateKey,\n",
                "    AVG(a.AvgSalesAmount) AS OverallAverageSalesAmount\n",
                "FROM\n",
                "    AverageSalesByCurrency a\n",
                "    INNER JOIN\n",
                "    dbo.DimCurrency c ON a.CurrencyKey = c.CurrencyKey\n",
                "GROUP BY\n",
                "    c.CurrencyName, c.CurrencyAlternateKey\n",
                "ORDER BY\n",
                "    OverallAverageSalesAmount DESC\n",
                "FOR JSON PATH, ROOT('AverageSalesAmount');\n",
                "\n",
                "    ---\n",
                "   /* SELECT CalendarYear\n",
                "    FROM dbo.DimDate;*/\n",
                ""
            ],
            "metadata": {
                "azdata_cell_guid": "22394f7b-860c-4a79-8a25-d4266b6545d3",
                "language": "sql"
            },
            "outputs": [],
            "execution_count": null
        },
        {
            "cell_type": "markdown",
            "source": [
                "# FIXED"
            ],
            "metadata": {
                "language": "sql",
                "azdata_cell_guid": "3161bc9b-6283-4d79-8b03-59a67661140e"
            },
            "attachments": {}
        },
        {
            "cell_type": "code",
            "source": [
                "USE AdventureWorks2017;\n",
                "WITH\n",
                "    EmailCount\n",
                "    AS\n",
                "    (\n",
                "        SELECT\n",
                "            BusinessEntityID,\n",
                "            COUNT(EmailAddressID) AS EmailTotal\n",
                "        FROM Person.EmailAddress\n",
                "        GROUP BY BusinessEntityID\n",
                "    )\n",
                "\n",
                "SELECT\n",
                "    BEC.BusinessEntityID,\n",
                "    EC.EmailTotal,\n",
                "    (SELECT COUNT(PhoneNumber)\n",
                "    FROM Person.PersonPhone PersonPhoneNumber\n",
                "    WHERE PersonPhoneNumber.BusinessEntityID = BEC.BusinessEntityID) AS PhoneTotal\n",
                "FROM\n",
                "    Person.BusinessEntityContact BEC\n",
                "    LEFT JOIN EmailCount EC ON BEC.BusinessEntityID = EC.BusinessEntityID\n",
                "GROUP BY BEC.BusinessEntityID, EC.EmailTotal\n",
                "ORDER BY BEC.BusinessEntityID;\n",
                "\n",
                "\n",
                "--JSON\n",
                "USE AdventureWorks2017;\n",
                "WITH\n",
                "    EmailCount\n",
                "    AS\n",
                "    (\n",
                "        SELECT\n",
                "            BusinessEntityID,\n",
                "            COUNT(EmailAddressID) AS EmailTotal\n",
                "        FROM Person.EmailAddress\n",
                "        GROUP BY BusinessEntityID\n",
                "    )\n",
                "\n",
                "SELECT\n",
                "    BEC.BusinessEntityID,\n",
                "    EC.EmailTotal,\n",
                "    (SELECT COUNT(PhoneNumber)\n",
                "    FROM Person.PersonPhone PersonPhoneNumber\n",
                "    WHERE PersonPhoneNumber.BusinessEntityID = BEC.BusinessEntityID) AS PhoneTotal\n",
                "FROM\n",
                "    Person.BusinessEntityContact BEC\n",
                "    LEFT JOIN EmailCount EC ON BEC.BusinessEntityID = EC.BusinessEntityID\n",
                "GROUP BY BEC.BusinessEntityID, EC.EmailTotal\n",
                "ORDER BY BEC.BusinessEntityID\n",
                "FOR JSON PATH, ROOT('BusinessEmailCount');\n",
                ""
            ],
            "metadata": {
                "language": "sql",
                "azdata_cell_guid": "841713c2-f9eb-4fea-b24e-ba018565b9cf"
            },
            "outputs": [],
            "execution_count": null
        },
        {
            "cell_type": "code",
            "source": [
                "USE Northwinds2022TSQLV7;\n",
                "GO\n",
                "\n",
                "WITH\n",
                "    OrderSales\n",
                "    AS\n",
                "    (\n",
                "        SELECT\n",
                "            OrderD.CustomerId,\n",
                "            OrderD.OrderId,\n",
                "            SUM(CONVERT(int, OrderDA.NewVal) * p.UnitPrice) AS TotalSales\n",
                "        FROM Sales.OrderDetailAudit OrderDA\n",
                "            INNER JOIN Sales.[Order] OrderD ON OrderDA.OrderId = OrderD.OrderId\n",
                "            INNER JOIN Production.Product p ON OrderDA.ProductId = p.ProductId\n",
                "        GROUP BY OrderD.CustomerId, OrderD.OrderId\n",
                "    )\n",
                "SELECT\n",
                "    c.CustomerId,\n",
                "    c.CustomerCompanyName,\n",
                "    SUM(os.TotalSales) AS TotalSalesAmount\n",
                "FROM OrderSales os\n",
                "    INNER JOIN Sales.Customer c ON os.CustomerId = c.CustomerId\n",
                "GROUP BY c.CustomerId, c.CustomerCompanyName\n",
                "ORDER BY TotalSalesAmount DESC;\n",
                "\n",
                "\n",
                "--JSON\n",
                "USE Northwinds2022TSQLV7;\n",
                "GO\n",
                "\n",
                "WITH\n",
                "    OrderSales\n",
                "    AS\n",
                "    (\n",
                "        SELECT\n",
                "            OrderD.CustomerId,\n",
                "            OrderD.OrderId,\n",
                "            SUM(CONVERT(int, OrderDA.NewVal) * p.UnitPrice) AS TotalSales\n",
                "        FROM Sales.OrderDetailAudit OrderDA\n",
                "            INNER JOIN Sales.[Order] OrderD ON OrderDA.OrderId = OrderD.OrderId\n",
                "            INNER JOIN Production.Product p ON OrderDA.ProductId = p.ProductId\n",
                "        GROUP BY OrderD.CustomerId, OrderD.OrderId\n",
                "    )\n",
                "SELECT\n",
                "    c.CustomerId,\n",
                "    c.CustomerCompanyName,\n",
                "    SUM(os.TotalSales) AS TotalSalesAmount\n",
                "FROM OrderSales os\n",
                "    INNER JOIN Sales.Customer c ON os.CustomerId = c.CustomerId\n",
                "GROUP BY c.CustomerId, c.CustomerCompanyName\n",
                "ORDER BY TotalSalesAmount DESC\n",
                "FOR JSON PATH, ROOT('TotalNRepairCosts');"
            ],
            "metadata": {
                "language": "sql",
                "azdata_cell_guid": "491360e5-bc1c-44b6-a8a1-7c175fe231ce"
            },
            "outputs": [],
            "execution_count": null
        },
        {
            "cell_type": "code",
            "source": [
                "\n",
                "USE AdventureWorksDW2017;\n",
                "GO\n",
                "WITH\n",
                "    AverageSalesByCurrency\n",
                "    AS\n",
                "    (\n",
                "        SELECT\n",
                "            f.CurrencyKey,\n",
                "            AVG(f.SalesAmount) AS AvgSalesAmount\n",
                "        FROM\n",
                "            dbo.FactInternetSales f\n",
                "            INNER JOIN\n",
                "            dbo.DimCurrency c ON f.CurrencyKey = c.CurrencyKey\n",
                "        WHERE\n",
                "        f.OrderDateKey IN (SELECT DateKey\n",
                "        FROM dbo.DimDate\n",
                "        WHERE CalendarYear = 2014)\n",
                "        GROUP BY\n",
                "        f.CurrencyKey\n",
                "    )\n",
                "SELECT\n",
                "    c.CurrencyName,\n",
                "    c.CurrencyAlternateKey,\n",
                "    AVG(a.AvgSalesAmount) AS OverallAverageSalesAmount\n",
                "FROM\n",
                "    AverageSalesByCurrency a\n",
                "    INNER JOIN\n",
                "    dbo.DimCurrency c ON a.CurrencyKey = c.CurrencyKey\n",
                "GROUP BY\n",
                "    c.CurrencyName, c.CurrencyAlternateKey\n",
                "ORDER BY\n",
                "    OverallAverageSalesAmount DESC;\n",
                "\n",
                "\n",
                "-- JSON\n",
                "USE AdventureWorksDW2017;\n",
                "GO\n",
                "WITH\n",
                "    AverageSalesByCurrency\n",
                "    AS\n",
                "    (\n",
                "        SELECT\n",
                "            f.CurrencyKey,\n",
                "            AVG(f.SalesAmount) AS AvgSalesAmount\n",
                "        FROM\n",
                "            dbo.FactInternetSales f\n",
                "            INNER JOIN\n",
                "            dbo.DimCurrency c ON f.CurrencyKey = c.CurrencyKey\n",
                "        WHERE\n",
                "        f.OrderDateKey IN (SELECT DateKey\n",
                "        FROM dbo.DimDate\n",
                "        WHERE CalendarYear = 2014)\n",
                "        GROUP BY\n",
                "        f.CurrencyKey\n",
                "    )\n",
                "SELECT\n",
                "    c.CurrencyName,\n",
                "    c.CurrencyAlternateKey,\n",
                "    AVG(a.AvgSalesAmount) AS OverallAverageSalesAmount\n",
                "FROM\n",
                "    AverageSalesByCurrency a\n",
                "    INNER JOIN\n",
                "    dbo.DimCurrency c ON a.CurrencyKey = c.CurrencyKey\n",
                "GROUP BY\n",
                "    c.CurrencyName, c.CurrencyAlternateKey\n",
                "ORDER BY\n",
                "    OverallAverageSalesAmount DESC\n",
                "FOR JSON PATH, ROOT('AverageSalesAmount');\n",
                "\n",
                "    ---\n",
                "   /* SELECT CalendarYear\n",
                "    FROM dbo.DimDate;*/\n",
                ""
            ],
            "metadata": {
                "language": "sql",
                "azdata_cell_guid": "a3d1db78-07b9-4cf9-84ea-f2b2adf1db10"
            },
            "outputs": [],
            "execution_count": null
        },
        {
            "cell_type": "markdown",
            "source": [
                "# REST OF MY MEDIUM QUERIES"
            ],
            "metadata": {
                "azdata_cell_guid": "76ccbe9f-928e-40fb-9451-1837ac923f57",
                "language": "sql"
            },
            "attachments": {}
        },
        {
            "cell_type": "markdown",
            "source": [
                "* * *\n",
                "\n",
                "**Difficulty:** Medium 1\n",
                "\n",
                "**Proposition:** Retrieve sales employee details with total orders since hiring after January 1, 2012, ordered by total orders in descending order.\n",
                "\n",
                "**Table:** HumanResources.Employee, Sales.Order\n",
                "\n",
                "**Columns:** EmployeeFirstName, EmployeeLastName, EmployeeRegion, and TotalOrders from a combined dataset of HumanResources.Employee and a derived table EmployeeSales that aggregates Order counts by EmployeeId.\n",
                "\n",
                "**Predicate:**\n",
                "\n",
                "```\n",
                "WHERE HireDate > '2012-01-01'\n",
                "\n",
                "```\n",
                "\n",
                "This WHERE clause filters the HumanResources.Employee table to only return employees hired after January 1, 2012."
            ],
            "metadata": {
                "azdata_cell_guid": "14ef2d38-a59e-4859-aa73-c516fb5f4f9c",
                "language": "sql"
            },
            "attachments": {}
        },
        {
            "cell_type": "code",
            "source": [
                "\n",
                "USE Northwinds2022TSQLV7;\n",
                "\n",
                "WITH\n",
                "    EmployeeSales\n",
                "    AS\n",
                "    (\n",
                "        SELECT\n",
                "            o.EmployeeId,\n",
                "            COUNT(o.OrderId) AS TotalOrders\n",
                "        FROM\n",
                "            Sales.[Order] o\n",
                "        GROUP BY\n",
                "        o.EmployeeId\n",
                "    )\n",
                "\n",
                "SELECT\n",
                "    e.EmployeeFirstName,\n",
                "    e.EmployeeLastName,\n",
                "    e.EmployeeRegion,\n",
                "    es.TotalOrders\n",
                "FROM\n",
                "    HumanResources.Employee e\n",
                "    INNER JOIN\n",
                "    EmployeeSales es ON e.EmployeeId = es.EmployeeId\n",
                "WHERE\n",
                "    e.EmployeeId IN (SELECT EmployeeId\n",
                "FROM HumanResources.Employee\n",
                "WHERE HireDate > '2012-01-01')\n",
                "GROUP BY\n",
                "    e.EmployeeFirstName, e.EmployeeLastName, e.EmployeeRegion, es.TotalOrders\n",
                "ORDER BY\n",
                "    es.TotalOrders DESC;\n",
                "\n",
                "\n",
                "-- JSON\n",
                "USE Northwinds2022TSQLV7;\n",
                "\n",
                "WITH\n",
                "    EmployeeSales\n",
                "    AS\n",
                "    (\n",
                "        SELECT\n",
                "            o.EmployeeId,\n",
                "            COUNT(o.OrderId) AS TotalOrders\n",
                "        FROM\n",
                "            Sales.[Order] o\n",
                "        GROUP BY\n",
                "        o.EmployeeId\n",
                "    )\n",
                "\n",
                "SELECT\n",
                "    e.EmployeeFirstName,\n",
                "    e.EmployeeLastName,\n",
                "    e.EmployeeRegion,\n",
                "    es.TotalOrders\n",
                "FROM\n",
                "    HumanResources.Employee e\n",
                "    INNER JOIN\n",
                "    EmployeeSales es ON e.EmployeeId = es.EmployeeId\n",
                "WHERE\n",
                "    e.EmployeeId IN (SELECT EmployeeId\n",
                "FROM HumanResources.Employee\n",
                "WHERE HireDate > '2012-01-01')\n",
                "GROUP BY\n",
                "    e.EmployeeFirstName, e.EmployeeLastName, e.EmployeeRegion, es.TotalOrders\n",
                "ORDER BY\n",
                "    es.TotalOrders DESC\n",
                "FOR JSON PATH, ROOT('SalesEmployeeDetails');\n"
            ],
            "metadata": {
                "azdata_cell_guid": "538e5052-8878-4fc9-af01-3f7cef4e2d10",
                "language": "sql"
            },
            "outputs": [],
            "execution_count": null
        },
        {
            "cell_type": "markdown",
            "source": [
                "* * *\n",
                "\n",
                "**Difficulty:** Medium 2\n",
                "\n",
                "**Proposition:** Retrieve average pay rates per department, including the number of unique positions in each, ordered by average pay rate in descending order.\n",
                "\n",
                "**Table:** HumanResources.EmployeePayHistory, HumanResources.EmployeeDepartmentHistory, HumanResources.Department\n",
                "\n",
                "**Columns:** DepartmentName, AveragePayRate, and NumberOfUniquePositions from a combination of HumanResources.EmployeePayHistory, HumanResources.EmployeeDepartmentHistory, and HumanResources.Department tables.\n",
                "\n",
                "**Predicate:**\n",
                "\n",
                "```\n",
                "WHERE edh.EndDate IS NULL\n",
                "\n",
                "```\n",
                "\n",
                "This WHERE clause filters the EmployeeDepartmentHistory to only consider current department positions, i.e., those without an EndDate.\n",
                "\n",
                "```\n",
                "WHERE edh.EndDate IS NULL AND edh.DepartmentID = dps.DepartmentID\n",
                "\n",
                "```\n",
                "\n",
                "used within a subquery to match the DepartmentID from the EmployeeDepartmentHistory to the DepartmentID in the DepartmentPaySummary CTE, ensuring that the count of unique positions is accurate for each department."
            ],
            "metadata": {
                "azdata_cell_guid": "578165bc-959a-474c-8ac4-ce3aec30b763",
                "language": "sql"
            },
            "attachments": {}
        },
        {
            "cell_type": "code",
            "source": [
                "\n",
                "USE AdventureWorks2017;\n",
                "\n",
                "WITH\n",
                "    DepartmentPaySummary\n",
                "    AS\n",
                "    (\n",
                "        SELECT\n",
                "            edh.DepartmentID,\n",
                "            AVG(eph.Rate) AS AvgRate\n",
                "        FROM HumanResources.EmployeePayHistory eph\n",
                "            INNER JOIN HumanResources.EmployeeDepartmentHistory edh\n",
                "            ON eph.BusinessEntityID = edh.BusinessEntityID\n",
                "        WHERE edh.EndDate IS NULL\n",
                "        GROUP BY edh.DepartmentID\n",
                "    )\n",
                "\n",
                "SELECT\n",
                "    d.Name AS DepartmentName,\n",
                "    dps.AvgRate AS AveragePayRate,\n",
                "    (SELECT COUNT(DISTINCT edh.BusinessEntityID)\n",
                "    FROM HumanResources.EmployeeDepartmentHistory edh\n",
                "    WHERE edh.DepartmentID = dps.DepartmentID\n",
                "        AND edh.EndDate IS NULL) AS NumberOfUniquePositions\n",
                "FROM DepartmentPaySummary dps\n",
                "    INNER JOIN HumanResources.Department d\n",
                "    ON dps.DepartmentID = d.DepartmentID\n",
                "ORDER BY AveragePayRate DESC;\n",
                "\n",
                "\n",
                "\n",
                "--JSON\n",
                "USE AdventureWorks2017;\n",
                "\n",
                "WITH\n",
                "    DepartmentPaySummary\n",
                "    AS\n",
                "    (\n",
                "        SELECT\n",
                "            edh.DepartmentID,\n",
                "            AVG(eph.Rate) AS AvgRate\n",
                "        FROM HumanResources.EmployeePayHistory eph\n",
                "            INNER JOIN HumanResources.EmployeeDepartmentHistory edh\n",
                "            ON eph.BusinessEntityID = edh.BusinessEntityID\n",
                "        WHERE edh.EndDate IS NULL\n",
                "        GROUP BY edh.DepartmentID\n",
                "    )\n",
                "\n",
                "SELECT\n",
                "    d.Name AS DepartmentName,\n",
                "    dps.AvgRate AS AveragePayRate,\n",
                "    (SELECT COUNT(DISTINCT edh.BusinessEntityID)\n",
                "    FROM HumanResources.EmployeeDepartmentHistory edh\n",
                "    WHERE edh.DepartmentID = dps.DepartmentID\n",
                "        AND edh.EndDate IS NULL) AS NumberOfUniquePositions\n",
                "FROM DepartmentPaySummary dps\n",
                "    INNER JOIN HumanResources.Department d\n",
                "    ON dps.DepartmentID = d.DepartmentID\n",
                "ORDER BY AveragePayRate DESC\n",
                "FOR JSON PATH, ROOT('AveragePayRatesPerDepartment');\n",
                "\n"
            ],
            "metadata": {
                "azdata_cell_guid": "79d025ee-e5dc-443f-abd4-36da76407147",
                "language": "sql"
            },
            "outputs": [],
            "execution_count": null
        },
        {
            "cell_type": "markdown",
            "source": [
                "* * *\n",
                "\n",
                "**Difficulty:** Medium 3\n",
                "\n",
                "**Proposition:** <span style=\"font-family: -apple-system, BlinkMacSystemFont, sans-serif; color: var(--vscode-foreground);\"> Write a query that calculates and retrieves the total sales by each employee in a specific fiscal year, ordered by the total sales in descending order.</span>\n",
                "\n",
                "**Table:** dbo.FactResellerSales, dbo.DimEmployee, dbo.DimSalesTerritory\n",
                "\n",
                "**Columns:** EmployeeKey, FirstName, LastName, SalesTerritoryRegion, and the calculated TotalSales from the dbo.FactResellerSales table.\n",
                "\n",
                "**Predicate:**\n",
                "\n",
                "```\n",
                "WHERE frs.OrderDateKey IN (SELECT DateKey FROM dbo.DimDate WHERE FiscalYear = 2013)\n",
                "\n",
                "```\n",
                "\n",
                "This WHERE clause filters the dbo.FactResellerSales table to only return rows where the OrderDateKey matches any DateKey from the dbo.DimDate table that falls in the fiscal year 2013."
            ],
            "metadata": {
                "azdata_cell_guid": "055d1637-a712-408d-88ad-a92e00a64707",
                "language": "sql"
            },
            "attachments": {}
        },
        {
            "cell_type": "code",
            "source": [
                "USE AdventureWorksDW2017;\n",
                "WITH\n",
                "    EmployeeSales\n",
                "    AS\n",
                "    (\n",
                "        SELECT\n",
                "            e.EmployeeKey,\n",
                "            e.FirstName,\n",
                "            e.LastName,\n",
                "            st.SalesTerritoryRegion,\n",
                "            SUM(frs.SalesAmount) AS TotalSales\n",
                "        FROM\n",
                "            dbo.FactResellerSales frs\n",
                "            INNER JOIN\n",
                "            dbo.DimEmployee e ON frs.EmployeeKey = e.EmployeeKey\n",
                "            INNER JOIN\n",
                "            dbo.DimSalesTerritory st ON e.SalesTerritoryKey = st.SalesTerritoryKey\n",
                "        WHERE\n",
                "        frs.OrderDateKey IN (SELECT DateKey\n",
                "        FROM dbo.DimDate\n",
                "        WHERE FiscalYear = 2013)\n",
                "        GROUP BY\n",
                "        e.EmployeeKey, e.FirstName, e.LastName, st.SalesTerritoryRegion\n",
                "    )\n",
                "\n",
                "SELECT\n",
                "    es.FirstName,\n",
                "    es.LastName,\n",
                "    es.SalesTerritoryRegion,\n",
                "    SUM(es.TotalSales) AS TotalSalesByEmployee\n",
                "FROM\n",
                "    EmployeeSales es\n",
                "GROUP BY\n",
                "    es.FirstName, es.LastName, es.SalesTerritoryRegion\n",
                "ORDER BY\n",
                "    TotalSalesByEmployee DESC;\n",
                "\n",
                "\n",
                "\n",
                "--JSON\n",
                "USE AdventureWorksDW2017;\n",
                "WITH\n",
                "    EmployeeSales\n",
                "    AS\n",
                "    (\n",
                "        SELECT\n",
                "            e.EmployeeKey,\n",
                "            e.FirstName,\n",
                "            e.LastName,\n",
                "            st.SalesTerritoryRegion,\n",
                "            SUM(frs.SalesAmount) AS TotalSales\n",
                "        FROM\n",
                "            dbo.FactResellerSales frs\n",
                "            INNER JOIN\n",
                "            dbo.DimEmployee e ON frs.EmployeeKey = e.EmployeeKey\n",
                "            INNER JOIN\n",
                "            dbo.DimSalesTerritory st ON e.SalesTerritoryKey = st.SalesTerritoryKey\n",
                "        WHERE\n",
                "        frs.OrderDateKey IN (SELECT DateKey\n",
                "        FROM dbo.DimDate\n",
                "        WHERE FiscalYear = 2013)\n",
                "        GROUP BY\n",
                "        e.EmployeeKey, e.FirstName, e.LastName, st.SalesTerritoryRegion\n",
                "    )\n",
                "\n",
                "SELECT\n",
                "    es.FirstName,\n",
                "    es.LastName,\n",
                "    es.SalesTerritoryRegion,\n",
                "    SUM(es.TotalSales) AS TotalSalesByEmployee\n",
                "FROM\n",
                "    EmployeeSales es\n",
                "GROUP BY\n",
                "    es.FirstName, es.LastName, es.SalesTerritoryRegion\n",
                "ORDER BY\n",
                "    TotalSalesByEmployee DESC\n",
                "FOR JSON PATH, ROOT('TotalSalesEachEmployee');\n",
                "\n"
            ],
            "metadata": {
                "azdata_cell_guid": "776f71a0-c58f-44d6-b76e-4683c3860ebe",
                "language": "sql"
            },
            "outputs": [],
            "execution_count": null
        },
        {
            "cell_type": "markdown",
            "source": [
                "* * *\n",
                "\n",
                "**Difficulty:** Medium 4\n",
                "\n",
                "**Proposition:** Retrieve detailed summary of purchase orders, including the latest receipt date for each order.\n",
                "\n",
                "**Table:** Purchasing.PurchaseOrderLines, Purchasing.PurchaseOrders\n",
                "\n",
                "**Columns:** PurchaseOrderID, SupplierID, OrderDate, TotalItemsOrdered, TotalExpectedCost, and LatestReceiptDate from the Purchasing.PurchaseOrderLines and Purchasing.PurchaseOrders tables.\n",
                "\n",
                "**Predicate:**\n",
                "\n",
                "```\n",
                "WHERE pol2.PurchaseOrderID = pol.PurchaseOrderID\n",
                "\n",
                "```\n",
                "\n",
                "This WHERE clause is used in a subquery to ensure that the MAX function applies to the LastReceiptDate of each specific PurchaseOrderID in the Purchasing.PurchaseOrderLines table. It filters the rows to only return the latest LastReceiptDate for each PurchaseOrderID."
            ],
            "metadata": {
                "azdata_cell_guid": "5ddd3fbc-671b-4968-ac1d-e85b55508450",
                "language": "sql"
            },
            "attachments": {}
        },
        {
            "cell_type": "code",
            "source": [
                "\n",
                "USE WideWorldimporters;\n",
                "GO\n",
                "WITH\n",
                "    PurchaseOrderSummary\n",
                "    AS\n",
                "    (\n",
                "        SELECT\n",
                "            pol.PurchaseOrderID,\n",
                "            COUNT(pol.PurchaseOrderLineID) AS TotalItemsOrdered,\n",
                "            SUM(pol.OrderedOuters * pol.ExpectedUnitPricePerOuter) AS TotalExpectedCost,\n",
                "            (SELECT MAX(pol2.LastReceiptDate)\n",
                "            FROM Purchasing.PurchaseOrderLines pol2\n",
                "            WHERE pol2.PurchaseOrderID = pol.PurchaseOrderID) AS LatestReceiptDate\n",
                "        FROM\n",
                "            Purchasing.PurchaseOrderLines pol\n",
                "        GROUP BY\n",
                "        pol.PurchaseOrderID\n",
                "    )\n",
                "SELECT\n",
                "    pos.PurchaseOrderID,\n",
                "    po.SupplierID,\n",
                "    po.OrderDate,\n",
                "    pos.TotalItemsOrdered,\n",
                "    pos.TotalExpectedCost,\n",
                "    pos.LatestReceiptDate\n",
                "FROM\n",
                "    PurchaseOrderSummary pos\n",
                "    INNER JOIN\n",
                "    Purchasing.PurchaseOrders po ON pos.PurchaseOrderID = po.PurchaseOrderID\n",
                "ORDER BY\n",
                "    po.OrderDate DESC;\n",
                "\n",
                "\n",
                "--JSON\n",
                "USE WideWorldimporters;\n",
                "GO\n",
                "WITH\n",
                "    PurchaseOrderSummary\n",
                "    AS\n",
                "    (\n",
                "        SELECT\n",
                "            pol.PurchaseOrderID,\n",
                "            COUNT(pol.PurchaseOrderLineID) AS TotalItemsOrdered,\n",
                "            SUM(pol.OrderedOuters * pol.ExpectedUnitPricePerOuter) AS TotalExpectedCost,\n",
                "            (SELECT MAX(pol2.LastReceiptDate)\n",
                "            FROM Purchasing.PurchaseOrderLines pol2\n",
                "            WHERE pol2.PurchaseOrderID = pol.PurchaseOrderID) AS LatestReceiptDate\n",
                "        FROM\n",
                "            Purchasing.PurchaseOrderLines pol\n",
                "        GROUP BY\n",
                "        pol.PurchaseOrderID\n",
                "    )\n",
                "SELECT\n",
                "    pos.PurchaseOrderID,\n",
                "    po.SupplierID,\n",
                "    po.OrderDate,\n",
                "    pos.TotalItemsOrdered,\n",
                "    pos.TotalExpectedCost,\n",
                "    pos.LatestReceiptDate\n",
                "FROM\n",
                "    PurchaseOrderSummary pos\n",
                "    INNER JOIN\n",
                "    Purchasing.PurchaseOrders po ON pos.PurchaseOrderID = po.PurchaseOrderID\n",
                "ORDER BY\n",
                "    po.OrderDate DESC\n",
                "FOR JSON PATH, ROOT('DetailedPurchaseOrders');\n",
                "\n",
                "\n"
            ],
            "metadata": {
                "azdata_cell_guid": "aa9f50f5-69e8-455a-a8a2-00a8c1012c7e",
                "language": "sql"
            },
            "outputs": [],
            "execution_count": null
        },
        {
            "cell_type": "markdown",
            "source": [
                "* * *\n",
                "\n",
                "**Difficulty:** Medium 5\n",
                "\n",
                "Proposition: Retrieve the total sales for each product sold in a specific sales territory during the year 2014, ordered by total sales in descending order.\n",
                "\n",
                "Table: dbo.FactInternetSales, dbo.DimProduct\n",
                "\n",
                "Columns: EnglishProductName from dbo.DimProduct and TotalSales from a derived table ProductSales.\n",
                "\n",
                "Predicate:\n",
                "\n",
                "```\n",
                "WHERE f.OrderDateKey IN (SELECT DateKey FROM dbo.DimDate WHERE YEAR(FullDateAlternateKey) = 2014)\n",
                "AND f.SalesTerritoryKey = 1\n",
                "\n",
                "```\n",
                "\n",
                "This WHERE clause filters the dbo.FactInternetSales table to only return rows where the OrderDateKey matches any DateKey from the dbo.DimDate table for the year 2014 and where the SalesTerritoryKey equals 1."
            ],
            "metadata": {
                "azdata_cell_guid": "5b48827a-e169-4987-abf7-f435bae77c9e",
                "language": "sql"
            },
            "attachments": {}
        },
        {
            "cell_type": "code",
            "source": [
                "USE AdventureWorksDW2017;\n",
                "GO\n",
                "\n",
                "WITH\n",
                "    ProductSales\n",
                "    AS\n",
                "    (\n",
                "        SELECT\n",
                "            f.ProductKey,\n",
                "            SUM(f.SalesAmount) AS TotalSales\n",
                "        FROM\n",
                "            dbo.FactInternetSales f\n",
                "        WHERE\n",
                "        f.OrderDateKey IN (SELECT DateKey\n",
                "            FROM dbo.DimDate\n",
                "            WHERE YEAR(FullDateAlternateKey) = 2014)\n",
                "            AND f.SalesTerritoryKey = 1\n",
                "        GROUP BY\n",
                "        f.ProductKey\n",
                "    )\n",
                "SELECT\n",
                "    p.EnglishProductName,\n",
                "    ps.TotalSales\n",
                "FROM\n",
                "    ProductSales ps\n",
                "    INNER JOIN\n",
                "    dbo.DimProduct p ON ps.ProductKey = p.ProductKey\n",
                "ORDER BY\n",
                "    ps.TotalSales DESC;\n",
                "\n",
                "\n",
                "--JSON\n",
                "USE AdventureWorksDW2017;\n",
                "GO\n",
                "\n",
                "WITH\n",
                "    ProductSales\n",
                "    AS\n",
                "    (\n",
                "        SELECT\n",
                "            f.ProductKey,\n",
                "            SUM(f.SalesAmount) AS TotalSales\n",
                "        FROM\n",
                "            dbo.FactInternetSales f\n",
                "        WHERE\n",
                "        f.OrderDateKey IN (SELECT DateKey\n",
                "            FROM dbo.DimDate\n",
                "            WHERE YEAR(FullDateAlternateKey) = 2014)\n",
                "            AND f.SalesTerritoryKey = 1\n",
                "        GROUP BY\n",
                "        f.ProductKey\n",
                "    )\n",
                "SELECT\n",
                "    p.EnglishProductName,\n",
                "    ps.TotalSales\n",
                "FROM\n",
                "    ProductSales ps\n",
                "    INNER JOIN\n",
                "    dbo.DimProduct p ON ps.ProductKey = p.ProductKey\n",
                "ORDER BY\n",
                "    ps.TotalSales DESC\n",
                "FOR JSON PATH, ROOT('TotalSalesPerProduct');\n",
                "\n",
                "    ---\n",
                "    SELECT SalesTerritoryKey\n",
                "    FROM dbo.DimSalesTerritory\n",
                "\n"
            ],
            "metadata": {
                "azdata_cell_guid": "56213500-70f4-41eb-8cb0-17c05cd190c9",
                "language": "sql"
            },
            "outputs": [],
            "execution_count": null
        },
        {
            "cell_type": "markdown",
            "source": [
                "* * *\n",
                "\n",
                "**Difficulty:** Medium 6\n",
                "\n",
                "**Proposition:** Aggregate and report on the total quantities on hand for each purchase order, sorted by these totals in descending order.\n",
                "\n",
                "**Table:** Purchasing.PurchaseOrders, Purchasing.PurchaseOrderLines, Warehouse.StockItemHoldings\n",
                "\n",
                "**Columns:** PurchaseOrderID, OrderDate from Purchasing.PurchaseOrders, StockItemID, QuantityOnHand from Warehouse.StockItemHoldings.\n",
                "\n",
                "**Predicate:**\n",
                "\n",
                "```\n",
                "(SELECT SUM(ss.TotalQuantityOnHand)\n",
                " FROM StockSummary ss\n",
                " INNER JOIN Purchasing.PurchaseOrderLines pol ON ss.StockItemID = pol.StockItemID\n",
                " WHERE pol.PurchaseOrderID = po.PurchaseOrderID) AS TotalQuantityOnHandForOrder\n",
                "\n",
                "```\n",
                "\n",
                "This subquery calculates the total quantity on hand for the items included in each purchase order by joining the StockSummary CTE (which aggregates QuantityOnHand by StockItemID) with the PurchaseOrderLines table. It filters based on the PurchaseOrderID to ensure that the quantities on hand are accurately summed for items relevant to each purchase order."
            ],
            "metadata": {
                "azdata_cell_guid": "dab18c3c-393d-418c-8aaa-1caa647444f7",
                "language": "sql"
            },
            "attachments": {}
        },
        {
            "cell_type": "code",
            "source": [
                "USE WideWorldimporters;\n",
                "GO\n",
                "WITH\n",
                "    StockSummary\n",
                "    AS\n",
                "    (\n",
                "        SELECT\n",
                "            StockItemID,\n",
                "            SUM(QuantityOnHand) AS TotalQuantityOnHand\n",
                "        FROM\n",
                "            Warehouse.StockItemHoldings\n",
                "        GROUP BY\n",
                "        StockItemID\n",
                "    )\n",
                "SELECT\n",
                "    po.PurchaseOrderID,\n",
                "    po.OrderDate,\n",
                "    (SELECT SUM(ss.TotalQuantityOnHand)\n",
                "    FROM StockSummary ss\n",
                "        INNER JOIN Purchasing.PurchaseOrderLines pol ON ss.StockItemID = pol.StockItemID\n",
                "    WHERE pol.PurchaseOrderID = po.PurchaseOrderID) AS TotalQuantityOnHandForOrder\n",
                "FROM\n",
                "    Purchasing.PurchaseOrders po\n",
                "GROUP BY\n",
                "    po.PurchaseOrderID,\n",
                "    po.OrderDate\n",
                "ORDER BY\n",
                "    TotalQuantityOnHandForOrder DESC;\n",
                "\n",
                "\n",
                "--JSON\n",
                "USE WideWorldimporters;\n",
                "GO\n",
                "WITH\n",
                "    StockSummary\n",
                "    AS\n",
                "    (\n",
                "        SELECT\n",
                "            StockItemID,\n",
                "            SUM(QuantityOnHand) AS TotalQuantityOnHand\n",
                "        FROM\n",
                "            Warehouse.StockItemHoldings\n",
                "        GROUP BY\n",
                "        StockItemID\n",
                "    )\n",
                "SELECT\n",
                "    po.PurchaseOrderID,\n",
                "    po.OrderDate,\n",
                "    (SELECT SUM(ss.TotalQuantityOnHand)\n",
                "    FROM StockSummary ss\n",
                "        INNER JOIN Purchasing.PurchaseOrderLines pol ON ss.StockItemID = pol.StockItemID\n",
                "    WHERE pol.PurchaseOrderID = po.PurchaseOrderID) AS TotalQuantityOnHandForOrder\n",
                "FROM\n",
                "    Purchasing.PurchaseOrders po\n",
                "GROUP BY\n",
                "    po.PurchaseOrderID,\n",
                "    po.OrderDate\n",
                "ORDER BY\n",
                "    TotalQuantityOnHandForOrder DESC\n",
                "FOR JSON PATH, ROOT('TotalNumberQuantities');\n",
                "\n"
            ],
            "metadata": {
                "azdata_cell_guid": "b59873d5-8aea-40d3-8ca3-dc7549f8d64b",
                "language": "sql"
            },
            "outputs": [],
            "execution_count": null
        },
        {
            "cell_type": "markdown",
            "source": [
                "* * *\n",
                "\n",
                "**Difficulty:** Medium 7\n",
                "\n",
                "**Proposition:** Analyze sales performance of stock items, focusing on total quantity sold and the most recent sale amount for each item.\n",
                "\n",
                "**Table:** Fact.Sale, Dimension.\\[Stock Item\\]\n",
                "\n",
                "**Columns:** \\[Stock Item\\] from Dimension.\\[Stock Item\\], TotalQuantitySold from an aggregated calculation, and MostRecentSaleAmount as a derived value from Fact.Sale.\n",
                "\n",
                "**Predicate:**\n",
                "\n",
                "```\n",
                "WHERE [Stock Item Key] = SI.[Stock Item Key]\n",
                "\n",
                "```\n",
                "\n",
                "This WHERE clause is used within a subquery to ensure that the most recent sale amount is accurately fetched for the corresponding stock item by matching the \\[Stock Item Key\\] between the Fact.Sale table and the Dimension.\\[Stock Item\\] table."
            ],
            "metadata": {
                "azdata_cell_guid": "4f9deaf0-73be-4158-9a9a-7308654f3d8a",
                "language": "sql"
            },
            "attachments": {}
        },
        {
            "cell_type": "code",
            "source": [
                "USE WideWorldImportersDW;\n",
                "GO\n",
                "\n",
                "WITH\n",
                "    StockItemSales\n",
                "    AS\n",
                "    (\n",
                "        SELECT\n",
                "            [Stock Item Key],\n",
                "            SUM(Quantity) AS TotalQuantitySold\n",
                "        FROM\n",
                "            Fact.Sale\n",
                "        GROUP BY\n",
                "        [Stock Item Key]\n",
                "    )\n",
                "SELECT\n",
                "    SI.[Stock Item],\n",
                "    SIS.TotalQuantitySold,\n",
                "    (\n",
                "        SELECT TOP 1\n",
                "        [Total Including Tax]\n",
                "    FROM Fact.Sale\n",
                "    WHERE [Stock Item Key] = SI.[Stock Item Key]\n",
                "    ORDER BY [Invoice Date Key] DESC\n",
                "    ) AS MostRecentSaleAmount\n",
                "FROM\n",
                "    Dimension.[Stock Item] SI\n",
                "    INNER JOIN StockItemSales SIS ON SI.[Stock Item Key] = SIS.[Stock Item Key]\n",
                "ORDER BY\n",
                "    SIS.TotalQuantitySold DESC;\n",
                "\n",
                "\n",
                "\n",
                "--JSON\n",
                "USE WideWorldImportersDW;\n",
                "GO\n",
                "\n",
                "WITH\n",
                "    StockItemSales\n",
                "    AS\n",
                "    (\n",
                "        SELECT\n",
                "            [Stock Item Key],\n",
                "            SUM(Quantity) AS TotalQuantitySold\n",
                "        FROM\n",
                "            Fact.Sale\n",
                "        GROUP BY\n",
                "        [Stock Item Key]\n",
                "    )\n",
                "SELECT\n",
                "    SI.[Stock Item],\n",
                "    SIS.TotalQuantitySold,\n",
                "    (\n",
                "        SELECT TOP 1\n",
                "        [Total Including Tax]\n",
                "    FROM Fact.Sale\n",
                "    WHERE [Stock Item Key] = SI.[Stock Item Key]\n",
                "    ORDER BY [Invoice Date Key] DESC\n",
                "    ) AS MostRecentSaleAmount\n",
                "FROM\n",
                "    Dimension.[Stock Item] SI\n",
                "    INNER JOIN StockItemSales SIS ON SI.[Stock Item Key] = SIS.[Stock Item Key]\n",
                "ORDER BY\n",
                "    SIS.TotalQuantitySold DESC\n",
                "\n",
                "FOR JSON PATH, ROOT('SalesPerformanceOfStockItems');\n",
                "\n",
                "\n"
            ],
            "metadata": {
                "azdata_cell_guid": "d6848de8-2e24-4063-b915-b5626b94ecd3",
                "language": "sql"
            },
            "outputs": [],
            "execution_count": null
        },
        {
            "cell_type": "markdown",
            "source": [
                "* * *\n",
                "\n",
                "**Difficulty:** Medium 8\n",
                "\n",
                "**Proposition:** Analyze the relationship between orders and movements by supplier and package, aggregating quantities and movement counts.\n",
                "\n",
                "**Table:** Fact.\\[Order\\], Fact.Movement\n",
                "\n",
                "**Columns:** Description, Package, OrderQuantity from Fact.\\[Order\\] table, and Supplier Key from both Fact.\\[Order\\] and Fact.Movement tables. TotalMovements is a calculated column representing the total number of movements per supplier matching the order quantity.\n",
                "\n",
                "**Predicate:**\n",
                "\n",
                "```\n",
                "WHERE mv.[Supplier Key] = m.[Supplier Key] AND mv.Quantity = o.Quantity\n",
                "\n",
                "```\n",
                "\n",
                "This WHERE clause is used within a subquery to ensure that the count of movements is specific to each supplier and matches the order quantity. It filters the Fact.Movement table to only include rows where the Supplier Key matches and the movement quantity is equal to the order quantity, thus accurately reflecting the total movements associated with the supplier for each order quantity."
            ],
            "metadata": {
                "azdata_cell_guid": "84cf6f1c-d884-46ef-8d48-bfacdee0c381",
                "language": "sql"
            },
            "attachments": {}
        },
        {
            "cell_type": "code",
            "source": [
                "USE WideWorldImportersDW;\n",
                "\n",
                "WITH\n",
                "    OrderSummary\n",
                "    AS\n",
                "    (\n",
                "        SELECT\n",
                "            o.[Description],\n",
                "            o.Package,\n",
                "            o.Quantity AS OrderQuantity,\n",
                "            m.[Supplier Key],\n",
                "            (SELECT COUNT(*)\n",
                "            FROM Fact.Movement mv\n",
                "            WHERE mv.[Supplier Key] = m.[Supplier Key] AND mv.Quantity = o.Quantity) AS TotalMovements\n",
                "        FROM\n",
                "            Fact.[Order] o\n",
                "            LEFT JOIN Fact.Movement m ON o.Quantity = m.Quantity\n",
                "    )\n",
                "\n",
                "SELECT\n",
                "    os.Package,\n",
                "    os.[Supplier Key],\n",
                "    COUNT(*) AS TotalOrders,\n",
                "    SUM(os.OrderQuantity) AS TotalQuantityOrdered,\n",
                "    SUM(os.TotalMovements) AS TotalMovements\n",
                "FROM\n",
                "    OrderSummary os\n",
                "GROUP BY\n",
                "    os.Package,\n",
                "    os.[Supplier Key]\n",
                "ORDER BY\n",
                "    os.Package,\n",
                "    os.[Supplier Key];\n",
                "\n",
                "\n",
                "--JSON\n",
                "USE WideWorldImportersDW;\n",
                "\n",
                "WITH\n",
                "    OrderSummary\n",
                "    AS\n",
                "    (\n",
                "        SELECT\n",
                "            o.[Description],\n",
                "            o.Package,\n",
                "            o.Quantity AS OrderQuantity,\n",
                "            m.[Supplier Key],\n",
                "            (SELECT COUNT(*)\n",
                "            FROM Fact.Movement mv\n",
                "            WHERE mv.[Supplier Key] = m.[Supplier Key] AND mv.Quantity = o.Quantity) AS TotalMovements\n",
                "        FROM\n",
                "            Fact.[Order] o\n",
                "            LEFT JOIN Fact.Movement m ON o.Quantity = m.Quantity\n",
                "    )\n",
                "\n",
                "SELECT\n",
                "    os.Package,\n",
                "    os.[Supplier Key],\n",
                "    COUNT(*) AS TotalOrders,\n",
                "    SUM(os.OrderQuantity) AS TotalQuantityOrdered,\n",
                "    SUM(os.TotalMovements) AS TotalMovements\n",
                "FROM\n",
                "    OrderSummary os\n",
                "GROUP BY\n",
                "    os.Package,\n",
                "    os.[Supplier Key]\n",
                "ORDER BY\n",
                "    os.Package,\n",
                "    os.[Supplier Key]\n",
                "\n",
                "FOR JSON PATH, ROOT('RelationshipBetweenOrders');\n",
                "\n",
                "\n"
            ],
            "metadata": {
                "azdata_cell_guid": "352fca1b-81c7-4e61-b918-755938c9d218",
                "language": "sql",
                "tags": []
            },
            "outputs": [],
            "execution_count": null
        },
        {
            "cell_type": "markdown",
            "source": [
                "# REST OF MY COMPLEX QUERIES"
            ],
            "metadata": {
                "azdata_cell_guid": "9038fc92-0b43-44e2-af69-33b3a3121125",
                "language": "sql"
            },
            "attachments": {}
        },
        {
            "cell_type": "markdown",
            "source": [
                "* * *\n",
                "\n",
                "**Difficulty:** Complex 1\n",
                "\n",
                "**Proposition:** Adjust total sales for tax based on the country using a user-defined function for tax adjustment, ensuring that sales data is accurately matched with the correct country information.\n",
                "\n",
                "**Function:** dbo.AdjustSalesForTax\n",
                "\n",
                "**Parameters:** @SalePrice as DECIMAL(18, 2) (the total sale price before tax), @CountryISO2 as CHAR(2) (the 2-letter ISO code for the country).\n",
                "\n",
                "**Returns:** The adjusted sale price as DECIMAL(18, 2), incorporating the tax rate based on the country specified.\n",
                "\n",
                "**Tables and Columns:**\n",
                "\n",
                "Data.Sales: TotalSalePrice, CustomerID\n",
                "\n",
                "Data.Customer: CustomerID, Country\n",
                "\n",
                "Data.Country: CountryISO2, CountryISO3, CountryName\n",
                "\n",
                "**Predicate:**\n",
                "\n",
                "```\n",
                "IF @CountryISO2 = 'USA'\n",
                "    SET @TaxRate = 1.20 -- 20% tax\n",
                "ELSE\n",
                "    SET @TaxRate = 1.15 -- 15% tax\n",
                "\n",
                "```\n",
                "\n",
                "This IF statement adjusts the tax rate depending on whether the country is the USA or another country, allowing for different tax rates to be applied to the sale price.\n",
                "\n",
                "```\n",
                "WHERE c.Country = cn.CountryISO2 \n",
                "\n",
                "```\n",
                "\n",
                "This WHERE clause ensures sales data is matched with the correct country by comparing the customer's country in Data.Customer with the country ISO code in Data.Country. It's essential for accurately applying tax adjustments based on specific country tax rates."
            ],
            "metadata": {
                "azdata_cell_guid": "90c8a142-737a-4395-9ddb-0aff9cd423cc",
                "language": "sql"
            },
            "attachments": {}
        },
        {
            "cell_type": "code",
            "source": [
                "USE PrestigeCars ;\n",
                "GO\n",
                "CREATE OR ALTER FUNCTION dbo.AdjustSalesForTax (@SalePrice DECIMAL(18, 2), @CountryISO2 CHAR(2))\n",
                "RETURNS DECIMAL(18, 2)\n",
                "AS\n",
                "BEGIN\n",
                "    DECLARE @TaxRate DECIMAL(5, 2)\n",
                "    IF @CountryISO2 = 'USA'\n",
                "        SET @TaxRate = 1.20 -- 20% tax\n",
                "    ELSE\n",
                "        SET @TaxRate = 1.15\n",
                "    -- 15% tax\n",
                "\n",
                "    RETURN @SalePrice * @TaxRate\n",
                "END;\n",
                "\n",
                "GO\n",
                "WITH\n",
                "    CountrySalesAdjusted\n",
                "    AS\n",
                "    (\n",
                "        SELECT\n",
                "            c.Country,\n",
                "            dbo.AdjustSalesForTax(SUM(s.TotalSalePrice), cn.CountryISO2) AS AdjustedTotalSales\n",
                "        FROM Data.Sales s\n",
                "            INNER JOIN Data.Customer c ON s.CustomerID = c.CustomerID\n",
                "            INNER JOIN Data.Country cn ON c.Country = cn.CountryISO2\n",
                "        GROUP BY c.Country, cn.CountryISO2\n",
                "    )\n",
                "\n",
                "SELECT\n",
                "    cn.CountryName,\n",
                "    cn.CountryISO3,\n",
                "    CSA.AdjustedTotalSales,\n",
                "    (SELECT AVG(TotalSalePrice)\n",
                "    FROM Data.Sales s\n",
                "        INNER JOIN Data.Customer c ON s.CustomerID = c.CustomerID\n",
                "    WHERE c.Country = cn.CountryISO2) AS AvgSalePerCustomer\n",
                "FROM CountrySalesAdjusted CSA\n",
                "    INNER JOIN Data.Country cn ON CSA.Country = cn.CountryISO2\n",
                "ORDER BY CSA.AdjustedTotalSales DESC;\n",
                "\n",
                "\n",
                "\n",
                "--JSON\n",
                "USE PrestigeCars ;\n",
                "GO\n",
                "CREATE OR ALTER FUNCTION dbo.AdjustSalesForTax (@SalePrice DECIMAL(18, 2), @CountryISO2 CHAR(2))\n",
                "RETURNS DECIMAL(18, 2)\n",
                "AS\n",
                "BEGIN\n",
                "    DECLARE @TaxRate DECIMAL(5, 2)\n",
                "    IF @CountryISO2 = 'USA'\n",
                "        SET @TaxRate = 1.20 -- 20% tax\n",
                "    ELSE\n",
                "        SET @TaxRate = 1.15\n",
                "    -- 15% tax\n",
                "\n",
                "    RETURN @SalePrice * @TaxRate\n",
                "END;\n",
                "\n",
                "GO\n",
                "WITH\n",
                "    CountrySalesAdjusted\n",
                "    AS\n",
                "    (\n",
                "        SELECT\n",
                "            c.Country,\n",
                "            dbo.AdjustSalesForTax(SUM(s.TotalSalePrice), cn.CountryISO2) AS AdjustedTotalSales\n",
                "        FROM Data.Sales s\n",
                "            INNER JOIN Data.Customer c ON s.CustomerID = c.CustomerID\n",
                "            INNER JOIN Data.Country cn ON c.Country = cn.CountryISO2\n",
                "        GROUP BY c.Country, cn.CountryISO2\n",
                "    )\n",
                "\n",
                "SELECT\n",
                "    cn.CountryName,\n",
                "    cn.CountryISO3,\n",
                "    CSA.AdjustedTotalSales,\n",
                "    (SELECT AVG(TotalSalePrice)\n",
                "    FROM Data.Sales s\n",
                "        INNER JOIN Data.Customer c ON s.CustomerID = c.CustomerID\n",
                "    WHERE c.Country = cn.CountryISO2) AS AvgSalePerCustomer\n",
                "FROM CountrySalesAdjusted CSA\n",
                "    INNER JOIN Data.Country cn ON CSA.Country = cn.CountryISO2\n",
                "ORDER BY CSA.AdjustedTotalSales DESC\n",
                "FOR JSON PATH, ROOT('CountrySalesTax');\n",
                "\n",
                "\n",
                "\n"
            ],
            "metadata": {
                "azdata_cell_guid": "21443213-efc7-4f4b-8714-7633375f7134",
                "language": "sql"
            },
            "outputs": [],
            "execution_count": null
        },
        {
            "cell_type": "markdown",
            "source": [
                "* * *\n",
                "\n",
                "**Difficulty:** Complex 2\n",
                "\n",
                "**Proposition:** Analyze sales and customer ratings across product categories, utilizing a user-defined function for average rating calculation.\n",
                "\n",
                "**Function:** CalculateAverageRating\n",
                "\n",
                "**Parameters:**\n",
                "\n",
                "@ProductID as INT (identifies the product). Returns: Average rating as FLOAT, calculated from customer reviews for the specified product.\n",
                "\n",
                "**Tables and Columns:**\n",
                "\n",
                "Production.Product: ProductID, Name, ProductSubcategoryID Sales.SalesOrderDetail: ProductID, OrderQty, UnitPrice Production.ProductReview: ProductID, Rating Production.ProductSubcategory: ProductSubcategoryID, ProductCategoryID Production.ProductCategory: ProductCategoryID, Name\n",
                "\n",
                "**Predicate:**\n",
                "\n",
                "```\n",
                "WHERE ProductID = @ProductID\n",
                "\n",
                "```\n",
                "\n",
                "This predicate is used within the CalculateAverageRating function to filter the Production.ProductReview table for reviews of the specified product.\n",
                "\n",
                "```\n",
                "WHERE ProductCategoryID = PC.ProductCategoryID\n",
                "\n",
                "```\n",
                "\n",
                "This predicate is added to the subquery within the main query to ensure that the count of distinct products is limited to those within the specific product category being analyzed."
            ],
            "metadata": {
                "azdata_cell_guid": "996560c0-2143-4bf9-b1d4-b706a505b201",
                "language": "sql"
            },
            "attachments": {}
        },
        {
            "cell_type": "code",
            "source": [
                "USE AdventureWorks2017;\n",
                "GO\n",
                "CREATE OR ALTER FUNCTION CalculateAverageRating(@ProductID INT)\n",
                "RETURNS FLOAT\n",
                "AS\n",
                "BEGIN\n",
                "    RETURN (SELECT AVG(CAST(Rating AS FLOAT))\n",
                "    FROM Production.ProductReview\n",
                "    WHERE ProductID = @ProductID)\n",
                "END\n",
                "\n",
                "GO\n",
                "\n",
                "WITH\n",
                "    SalesAndRatings\n",
                "    AS\n",
                "    (\n",
                "        SELECT\n",
                "            P.ProductID,\n",
                "            P.Name,\n",
                "            PSC.ProductSubcategoryID,\n",
                "            PSC.ProductCategoryID,\n",
                "            SUM(SOD.OrderQty * SOD.UnitPrice) AS TotalSales,\n",
                "            dbo.CalculateAverageRating(P.ProductID) AS AverageRating\n",
                "        FROM Sales.SalesOrderDetail SOD\n",
                "            INNER JOIN Production.Product P ON SOD.ProductID = P.ProductID\n",
                "            LEFT JOIN Production.ProductSubcategory PSC ON P.ProductSubcategoryID = PSC.ProductSubcategoryID\n",
                "        GROUP BY P.ProductID, P.Name, PSC.ProductSubcategoryID, PSC.ProductCategoryID\n",
                "    )\n",
                "\n",
                "SELECT\n",
                "    PC.Name AS CategoryName,\n",
                "    AVG(SAR.TotalSales) AS AvgCategorySales,\n",
                "    AVG(SAR.AverageRating) AS AvgCategoryRating,\n",
                "    (SELECT COUNT(DISTINCT ProductID)\n",
                "    FROM Production.Product P\n",
                "    WHERE P.ProductSubcategoryID IN (\n",
                "         SELECT ProductSubcategoryID\n",
                "    FROM Production.ProductSubcategory\n",
                "    WHERE ProductCategoryID = PC.ProductCategoryID\n",
                "     )) AS ProductsCount\n",
                "FROM SalesAndRatings SAR\n",
                "    INNER JOIN Production.ProductCategory PC ON SAR.ProductCategoryID = PC.ProductCategoryID\n",
                "GROUP BY PC.Name, PC.ProductCategoryID\n",
                "ORDER BY AvgCategorySales DESC;\n",
                "\n",
                "\n",
                "\n",
                "--JSON\n",
                "USE AdventureWorks2017;\n",
                "GO\n",
                "CREATE OR ALTER FUNCTION CalculateAverageRating(@ProductID INT)\n",
                "RETURNS FLOAT\n",
                "AS\n",
                "BEGIN\n",
                "    RETURN (SELECT AVG(CAST(Rating AS FLOAT))\n",
                "    FROM Production.ProductReview\n",
                "    WHERE ProductID = @ProductID)\n",
                "END\n",
                "\n",
                "GO\n",
                "\n",
                "WITH\n",
                "    SalesAndRatings\n",
                "    AS\n",
                "    (\n",
                "        SELECT\n",
                "            P.ProductID,\n",
                "            P.Name,\n",
                "            PSC.ProductSubcategoryID,\n",
                "            PSC.ProductCategoryID,\n",
                "            SUM(SOD.OrderQty * SOD.UnitPrice) AS TotalSales,\n",
                "            dbo.CalculateAverageRating(P.ProductID) AS AverageRating\n",
                "        FROM Sales.SalesOrderDetail SOD\n",
                "            INNER JOIN Production.Product P ON SOD.ProductID = P.ProductID\n",
                "            LEFT JOIN Production.ProductSubcategory PSC ON P.ProductSubcategoryID = PSC.ProductSubcategoryID\n",
                "        GROUP BY P.ProductID, P.Name, PSC.ProductSubcategoryID, PSC.ProductCategoryID\n",
                "    )\n",
                "\n",
                "SELECT\n",
                "    PC.Name AS CategoryName,\n",
                "    AVG(SAR.TotalSales) AS AvgCategorySales,\n",
                "    AVG(SAR.AverageRating) AS AvgCategoryRating,\n",
                "    (SELECT COUNT(DISTINCT ProductID)\n",
                "    FROM Production.Product P\n",
                "    WHERE P.ProductSubcategoryID IN (\n",
                "         SELECT ProductSubcategoryID\n",
                "    FROM Production.ProductSubcategory\n",
                "    WHERE ProductCategoryID = PC.ProductCategoryID\n",
                "     )) AS ProductsCount\n",
                "FROM SalesAndRatings SAR\n",
                "    INNER JOIN Production.ProductCategory PC ON SAR.ProductCategoryID = PC.ProductCategoryID\n",
                "GROUP BY PC.Name, PC.ProductCategoryID\n",
                "ORDER BY AvgCategorySales DESC\n",
                "FOR JSON PATH, ROOT('SalesAndCustomerRatings');\n",
                "\n"
            ],
            "metadata": {
                "azdata_cell_guid": "85608773-bcff-47bb-a61b-f05f4d6e0e56",
                "language": "sql"
            },
            "outputs": [],
            "execution_count": null
        },
        {
            "cell_type": "markdown",
            "source": [
                "* * *\n",
                "\n",
                "**Difficulty:** Complex 3\n",
                "\n",
                "**Proposition:** Categorize sales performance per product within sales territories using a user-defined function to determine sales categories based on total sales.\n",
                "\n",
                "**Function:** dbo.CalculateSalesCategory\n",
                "\n",
                "**Parameters:** @SalesAmount as MONEY (total sales amount for the product).\n",
                "\n",
                "**Returns:** A NVARCHAR(50) string indicating the sales category ('Low', 'Medium', or 'High') based on predefined sales amount thresholds.\n",
                "\n",
                "**Tables and Columns:**\n",
                "\n",
                "dbo.FactResellerSales: ProductKey, SalesAmount, SalesTerritoryKey dbo.DimProduct: ProductKey, EnglishProductName dbo.DimSalesTerritory: SalesTerritoryKey, SalesTerritoryRegion\n",
                "\n",
                "**Predicate:**\n",
                "\n",
                "```\n",
                "WHERE ss.TotalSales > (SELECT AVG(TotalSales) * 1.5 FROM SalesSummary)\n",
                "\n",
                "```\n",
                "\n",
                "This WHERE clause filters the aggregated sales data to only include products whose total sales exceed 150% of the average total sales across all summarized entries, focusing analysis on higher-performing products."
            ],
            "metadata": {
                "azdata_cell_guid": "6c7b8cd9-c1b3-4a27-9220-cf5bdc57a0c8",
                "language": "sql"
            },
            "attachments": {}
        },
        {
            "cell_type": "code",
            "source": [
                "USE AdventureWorksDW2017;\n",
                "GO\n",
                "CREATE OR ALTER FUNCTION dbo.CalculateSalesCategory(@SalesAmount MONEY)\n",
                "RETURNS NVARCHAR(50)\n",
                "AS\n",
                "BEGIN\n",
                "    RETURN CASE\n",
                "        WHEN @SalesAmount < 50000 THEN 'Low'\n",
                "        WHEN @SalesAmount BETWEEN 50000 AND 100000 THEN 'Medium'\n",
                "        ELSE 'High'\n",
                "    END;\n",
                "END;\n",
                "\n",
                "GO\n",
                "\n",
                "WITH\n",
                "    SalesSummary\n",
                "    AS\n",
                "    (\n",
                "        SELECT\n",
                "            p.ProductKey,\n",
                "            p.EnglishProductName,\n",
                "            rs.SalesTerritoryKey,\n",
                "            SUM(rs.SalesAmount) AS TotalSales\n",
                "        FROM\n",
                "            dbo.FactResellerSales rs\n",
                "            INNER JOIN\n",
                "            dbo.DimProduct p ON rs.ProductKey = p.ProductKey\n",
                "        GROUP BY\n",
                "        p.ProductKey, p.EnglishProductName, rs.SalesTerritoryKey\n",
                "    )\n",
                "SELECT\n",
                "    sst.SalesTerritoryRegion,\n",
                "    ss.EnglishProductName,\n",
                "    ss.TotalSales,\n",
                "    dbo.CalculateSalesCategory(ss.TotalSales) AS SalesCategory\n",
                "FROM\n",
                "    SalesSummary ss\n",
                "    INNER JOIN\n",
                "    dbo.DimSalesTerritory sst ON ss.SalesTerritoryKey = sst.SalesTerritoryKey\n",
                "WHERE\n",
                "    ss.TotalSales > (\n",
                "        SELECT AVG(TotalSales) * 1.5\n",
                "FROM SalesSummary\n",
                "    )\n",
                "ORDER BY\n",
                "    ss.TotalSales DESC;\n",
                "\n",
                "\n",
                "\n",
                "--JSON\n",
                "USE AdventureWorksDW2017;\n",
                "GO\n",
                "CREATE OR ALTER FUNCTION dbo.CalculateSalesCategory(@SalesAmount MONEY)\n",
                "RETURNS NVARCHAR(50)\n",
                "AS\n",
                "BEGIN\n",
                "    RETURN CASE\n",
                "        WHEN @SalesAmount < 50000 THEN 'Low'\n",
                "        WHEN @SalesAmount BETWEEN 50000 AND 100000 THEN 'Medium'\n",
                "        ELSE 'High'\n",
                "    END;\n",
                "END;\n",
                "\n",
                "GO\n",
                "\n",
                "WITH\n",
                "    SalesSummary\n",
                "    AS\n",
                "    (\n",
                "        SELECT\n",
                "            p.ProductKey,\n",
                "            p.EnglishProductName,\n",
                "            rs.SalesTerritoryKey,\n",
                "            SUM(rs.SalesAmount) AS TotalSales\n",
                "        FROM\n",
                "            dbo.FactResellerSales rs\n",
                "            INNER JOIN\n",
                "            dbo.DimProduct p ON rs.ProductKey = p.ProductKey\n",
                "        GROUP BY\n",
                "        p.ProductKey, p.EnglishProductName, rs.SalesTerritoryKey\n",
                "    )\n",
                "SELECT\n",
                "    sst.SalesTerritoryRegion,\n",
                "    ss.EnglishProductName,\n",
                "    ss.TotalSales,\n",
                "    dbo.CalculateSalesCategory(ss.TotalSales) AS SalesCategory\n",
                "FROM\n",
                "    SalesSummary ss\n",
                "    INNER JOIN\n",
                "    dbo.DimSalesTerritory sst ON ss.SalesTerritoryKey = sst.SalesTerritoryKey\n",
                "WHERE\n",
                "    ss.TotalSales > (\n",
                "        SELECT AVG(TotalSales) * 1.5\n",
                "FROM SalesSummary\n",
                "    )\n",
                "ORDER BY\n",
                "    ss.TotalSales DESC\n",
                "FOR JSON PATH, ROOT('SalesPerformancePerProduct');\n",
                "\n"
            ],
            "metadata": {
                "azdata_cell_guid": "74ff00a0-3f05-4102-b5ec-e79dd292b033",
                "language": "sql",
                "tags": []
            },
            "outputs": [],
            "execution_count": null
        },
        {
            "cell_type": "markdown",
            "source": [
                "* * *\n",
                "\n",
                "**Difficulty:** Complex 4\n",
                "\n",
                "**Proposition:** Calculate net sales after applying geographical discounts for customers in the United States using a user-defined function for discount calculation.\n",
                "\n",
                "**Function:** dbo.CalculateGeoDiscount\n",
                "\n",
                "**Parameters:** @GeographyKey as INT (identifies the geographical region).\n",
                "\n",
                "**Returns:** The discount percentage as DECIMAL(5, 2), determined by the geography key, with a default discount of 2% and special promotions increasing this to 5% for specified regions.\n",
                "\n",
                "**Tables and Columns:**\n",
                "\n",
                "dbo.DimCustomer: CustomerKey, FirstName, LastName, GeographyKey dbo.FactInternetSales: CustomerKey, SalesAmount dbo.DimGeography: GeographyKey, EnglishCountryRegionName\n",
                "\n",
                "**Predicate:**\n",
                "\n",
                "```\n",
                "WHERE EnglishCountryRegionName LIKE '%United States%'\n",
                "\n",
                "```\n",
                "\n",
                "This predicate filters the dbo.DimGeography table to only return rows where the EnglishCountryRegionName contains 'United States', focusing the analysis on customers within the United States."
            ],
            "metadata": {
                "azdata_cell_guid": "97024fdd-b30c-4401-9d0e-effd66347d95",
                "language": "sql"
            },
            "attachments": {}
        },
        {
            "cell_type": "code",
            "source": [
                "USE AdventureWorksDW2017;\n",
                "GO\n",
                "CREATE OR ALTER FUNCTION dbo.CalculateGeoDiscount(@GeographyKey INT)\n",
                "RETURNS DECIMAL(5, 2)\n",
                "AS\n",
                "BEGIN\n",
                "    DECLARE @DiscountPercent DECIMAL(5, 2) = 2.0;\n",
                "   \n",
                "\n",
                "    IF @GeographyKey IN (1, 2, 3) \n",
                "        SET @DiscountPercent = 5.0;\n",
                "  \n",
                "\n",
                "    RETURN @DiscountPercent;\n",
                "END;\n",
                "GO\n",
                "\n",
                "WITH\n",
                "    SalesByCustomerAndGeo\n",
                "    AS\n",
                "    (\n",
                "        SELECT\n",
                "            cus.CustomerKey,\n",
                "            cus.FirstName,\n",
                "            cus.LastName,\n",
                "            geo.GeographyKey,\n",
                "            geo.EnglishCountryRegionName,\n",
                "            SUM(fis.SalesAmount) AS TotalSalesAmount\n",
                "        FROM dbo.DimCustomer cus\n",
                "            INNER JOIN dbo.FactInternetSales fis ON cus.CustomerKey = fis.CustomerKey\n",
                "            LEFT JOIN dbo.DimGeography geo ON cus.GeographyKey = geo.GeographyKey\n",
                "        GROUP BY cus.CustomerKey, cus.FirstName, cus.LastName, geo.GeographyKey, geo.EnglishCountryRegionName\n",
                "    )\n",
                "SELECT\n",
                "    s.FirstName + ' ' + s.LastName AS CustomerName,\n",
                "    s.EnglishCountryRegionName,\n",
                "    s.TotalSalesAmount,\n",
                "    dbo.CalculateGeoDiscount(s.GeographyKey) AS DiscountPercent,\n",
                "    s.TotalSalesAmount - (s.TotalSalesAmount * dbo.CalculateGeoDiscount(s.GeographyKey) / 100) AS NetSalesAfterDiscount\n",
                "FROM SalesByCustomerAndGeo s\n",
                "WHERE s.GeographyKey IN (\n",
                "    SELECT DISTINCT GeographyKey\n",
                "FROM dbo.DimGeography\n",
                "WHERE EnglishCountryRegionName LIKE '%United States%'\n",
                ")\n",
                "ORDER BY s.TotalSalesAmount DESC;\n",
                "\n",
                "\n",
                "--JSON\n",
                "USE AdventureWorksDW2017;\n",
                "GO\n",
                "CREATE OR ALTER FUNCTION dbo.CalculateGeoDiscount(@GeographyKey INT)\n",
                "RETURNS DECIMAL(5, 2)\n",
                "AS\n",
                "BEGIN\n",
                "    DECLARE @DiscountPercent DECIMAL(5, 2) = 2.0;\n",
                "   \n",
                "\n",
                "    IF @GeographyKey IN (1, 2, 3) \n",
                "        SET @DiscountPercent = 5.0;\n",
                "  \n",
                "\n",
                "    RETURN @DiscountPercent;\n",
                "END;\n",
                "GO\n",
                "\n",
                "WITH\n",
                "    SalesByCustomerAndGeo\n",
                "    AS\n",
                "    (\n",
                "        SELECT\n",
                "            cus.CustomerKey,\n",
                "            cus.FirstName,\n",
                "            cus.LastName,\n",
                "            geo.GeographyKey,\n",
                "            geo.EnglishCountryRegionName,\n",
                "            SUM(fis.SalesAmount) AS TotalSalesAmount\n",
                "        FROM dbo.DimCustomer cus\n",
                "            INNER JOIN dbo.FactInternetSales fis ON cus.CustomerKey = fis.CustomerKey\n",
                "            LEFT JOIN dbo.DimGeography geo ON cus.GeographyKey = geo.GeographyKey\n",
                "        GROUP BY cus.CustomerKey, cus.FirstName, cus.LastName, geo.GeographyKey, geo.EnglishCountryRegionName\n",
                "    )\n",
                "SELECT\n",
                "    s.FirstName + ' ' + s.LastName AS CustomerName,\n",
                "    s.EnglishCountryRegionName,\n",
                "    s.TotalSalesAmount,\n",
                "    dbo.CalculateGeoDiscount(s.GeographyKey) AS DiscountPercent,\n",
                "    s.TotalSalesAmount - (s.TotalSalesAmount * dbo.CalculateGeoDiscount(s.GeographyKey) / 100) AS NetSalesAfterDiscount\n",
                "FROM SalesByCustomerAndGeo s\n",
                "WHERE s.GeographyKey IN (\n",
                "    SELECT DISTINCT GeographyKey\n",
                "FROM dbo.DimGeography\n",
                "WHERE EnglishCountryRegionName LIKE '%United States%'\n",
                ")\n",
                "ORDER BY s.TotalSalesAmount DESC\n",
                "FOR JSON PATH, ROOT('NetSalesAfterGeoDiscount');\n"
            ],
            "metadata": {
                "azdata_cell_guid": "7b429b16-b1f8-4bf1-b07d-9c97aa0a5129",
                "language": "sql",
                "tags": []
            },
            "outputs": [],
            "execution_count": null
        },
        {
            "cell_type": "markdown",
            "source": [
                "* * *\n",
                "\n",
                "**Difficulty:** Complex 5\n",
                "\n",
                "**Proposition:** Apply supplier discounts based on total expected cost of orders placed in the year 2013.\n",
                "\n",
                "**Function:** CalculateSupplierDiscount\n",
                "\n",
                "**Parameters:** @TotalExpectedCost as DECIMAL(18,2) (the total expected cost of orders for a supplier).\n",
                "\n",
                "**Returns:** The discount percentage as DECIMAL(5,2), determined by the total expected cost, with varying rates for different cost thresholds.\n",
                "\n",
                "**Tables and Columns:**\n",
                "\n",
                "Purchasing.PurchaseOrders: SupplierID, OrderDate, PurchaseOrderID Purchasing.PurchaseOrderLines: PurchaseOrderID, ExpectedUnitPricePerOuter, OrderedOuters\n",
                "\n",
                "**Predicate:**\n",
                "\n",
                "```\n",
                "WHERE YEAR(po.OrderDate) = 2013\n",
                "\n",
                "```\n",
                "\n",
                "This predicate filters the Purchasing.PurchaseOrders table to only return orders placed in the year 2013, ensuring that the discount calculations are based on that year's expected costs."
            ],
            "metadata": {
                "azdata_cell_guid": "ee038669-c76b-4eb5-8109-a96641b8da06",
                "language": "sql"
            },
            "attachments": {}
        },
        {
            "cell_type": "code",
            "source": [
                "USE WideWorldimporters;\n",
                "GO\n",
                "CREATE OR ALTER FUNCTION CalculateSupplierDiscount(@TotalExpectedCost DECIMAL(18,2))\n",
                "RETURNS DECIMAL(5,2) AS\n",
                "BEGIN\n",
                "    DECLARE @DiscountRate DECIMAL(5,2);\n",
                "    IF @TotalExpectedCost > 50000 SET @DiscountRate = 7.5;\n",
                "     ELSE IF @TotalExpectedCost > 20000 SET @DiscountRate = 5.0;\n",
                "     ELSE SET @DiscountRate = 2.5;\n",
                "    RETURN @DiscountRate;\n",
                "END\n",
                "GO\n",
                "\n",
                "WITH\n",
                "    ExpectedCosts\n",
                "    AS\n",
                "    (\n",
                "        SELECT\n",
                "            po.SupplierID,\n",
                "            SUM(pol.ExpectedUnitPricePerOuter * pol.OrderedOuters) AS TotalExpectedCost\n",
                "        FROM\n",
                "            Purchasing.PurchaseOrders po\n",
                "            JOIN Purchasing.PurchaseOrderLines pol ON po.PurchaseOrderID = pol.PurchaseOrderID\n",
                "        WHERE\n",
                "        YEAR(po.OrderDate) = 2013\n",
                "        GROUP BY\n",
                "        po.SupplierID\n",
                "    ),\n",
                "    Discounts\n",
                "    AS\n",
                "    (\n",
                "        SELECT\n",
                "            SupplierID,\n",
                "            dbo.CalculateSupplierDiscount(TotalExpectedCost) AS DiscountPercentage\n",
                "        FROM\n",
                "            ExpectedCosts\n",
                "    )\n",
                "\n",
                "SELECT\n",
                "    ec.SupplierID,\n",
                "    ec.TotalExpectedCost,\n",
                "    d.DiscountPercentage,\n",
                "    CAST((ec.TotalExpectedCost * (1 - d.DiscountPercentage / 100)) AS DECIMAL(18,2)) AS TotalAfterDiscount\n",
                "FROM\n",
                "    ExpectedCosts ec\n",
                "    JOIN Discounts d ON ec.SupplierID = d.SupplierID\n",
                "ORDER BY\n",
                "    ec.TotalExpectedCost DESC;\n",
                "\n",
                "\n",
                "--JSON\n",
                "USE WideWorldimporters;\n",
                "GO\n",
                "CREATE OR ALTER FUNCTION CalculateSupplierDiscount(@TotalExpectedCost DECIMAL(18,2))\n",
                "RETURNS DECIMAL(5,2) AS\n",
                "BEGIN\n",
                "    DECLARE @DiscountRate DECIMAL(5,2);\n",
                "    IF @TotalExpectedCost > 50000 SET @DiscountRate = 7.5;\n",
                "     ELSE IF @TotalExpectedCost > 20000 SET @DiscountRate = 5.0;\n",
                "     ELSE SET @DiscountRate = 2.5;\n",
                "    RETURN @DiscountRate;\n",
                "END\n",
                "GO\n",
                "\n",
                "WITH\n",
                "    ExpectedCosts\n",
                "    AS\n",
                "    (\n",
                "        SELECT\n",
                "            po.SupplierID,\n",
                "            SUM(pol.ExpectedUnitPricePerOuter * pol.OrderedOuters) AS TotalExpectedCost\n",
                "        FROM\n",
                "            Purchasing.PurchaseOrders po\n",
                "            JOIN Purchasing.PurchaseOrderLines pol ON po.PurchaseOrderID = pol.PurchaseOrderID\n",
                "        WHERE\n",
                "        YEAR(po.OrderDate) = 2013\n",
                "        GROUP BY\n",
                "        po.SupplierID\n",
                "    ),\n",
                "    Discounts\n",
                "    AS\n",
                "    (\n",
                "        SELECT\n",
                "            SupplierID,\n",
                "            dbo.CalculateSupplierDiscount(TotalExpectedCost) AS DiscountPercentage\n",
                "        FROM\n",
                "            ExpectedCosts\n",
                "    )\n",
                "\n",
                "SELECT\n",
                "    ec.SupplierID,\n",
                "    ec.TotalExpectedCost,\n",
                "    d.DiscountPercentage,\n",
                "    CAST((ec.TotalExpectedCost * (1 - d.DiscountPercentage / 100)) AS DECIMAL(18,2)) AS TotalAfterDiscount\n",
                "FROM\n",
                "    ExpectedCosts ec\n",
                "    JOIN Discounts d ON ec.SupplierID = d.SupplierID\n",
                "ORDER BY\n",
                "    ec.TotalExpectedCost DESC\n",
                "FOR JSON PATH, ROOT('SupplierDiscounts');\n",
                "\n",
                "\n",
                "\n"
            ],
            "metadata": {
                "azdata_cell_guid": "7c5d5729-72ae-4ea8-bf74-50ea7fc3023d",
                "language": "sql"
            },
            "outputs": [],
            "execution_count": null
        },
        {
            "cell_type": "markdown",
            "source": [
                "* * *\n",
                "\n",
                "**Difficulty:** Complex 6\n",
                "\n",
                "**Proposition:** Analyze sales data for a specific period, calculating total and average sales per category with a user-defined function for sales amount calculation.\n",
                "\n",
                "**Function:** dbo.CalculateTotalSalesAmount\n",
                "\n",
                "**Parameters:**\n",
                "\n",
                "@Quantity as INT (quantity of the product sold), @UnitPrice as DECIMAL(18,2) (unit price of the product).\n",
                "\n",
                "**Returns:** The total sales amount as DECIMAL(18,2), calculated by multiplying the quantity sold by the unit price.\n",
                "\n",
                "**Tables and Columns:**\n",
                "\n",
                "Fact.Sale: Quantity, Unit Price, Invoice Date Key, Customer Key, Stock Item Key Dimension.Customer: Customer Key, Category Dimension.\\[Stock Item\\]: Stock Item Key Predicate:\n",
                "\n",
                "```\n",
                "WHERE s.[Invoice Date Key] BETWEEN '2013-01-01' AND '2013-12-31'\n",
                "\n",
                "```\n",
                "\n",
                "This predicate filters the Fact.Sale table to only return rows where the Invoice Date Key is within the year 2013, focusing the analysis on this specific period."
            ],
            "metadata": {
                "azdata_cell_guid": "826f51d3-2e54-47ab-bb8c-d2e4067b8423",
                "language": "sql"
            },
            "attachments": {}
        },
        {
            "cell_type": "code",
            "source": [
                "USE WideWorldImportersDW;\n",
                "GO\n",
                "CREATE OR ALTER FUNCTION dbo.CalculateTotalSalesAmount(@Quantity INT, @UnitPrice DECIMAL(18,2))\n",
                "RETURNS DECIMAL(18,2)\n",
                "AS\n",
                "BEGIN\n",
                "    RETURN @Quantity * @UnitPrice;\n",
                "END;\n",
                "\n",
                "\n",
                "GO\n",
                "\n",
                "WITH\n",
                "    CustomerSales\n",
                "    AS\n",
                "    (\n",
                "        SELECT\n",
                "            c.[Customer Key],\n",
                "            c.Category,\n",
                "            si.[Stock Item Key],\n",
                "            s.[Invoice Date Key],\n",
                "            dbo.CalculateTotalSalesAmount(s.Quantity, s.[Unit Price]) AS TotalSalesAmount\n",
                "        FROM\n",
                "            Fact.Sale s\n",
                "            INNER JOIN Dimension.Customer c ON s.[Customer Key] = c.[Customer Key]\n",
                "            LEFT JOIN Dimension.[Stock Item] si ON s.[Stock Item Key] = si.[Stock Item Key]\n",
                "        WHERE\n",
                "        s.[Invoice Date Key] BETWEEN '2013-01-01' AND '2013-12-31'\n",
                "    ),\n",
                "    AverageSalesPerCategory\n",
                "    AS\n",
                "    (\n",
                "        SELECT\n",
                "            Category,\n",
                "            AVG(TotalSalesAmount) AS AvgSalesAmount\n",
                "        FROM\n",
                "            CustomerSales\n",
                "        GROUP BY\n",
                "        Category\n",
                "    )\n",
                "\n",
                "SELECT\n",
                "    cs.Category,\n",
                "    COUNT(DISTINCT cs.[Stock Item Key]) AS NumberOfDistinctItemsSold,\n",
                "    SUM(cs.TotalSalesAmount) AS TotalSalesByCategory,\n",
                "    (SELECT AvgSalesAmount\n",
                "    FROM AverageSalesPerCategory\n",
                "    WHERE Category = cs.Category) AS AverageSalesAmount\n",
                "FROM\n",
                "    CustomerSales cs\n",
                "GROUP BY\n",
                "    cs.Category;\n",
                "\n",
                "\n",
                "\n",
                "\n",
                "--JSON\n",
                "USE WideWorldImportersDW;\n",
                "GO\n",
                "CREATE OR ALTER FUNCTION dbo.CalculateTotalSalesAmount(@Quantity INT, @UnitPrice DECIMAL(18,2))\n",
                "RETURNS DECIMAL(18,2)\n",
                "AS\n",
                "BEGIN\n",
                "    RETURN @Quantity * @UnitPrice;\n",
                "END;\n",
                "\n",
                "\n",
                "GO\n",
                "\n",
                "WITH\n",
                "    CustomerSales\n",
                "    AS\n",
                "    (\n",
                "        SELECT\n",
                "            c.[Customer Key],\n",
                "            c.Category,\n",
                "            si.[Stock Item Key],\n",
                "            s.[Invoice Date Key],\n",
                "            dbo.CalculateTotalSalesAmount(s.Quantity, s.[Unit Price]) AS TotalSalesAmount\n",
                "        FROM\n",
                "            Fact.Sale s\n",
                "            INNER JOIN Dimension.Customer c ON s.[Customer Key] = c.[Customer Key]\n",
                "            LEFT JOIN Dimension.[Stock Item] si ON s.[Stock Item Key] = si.[Stock Item Key]\n",
                "        WHERE\n",
                "        s.[Invoice Date Key] BETWEEN '2013-01-01' AND '2013-12-31'\n",
                "    ),\n",
                "    AverageSalesPerCategory\n",
                "    AS\n",
                "    (\n",
                "        SELECT\n",
                "            Category,\n",
                "            AVG(TotalSalesAmount) AS AvgSalesAmount\n",
                "        FROM\n",
                "            CustomerSales\n",
                "        GROUP BY\n",
                "        Category\n",
                "    )\n",
                "\n",
                "SELECT\n",
                "    cs.Category,\n",
                "    COUNT(DISTINCT cs.[Stock Item Key]) AS NumberOfDistinctItemsSold,\n",
                "    SUM(cs.TotalSalesAmount) AS TotalSalesByCategory,\n",
                "    (SELECT AvgSalesAmount\n",
                "    FROM AverageSalesPerCategory\n",
                "    WHERE Category = cs.Category) AS AverageSalesAmount\n",
                "FROM\n",
                "    CustomerSales cs\n",
                "GROUP BY\n",
                "    cs.Category\n",
                "FOR JSON PATH, ROOT('TotalAverageSales');\n"
            ],
            "metadata": {
                "azdata_cell_guid": "ec9751d1-b0e9-49ea-a978-776c780629d3",
                "language": "sql"
            },
            "outputs": [],
            "execution_count": null
        }
    ]
}